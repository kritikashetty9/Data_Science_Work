{
 "cells": [
  {
   "cell_type": "code",
   "execution_count": 1,
   "id": "e894fe78-5700-4b1c-ae8c-1fccbef1fc96",
   "metadata": {},
   "outputs": [],
   "source": [
    "import numpy as np\n",
    "import matplotlib.pyplot as plt\n",
    "import pandas as pd\n",
    "import seaborn as sns\n",
    "from sklearn.model_selection import train_test_split\n",
    "from sklearn.svm import SVC\n",
    "from sklearn.metrics import accuracy_score, confusion_matrix, classification_report,recall_score,f1_score,precision_score\n",
    "import warnings\n",
    "warnings.filterwarnings(\"ignore\")"
   ]
  },
  {
   "cell_type": "code",
   "execution_count": 2,
   "id": "170cd09d-6170-4a6b-9768-5cd052889287",
   "metadata": {},
   "outputs": [],
   "source": [
    "df = pd.read_csv(\"Hotel Reservations.csv\")"
   ]
  },
  {
   "cell_type": "markdown",
   "id": "558bf52f-d62c-4ff5-8e4d-ddb1d32053c1",
   "metadata": {},
   "source": [
    "####\n",
    "#### The dataset of \"HOTEL RESERVATION\" includes 'Booking Status' as the target column, and we aim to analyze how \n",
    "#### other features influence it.\n",
    "\n",
    "####"
   ]
  },
  {
   "cell_type": "code",
   "execution_count": 3,
   "id": "8fbf9b11-631e-431c-9bb3-df050a9788c5",
   "metadata": {},
   "outputs": [
    {
     "data": {
      "text/html": [
       "<div>\n",
       "<style scoped>\n",
       "    .dataframe tbody tr th:only-of-type {\n",
       "        vertical-align: middle;\n",
       "    }\n",
       "\n",
       "    .dataframe tbody tr th {\n",
       "        vertical-align: top;\n",
       "    }\n",
       "\n",
       "    .dataframe thead th {\n",
       "        text-align: right;\n",
       "    }\n",
       "</style>\n",
       "<table border=\"1\" class=\"dataframe\">\n",
       "  <thead>\n",
       "    <tr style=\"text-align: right;\">\n",
       "      <th></th>\n",
       "      <th>Booking_ID</th>\n",
       "      <th>no_of_adults</th>\n",
       "      <th>no_of_children</th>\n",
       "      <th>no_of_weekend_nights</th>\n",
       "      <th>no_of_week_nights</th>\n",
       "      <th>type_of_meal_plan</th>\n",
       "      <th>required_car_parking_space</th>\n",
       "      <th>room_type_reserved</th>\n",
       "      <th>lead_time</th>\n",
       "      <th>arrival_year</th>\n",
       "      <th>arrival_month</th>\n",
       "      <th>arrival_date</th>\n",
       "      <th>market_segment_type</th>\n",
       "      <th>repeated_guest</th>\n",
       "      <th>no_of_previous_cancellations</th>\n",
       "      <th>no_of_previous_bookings_not_canceled</th>\n",
       "      <th>avg_price_per_room</th>\n",
       "      <th>no_of_special_requests</th>\n",
       "      <th>booking_status</th>\n",
       "    </tr>\n",
       "  </thead>\n",
       "  <tbody>\n",
       "    <tr>\n",
       "      <th>0</th>\n",
       "      <td>INN00001</td>\n",
       "      <td>2</td>\n",
       "      <td>0</td>\n",
       "      <td>1</td>\n",
       "      <td>2</td>\n",
       "      <td>Meal Plan 1</td>\n",
       "      <td>0</td>\n",
       "      <td>Room_Type 1</td>\n",
       "      <td>224</td>\n",
       "      <td>2017</td>\n",
       "      <td>10</td>\n",
       "      <td>2</td>\n",
       "      <td>Offline</td>\n",
       "      <td>0</td>\n",
       "      <td>0</td>\n",
       "      <td>0</td>\n",
       "      <td>65.00</td>\n",
       "      <td>0</td>\n",
       "      <td>Not_Canceled</td>\n",
       "    </tr>\n",
       "    <tr>\n",
       "      <th>1</th>\n",
       "      <td>INN00002</td>\n",
       "      <td>2</td>\n",
       "      <td>0</td>\n",
       "      <td>2</td>\n",
       "      <td>3</td>\n",
       "      <td>Not Selected</td>\n",
       "      <td>0</td>\n",
       "      <td>Room_Type 1</td>\n",
       "      <td>5</td>\n",
       "      <td>2018</td>\n",
       "      <td>11</td>\n",
       "      <td>6</td>\n",
       "      <td>Online</td>\n",
       "      <td>0</td>\n",
       "      <td>0</td>\n",
       "      <td>0</td>\n",
       "      <td>106.68</td>\n",
       "      <td>1</td>\n",
       "      <td>Not_Canceled</td>\n",
       "    </tr>\n",
       "    <tr>\n",
       "      <th>2</th>\n",
       "      <td>INN00003</td>\n",
       "      <td>1</td>\n",
       "      <td>0</td>\n",
       "      <td>2</td>\n",
       "      <td>1</td>\n",
       "      <td>Meal Plan 1</td>\n",
       "      <td>0</td>\n",
       "      <td>Room_Type 1</td>\n",
       "      <td>1</td>\n",
       "      <td>2018</td>\n",
       "      <td>2</td>\n",
       "      <td>28</td>\n",
       "      <td>Online</td>\n",
       "      <td>0</td>\n",
       "      <td>0</td>\n",
       "      <td>0</td>\n",
       "      <td>60.00</td>\n",
       "      <td>0</td>\n",
       "      <td>Canceled</td>\n",
       "    </tr>\n",
       "    <tr>\n",
       "      <th>3</th>\n",
       "      <td>INN00004</td>\n",
       "      <td>2</td>\n",
       "      <td>0</td>\n",
       "      <td>0</td>\n",
       "      <td>2</td>\n",
       "      <td>Meal Plan 1</td>\n",
       "      <td>0</td>\n",
       "      <td>Room_Type 1</td>\n",
       "      <td>211</td>\n",
       "      <td>2018</td>\n",
       "      <td>5</td>\n",
       "      <td>20</td>\n",
       "      <td>Online</td>\n",
       "      <td>0</td>\n",
       "      <td>0</td>\n",
       "      <td>0</td>\n",
       "      <td>100.00</td>\n",
       "      <td>0</td>\n",
       "      <td>Canceled</td>\n",
       "    </tr>\n",
       "    <tr>\n",
       "      <th>4</th>\n",
       "      <td>INN00005</td>\n",
       "      <td>2</td>\n",
       "      <td>0</td>\n",
       "      <td>1</td>\n",
       "      <td>1</td>\n",
       "      <td>Not Selected</td>\n",
       "      <td>0</td>\n",
       "      <td>Room_Type 1</td>\n",
       "      <td>48</td>\n",
       "      <td>2018</td>\n",
       "      <td>4</td>\n",
       "      <td>11</td>\n",
       "      <td>Online</td>\n",
       "      <td>0</td>\n",
       "      <td>0</td>\n",
       "      <td>0</td>\n",
       "      <td>94.50</td>\n",
       "      <td>0</td>\n",
       "      <td>Canceled</td>\n",
       "    </tr>\n",
       "  </tbody>\n",
       "</table>\n",
       "</div>"
      ],
      "text/plain": [
       "  Booking_ID  no_of_adults  no_of_children  no_of_weekend_nights  \\\n",
       "0   INN00001             2               0                     1   \n",
       "1   INN00002             2               0                     2   \n",
       "2   INN00003             1               0                     2   \n",
       "3   INN00004             2               0                     0   \n",
       "4   INN00005             2               0                     1   \n",
       "\n",
       "   no_of_week_nights type_of_meal_plan  required_car_parking_space  \\\n",
       "0                  2       Meal Plan 1                           0   \n",
       "1                  3      Not Selected                           0   \n",
       "2                  1       Meal Plan 1                           0   \n",
       "3                  2       Meal Plan 1                           0   \n",
       "4                  1      Not Selected                           0   \n",
       "\n",
       "  room_type_reserved  lead_time  arrival_year  arrival_month  arrival_date  \\\n",
       "0        Room_Type 1        224          2017             10             2   \n",
       "1        Room_Type 1          5          2018             11             6   \n",
       "2        Room_Type 1          1          2018              2            28   \n",
       "3        Room_Type 1        211          2018              5            20   \n",
       "4        Room_Type 1         48          2018              4            11   \n",
       "\n",
       "  market_segment_type  repeated_guest  no_of_previous_cancellations  \\\n",
       "0             Offline               0                             0   \n",
       "1              Online               0                             0   \n",
       "2              Online               0                             0   \n",
       "3              Online               0                             0   \n",
       "4              Online               0                             0   \n",
       "\n",
       "   no_of_previous_bookings_not_canceled  avg_price_per_room  \\\n",
       "0                                     0               65.00   \n",
       "1                                     0              106.68   \n",
       "2                                     0               60.00   \n",
       "3                                     0              100.00   \n",
       "4                                     0               94.50   \n",
       "\n",
       "   no_of_special_requests booking_status  \n",
       "0                       0   Not_Canceled  \n",
       "1                       1   Not_Canceled  \n",
       "2                       0       Canceled  \n",
       "3                       0       Canceled  \n",
       "4                       0       Canceled  "
      ]
     },
     "execution_count": 3,
     "metadata": {},
     "output_type": "execute_result"
    }
   ],
   "source": [
    "df.head()"
   ]
  },
  {
   "cell_type": "code",
   "execution_count": 4,
   "id": "bfa26618-ec4c-4a23-9a9b-cb18f705e2ad",
   "metadata": {},
   "outputs": [
    {
     "data": {
      "text/plain": [
       "(36275, 19)"
      ]
     },
     "execution_count": 4,
     "metadata": {},
     "output_type": "execute_result"
    }
   ],
   "source": [
    "df.shape"
   ]
  },
  {
   "cell_type": "markdown",
   "id": "81c36f40-bcd0-40b0-b5d3-46dca73ecd1a",
   "metadata": {},
   "source": [
    "####\n",
    "#### We can see that there are 36275 instances and 19 variables in the data set.\n",
    "\n",
    "####"
   ]
  },
  {
   "cell_type": "code",
   "execution_count": 5,
   "id": "4347ab44-a305-477f-bbee-9315a01647c1",
   "metadata": {},
   "outputs": [
    {
     "data": {
      "text/plain": [
       "Booking_ID                              0\n",
       "no_of_adults                            0\n",
       "no_of_children                          0\n",
       "no_of_weekend_nights                    0\n",
       "no_of_week_nights                       0\n",
       "type_of_meal_plan                       0\n",
       "required_car_parking_space              0\n",
       "room_type_reserved                      0\n",
       "lead_time                               0\n",
       "arrival_year                            0\n",
       "arrival_month                           0\n",
       "arrival_date                            0\n",
       "market_segment_type                     0\n",
       "repeated_guest                          0\n",
       "no_of_previous_cancellations            0\n",
       "no_of_previous_bookings_not_canceled    0\n",
       "avg_price_per_room                      0\n",
       "no_of_special_requests                  0\n",
       "booking_status                          0\n",
       "dtype: int64"
      ]
     },
     "execution_count": 5,
     "metadata": {},
     "output_type": "execute_result"
    }
   ],
   "source": [
    "df.isna().sum()"
   ]
  },
  {
   "cell_type": "markdown",
   "id": "7ec173cd-ec53-4c1a-951f-55d4ae15fcec",
   "metadata": {},
   "source": [
    "####\n",
    "#### We can see that there are no missing values in the dataset.\n",
    "\n",
    "####"
   ]
  },
  {
   "cell_type": "code",
   "execution_count": 6,
   "id": "587b5a29-793c-456e-951f-035e123338e2",
   "metadata": {},
   "outputs": [
    {
     "data": {
      "text/plain": [
       "Booking_ID                              0\n",
       "no_of_adults                            0\n",
       "no_of_children                          0\n",
       "no_of_weekend_nights                    0\n",
       "no_of_week_nights                       0\n",
       "type_of_meal_plan                       0\n",
       "required_car_parking_space              0\n",
       "room_type_reserved                      0\n",
       "lead_time                               0\n",
       "arrival_year                            0\n",
       "arrival_month                           0\n",
       "arrival_date                            0\n",
       "market_segment_type                     0\n",
       "repeated_guest                          0\n",
       "no_of_previous_cancellations            0\n",
       "no_of_previous_bookings_not_canceled    0\n",
       "avg_price_per_room                      0\n",
       "no_of_special_requests                  0\n",
       "booking_status                          0\n",
       "dtype: int64"
      ]
     },
     "execution_count": 6,
     "metadata": {},
     "output_type": "execute_result"
    }
   ],
   "source": [
    "df.isnull().sum()"
   ]
  },
  {
   "cell_type": "markdown",
   "id": "09fa37f1-6b7f-4330-8004-2b44e41e7610",
   "metadata": {},
   "source": [
    "####\n",
    "#### We can observe that there are no null values in the dataset.\n",
    "\n",
    "####"
   ]
  },
  {
   "cell_type": "code",
   "execution_count": 7,
   "id": "b6cca48c-bbf5-43b4-97e9-0f5a08f1f271",
   "metadata": {},
   "outputs": [
    {
     "data": {
      "text/html": [
       "<div>\n",
       "<style scoped>\n",
       "    .dataframe tbody tr th:only-of-type {\n",
       "        vertical-align: middle;\n",
       "    }\n",
       "\n",
       "    .dataframe tbody tr th {\n",
       "        vertical-align: top;\n",
       "    }\n",
       "\n",
       "    .dataframe thead th {\n",
       "        text-align: right;\n",
       "    }\n",
       "</style>\n",
       "<table border=\"1\" class=\"dataframe\">\n",
       "  <thead>\n",
       "    <tr style=\"text-align: right;\">\n",
       "      <th></th>\n",
       "      <th>no_of_adults</th>\n",
       "      <th>no_of_children</th>\n",
       "      <th>no_of_weekend_nights</th>\n",
       "      <th>no_of_week_nights</th>\n",
       "      <th>required_car_parking_space</th>\n",
       "      <th>lead_time</th>\n",
       "      <th>arrival_year</th>\n",
       "      <th>arrival_month</th>\n",
       "      <th>arrival_date</th>\n",
       "      <th>repeated_guest</th>\n",
       "      <th>no_of_previous_cancellations</th>\n",
       "      <th>no_of_previous_bookings_not_canceled</th>\n",
       "      <th>avg_price_per_room</th>\n",
       "      <th>no_of_special_requests</th>\n",
       "    </tr>\n",
       "  </thead>\n",
       "  <tbody>\n",
       "    <tr>\n",
       "      <th>count</th>\n",
       "      <td>36275.000000</td>\n",
       "      <td>36275.000000</td>\n",
       "      <td>36275.000000</td>\n",
       "      <td>36275.000000</td>\n",
       "      <td>36275.000000</td>\n",
       "      <td>36275.000000</td>\n",
       "      <td>36275.000000</td>\n",
       "      <td>36275.000000</td>\n",
       "      <td>36275.000000</td>\n",
       "      <td>36275.000000</td>\n",
       "      <td>36275.000000</td>\n",
       "      <td>36275.000000</td>\n",
       "      <td>36275.000000</td>\n",
       "      <td>36275.000000</td>\n",
       "    </tr>\n",
       "    <tr>\n",
       "      <th>mean</th>\n",
       "      <td>1.844962</td>\n",
       "      <td>0.105279</td>\n",
       "      <td>0.810724</td>\n",
       "      <td>2.204300</td>\n",
       "      <td>0.030986</td>\n",
       "      <td>85.232557</td>\n",
       "      <td>2017.820427</td>\n",
       "      <td>7.423653</td>\n",
       "      <td>15.596995</td>\n",
       "      <td>0.025637</td>\n",
       "      <td>0.023349</td>\n",
       "      <td>0.153411</td>\n",
       "      <td>103.423539</td>\n",
       "      <td>0.619655</td>\n",
       "    </tr>\n",
       "    <tr>\n",
       "      <th>std</th>\n",
       "      <td>0.518715</td>\n",
       "      <td>0.402648</td>\n",
       "      <td>0.870644</td>\n",
       "      <td>1.410905</td>\n",
       "      <td>0.173281</td>\n",
       "      <td>85.930817</td>\n",
       "      <td>0.383836</td>\n",
       "      <td>3.069894</td>\n",
       "      <td>8.740447</td>\n",
       "      <td>0.158053</td>\n",
       "      <td>0.368331</td>\n",
       "      <td>1.754171</td>\n",
       "      <td>35.089424</td>\n",
       "      <td>0.786236</td>\n",
       "    </tr>\n",
       "    <tr>\n",
       "      <th>min</th>\n",
       "      <td>0.000000</td>\n",
       "      <td>0.000000</td>\n",
       "      <td>0.000000</td>\n",
       "      <td>0.000000</td>\n",
       "      <td>0.000000</td>\n",
       "      <td>0.000000</td>\n",
       "      <td>2017.000000</td>\n",
       "      <td>1.000000</td>\n",
       "      <td>1.000000</td>\n",
       "      <td>0.000000</td>\n",
       "      <td>0.000000</td>\n",
       "      <td>0.000000</td>\n",
       "      <td>0.000000</td>\n",
       "      <td>0.000000</td>\n",
       "    </tr>\n",
       "    <tr>\n",
       "      <th>25%</th>\n",
       "      <td>2.000000</td>\n",
       "      <td>0.000000</td>\n",
       "      <td>0.000000</td>\n",
       "      <td>1.000000</td>\n",
       "      <td>0.000000</td>\n",
       "      <td>17.000000</td>\n",
       "      <td>2018.000000</td>\n",
       "      <td>5.000000</td>\n",
       "      <td>8.000000</td>\n",
       "      <td>0.000000</td>\n",
       "      <td>0.000000</td>\n",
       "      <td>0.000000</td>\n",
       "      <td>80.300000</td>\n",
       "      <td>0.000000</td>\n",
       "    </tr>\n",
       "    <tr>\n",
       "      <th>50%</th>\n",
       "      <td>2.000000</td>\n",
       "      <td>0.000000</td>\n",
       "      <td>1.000000</td>\n",
       "      <td>2.000000</td>\n",
       "      <td>0.000000</td>\n",
       "      <td>57.000000</td>\n",
       "      <td>2018.000000</td>\n",
       "      <td>8.000000</td>\n",
       "      <td>16.000000</td>\n",
       "      <td>0.000000</td>\n",
       "      <td>0.000000</td>\n",
       "      <td>0.000000</td>\n",
       "      <td>99.450000</td>\n",
       "      <td>0.000000</td>\n",
       "    </tr>\n",
       "    <tr>\n",
       "      <th>75%</th>\n",
       "      <td>2.000000</td>\n",
       "      <td>0.000000</td>\n",
       "      <td>2.000000</td>\n",
       "      <td>3.000000</td>\n",
       "      <td>0.000000</td>\n",
       "      <td>126.000000</td>\n",
       "      <td>2018.000000</td>\n",
       "      <td>10.000000</td>\n",
       "      <td>23.000000</td>\n",
       "      <td>0.000000</td>\n",
       "      <td>0.000000</td>\n",
       "      <td>0.000000</td>\n",
       "      <td>120.000000</td>\n",
       "      <td>1.000000</td>\n",
       "    </tr>\n",
       "    <tr>\n",
       "      <th>max</th>\n",
       "      <td>4.000000</td>\n",
       "      <td>10.000000</td>\n",
       "      <td>7.000000</td>\n",
       "      <td>17.000000</td>\n",
       "      <td>1.000000</td>\n",
       "      <td>443.000000</td>\n",
       "      <td>2018.000000</td>\n",
       "      <td>12.000000</td>\n",
       "      <td>31.000000</td>\n",
       "      <td>1.000000</td>\n",
       "      <td>13.000000</td>\n",
       "      <td>58.000000</td>\n",
       "      <td>540.000000</td>\n",
       "      <td>5.000000</td>\n",
       "    </tr>\n",
       "  </tbody>\n",
       "</table>\n",
       "</div>"
      ],
      "text/plain": [
       "       no_of_adults  no_of_children  no_of_weekend_nights  no_of_week_nights  \\\n",
       "count  36275.000000    36275.000000          36275.000000       36275.000000   \n",
       "mean       1.844962        0.105279              0.810724           2.204300   \n",
       "std        0.518715        0.402648              0.870644           1.410905   \n",
       "min        0.000000        0.000000              0.000000           0.000000   \n",
       "25%        2.000000        0.000000              0.000000           1.000000   \n",
       "50%        2.000000        0.000000              1.000000           2.000000   \n",
       "75%        2.000000        0.000000              2.000000           3.000000   \n",
       "max        4.000000       10.000000              7.000000          17.000000   \n",
       "\n",
       "       required_car_parking_space     lead_time  arrival_year  arrival_month  \\\n",
       "count                36275.000000  36275.000000  36275.000000   36275.000000   \n",
       "mean                     0.030986     85.232557   2017.820427       7.423653   \n",
       "std                      0.173281     85.930817      0.383836       3.069894   \n",
       "min                      0.000000      0.000000   2017.000000       1.000000   \n",
       "25%                      0.000000     17.000000   2018.000000       5.000000   \n",
       "50%                      0.000000     57.000000   2018.000000       8.000000   \n",
       "75%                      0.000000    126.000000   2018.000000      10.000000   \n",
       "max                      1.000000    443.000000   2018.000000      12.000000   \n",
       "\n",
       "       arrival_date  repeated_guest  no_of_previous_cancellations  \\\n",
       "count  36275.000000    36275.000000                  36275.000000   \n",
       "mean      15.596995        0.025637                      0.023349   \n",
       "std        8.740447        0.158053                      0.368331   \n",
       "min        1.000000        0.000000                      0.000000   \n",
       "25%        8.000000        0.000000                      0.000000   \n",
       "50%       16.000000        0.000000                      0.000000   \n",
       "75%       23.000000        0.000000                      0.000000   \n",
       "max       31.000000        1.000000                     13.000000   \n",
       "\n",
       "       no_of_previous_bookings_not_canceled  avg_price_per_room  \\\n",
       "count                          36275.000000        36275.000000   \n",
       "mean                               0.153411          103.423539   \n",
       "std                                1.754171           35.089424   \n",
       "min                                0.000000            0.000000   \n",
       "25%                                0.000000           80.300000   \n",
       "50%                                0.000000           99.450000   \n",
       "75%                                0.000000          120.000000   \n",
       "max                               58.000000          540.000000   \n",
       "\n",
       "       no_of_special_requests  \n",
       "count            36275.000000  \n",
       "mean                 0.619655  \n",
       "std                  0.786236  \n",
       "min                  0.000000  \n",
       "25%                  0.000000  \n",
       "50%                  0.000000  \n",
       "75%                  1.000000  \n",
       "max                  5.000000  "
      ]
     },
     "execution_count": 7,
     "metadata": {},
     "output_type": "execute_result"
    }
   ],
   "source": [
    "df.describe()"
   ]
  },
  {
   "cell_type": "code",
   "execution_count": 8,
   "id": "a8a4d146-9025-491a-99a2-0682c86ddbb2",
   "metadata": {},
   "outputs": [
    {
     "data": {
      "text/plain": [
       "0"
      ]
     },
     "execution_count": 8,
     "metadata": {},
     "output_type": "execute_result"
    }
   ],
   "source": [
    "df.duplicated().sum()"
   ]
  },
  {
   "cell_type": "markdown",
   "id": "6fd0016d-edb1-45fc-8c38-be502ba5ba0c",
   "metadata": {},
   "source": [
    "####\n",
    "#### We can observe that there are no duplicate values in the dataset.\n",
    "\n",
    "####"
   ]
  },
  {
   "cell_type": "code",
   "execution_count": 9,
   "id": "1cfb0c16-fb7f-4d9d-aa4e-83316d55bc61",
   "metadata": {},
   "outputs": [],
   "source": [
    "df.drop(\"Booking_ID\",axis=1,inplace=True)"
   ]
  },
  {
   "cell_type": "markdown",
   "id": "94b21639-6bd5-4805-8d12-d09b6d202e6b",
   "metadata": {},
   "source": [
    "####\n",
    "#### Booking_ID is removed,because it doesn't give any helpful information.\n",
    "\n",
    "####"
   ]
  },
  {
   "cell_type": "code",
   "execution_count": 10,
   "id": "46469906-0c20-434f-ae3b-94a3c8aca7fe",
   "metadata": {},
   "outputs": [
    {
     "data": {
      "text/plain": [
       "booking_status\n",
       "Not_Canceled    24390\n",
       "Canceled        11885\n",
       "Name: count, dtype: int64"
      ]
     },
     "execution_count": 10,
     "metadata": {},
     "output_type": "execute_result"
    }
   ],
   "source": [
    "df[\"booking_status\"].value_counts()"
   ]
  },
  {
   "cell_type": "code",
   "execution_count": 11,
   "id": "f446008d-7d68-419b-b68f-3a002a21f20a",
   "metadata": {},
   "outputs": [
    {
     "name": "stdout",
     "output_type": "stream",
     "text": [
      "<class 'pandas.core.frame.DataFrame'>\n",
      "RangeIndex: 36275 entries, 0 to 36274\n",
      "Data columns (total 18 columns):\n",
      " #   Column                                Non-Null Count  Dtype  \n",
      "---  ------                                --------------  -----  \n",
      " 0   no_of_adults                          36275 non-null  int64  \n",
      " 1   no_of_children                        36275 non-null  int64  \n",
      " 2   no_of_weekend_nights                  36275 non-null  int64  \n",
      " 3   no_of_week_nights                     36275 non-null  int64  \n",
      " 4   type_of_meal_plan                     36275 non-null  object \n",
      " 5   required_car_parking_space            36275 non-null  int64  \n",
      " 6   room_type_reserved                    36275 non-null  object \n",
      " 7   lead_time                             36275 non-null  int64  \n",
      " 8   arrival_year                          36275 non-null  int64  \n",
      " 9   arrival_month                         36275 non-null  int64  \n",
      " 10  arrival_date                          36275 non-null  int64  \n",
      " 11  market_segment_type                   36275 non-null  object \n",
      " 12  repeated_guest                        36275 non-null  int64  \n",
      " 13  no_of_previous_cancellations          36275 non-null  int64  \n",
      " 14  no_of_previous_bookings_not_canceled  36275 non-null  int64  \n",
      " 15  avg_price_per_room                    36275 non-null  float64\n",
      " 16  no_of_special_requests                36275 non-null  int64  \n",
      " 17  booking_status                        36275 non-null  object \n",
      "dtypes: float64(1), int64(13), object(4)\n",
      "memory usage: 5.0+ MB\n"
     ]
    }
   ],
   "source": [
    "df.info()"
   ]
  },
  {
   "cell_type": "code",
   "execution_count": 12,
   "id": "d58977dd-c93a-4abe-bfce-fd69dacefd0b",
   "metadata": {},
   "outputs": [
    {
     "data": {
      "image/png": "[encoded data removed]",
      "text/plain": [
       "<Figure size 640x480 with 1 Axes>"
      ]
     },
     "metadata": {},
     "output_type": "display_data"
    }
   ],
   "source": [
    "plt.title(\"Arrival date\")\n",
    "sns.countplot(df,x=\"arrival_date\",hue=\"arrival_date\")\n",
    "plt.show()"
   ]
  },
  {
   "cell_type": "markdown",
   "id": "8c01d375-2c1b-4888-8ddb-08f5701afb2d",
   "metadata": {},
   "source": [
    "####\n",
    "#### In above graph,on arrival date 13,there is the highest number of bookings.\n",
    "\n",
    "####"
   ]
  },
  {
   "cell_type": "code",
   "execution_count": 13,
   "id": "95053bf9-936f-4bdf-967f-ff780980d9c3",
   "metadata": {},
   "outputs": [
    {
     "data": {
      "image/png": "[encoded data removed]",
      "text/plain": [
       "<Figure size 640x480 with 1 Axes>"
      ]
     },
     "metadata": {},
     "output_type": "display_data"
    }
   ],
   "source": [
    "plt.title(\"Arrival month\")\n",
    "sns.countplot(df,x=\"arrival_month\",color=\"olive\")\n",
    "plt.show()"
   ]
  },
  {
   "cell_type": "markdown",
   "id": "2ed87c26-203e-49c3-857d-d27b5bce5223",
   "metadata": {},
   "source": [
    "####\n",
    "#### In this graph,the number of bookings is highest in the month of October(i.e-10).\n",
    "\n",
    "####"
   ]
  },
  {
   "cell_type": "code",
   "execution_count": 14,
   "id": "1e5dd666-d6b4-45c7-a386-2fdf56dd2ee5",
   "metadata": {},
   "outputs": [
    {
     "data": {
      "text/plain": [
       "Text(0, 0.5, 'Counting values')"
      ]
     },
     "execution_count": 14,
     "metadata": {},
     "output_type": "execute_result"
    },
    {
     "data": {
      "image/png": "[encoded data removed]",
      "text/plain": [
       "<Figure size 2000x2500 with 4 Axes>"
      ]
     },
     "metadata": {},
     "output_type": "display_data"
    }
   ],
   "source": [
    "plt.figure(figsize = (20,25))\n",
    "plt.subplot(4,2,1)\n",
    "plt.title(\"Room type reserved\")\n",
    "sns.countplot(x=\"room_type_reserved\", palette=\"tab10\",data=df)\n",
    "plt.xlabel(\"Room type reserved\")\n",
    "plt.ylabel(\"Counting values\")\n",
    "\n",
    "plt.subplot(4,2,2)\n",
    "plt.title(\"Arrival Year\")\n",
    "sns.countplot(x=\"arrival_year\",palette=\"tab10\",data=df)\n",
    "plt.xlabel(\"Arrival Year\")\n",
    "plt.ylabel(\"Counting values\")\n",
    "\n",
    "plt.subplot(4,2,3)\n",
    "plt.title(\"Type of meal plan\")\n",
    "sns.countplot(x=\"type_of_meal_plan\",palette=\"tab10\",data=df)\n",
    "plt.xlabel(\"Type of meal plan\")\n",
    "plt.ylabel(\"Counting values\")\n",
    "\n",
    "plt.subplot(4,2,4)\n",
    "plt.title(\"Market segment type\")\n",
    "sns.countplot(x=\"market_segment_type\",palette=\"tab10\",data=df)\n",
    "plt.xlabel(\"Market segment type\")\n",
    "plt.ylabel(\"Counting values\")\n"
   ]
  },
  {
   "cell_type": "markdown",
   "id": "a325d219-b7cd-40a9-8a85-8819fb6589de",
   "metadata": {},
   "source": [
    "####\n",
    "#### In room type reserved we can see room type 1 is reserved more than others.\n",
    "#### We have the most values for 2018.\n",
    "#### In type of meal plan,meal plan 1 is preferred more than others.\n",
    "#### We observe that online market segment type has highest values than others.\n",
    "\n",
    "####"
   ]
  },
  {
   "cell_type": "code",
   "execution_count": 15,
   "id": "364a32e4-d9ca-4d76-afe8-e3f9a909272e",
   "metadata": {},
   "outputs": [
    {
     "data": {
      "text/plain": [
       "Text(0, 0.5, 'Booking status')"
      ]
     },
     "execution_count": 15,
     "metadata": {},
     "output_type": "execute_result"
    },
    {
     "data": {
      "image/png": "[encoded data removed]",
      "text/plain": [
       "<Figure size 640x480 with 1 Axes>"
      ]
     },
     "metadata": {},
     "output_type": "display_data"
    }
   ],
   "source": [
    "plt.title(\"Arrival Date vs Booking status\")\n",
    "sns.countplot(x=df[\"arrival_date\"],hue=df[\"booking_status\"],color=\"r\")\n",
    "plt.xlabel(\"Arrival Date\")\n",
    "plt.ylabel(\"Booking status\")"
   ]
  },
  {
   "cell_type": "markdown",
   "id": "15c10c20-0861-424b-baf6-021a142559b9",
   "metadata": {},
   "source": [
    "####\n",
    "#### We observe that on the 2nd of the month,there is the highest number of non-cancelled hotel reservations, \n",
    "\n",
    "#### whereas on the 15th of the month, there is the highest number of cancelled hotel reservations.\n",
    "\n",
    "####"
   ]
  },
  {
   "cell_type": "code",
   "execution_count": 16,
   "id": "3638dcde-dfea-47b5-ae9a-a4f3e968af02",
   "metadata": {},
   "outputs": [
    {
     "data": {
      "image/png": "[encoded data removed]",
      "text/plain": [
       "<Figure size 640x480 with 2 Axes>"
      ]
     },
     "metadata": {},
     "output_type": "display_data"
    }
   ],
   "source": [
    "plt.title(\"Arrival Month vs Booking status\")\n",
    "sns.heatmap(pd.crosstab(columns=df[\"arrival_month\"],\n",
    "                        index=df[\"booking_status\"]), annot=True, fmt=\"d\", cmap=\"viridis\")\n",
    "plt.show()"
   ]
  },
  {
   "cell_type": "markdown",
   "id": "52118d9e-9cb6-49ad-b6be-27d6b8cc9100",
   "metadata": {},
   "source": [
    "####\n",
    "#### In the month of October,there are the highest numbers of both non-cancelled(3437) and cancelled(1880) hotel \n",
    "\n",
    "#### reservations.\n",
    "\n",
    "####"
   ]
  },
  {
   "cell_type": "code",
   "execution_count": 17,
   "id": "2c1b37c2-57bc-4a99-9c05-11e10b411dcf",
   "metadata": {},
   "outputs": [
    {
     "data": {
      "text/plain": [
       "room_type_reserved\n",
       "Room_Type 1    28130\n",
       "Room_Type 4     6057\n",
       "Room_Type 6      966\n",
       "Room_Type 2      692\n",
       "Room_Type 5      265\n",
       "Room_Type 7      158\n",
       "Room_Type 3        7\n",
       "Name: count, dtype: int64"
      ]
     },
     "execution_count": 17,
     "metadata": {},
     "output_type": "execute_result"
    }
   ],
   "source": [
    "df[\"room_type_reserved\"].value_counts()"
   ]
  },
  {
   "cell_type": "code",
   "execution_count": 18,
   "id": "3b668233-953a-4986-9669-23399d98f54f",
   "metadata": {},
   "outputs": [
    {
     "data": {
      "text/plain": [
       "market_segment_type\n",
       "Online           23214\n",
       "Offline          10528\n",
       "Corporate         2017\n",
       "Complementary      391\n",
       "Aviation           125\n",
       "Name: count, dtype: int64"
      ]
     },
     "execution_count": 18,
     "metadata": {},
     "output_type": "execute_result"
    }
   ],
   "source": [
    "df[\"market_segment_type\"].value_counts()"
   ]
  },
  {
   "cell_type": "code",
   "execution_count": 19,
   "id": "346cb8dd-6e01-4f59-8169-71b2221522b5",
   "metadata": {},
   "outputs": [
    {
     "data": {
      "text/plain": [
       "type_of_meal_plan\n",
       "Meal Plan 1     27835\n",
       "Not Selected     5130\n",
       "Meal Plan 2      3305\n",
       "Meal Plan 3         5\n",
       "Name: count, dtype: int64"
      ]
     },
     "execution_count": 19,
     "metadata": {},
     "output_type": "execute_result"
    }
   ],
   "source": [
    "df[\"type_of_meal_plan\"].value_counts()"
   ]
  },
  {
   "cell_type": "code",
   "execution_count": 20,
   "id": "242d7c9e-8d06-4964-ad8d-235f887d726a",
   "metadata": {},
   "outputs": [],
   "source": [
    "room = {\n",
    "    \"Room_Type 1\": 0,\n",
    "    \"Room_Type 2\": 1,\n",
    "    \"Room_Type 3\": 2,\n",
    "    \"Room_Type 4\": 3,\n",
    "    \"Room_Type 5\": 4,\n",
    "    \"Room_Type 6\": 5,\n",
    "    \"Room_Type 7\": 6\n",
    "}"
   ]
  },
  {
   "cell_type": "code",
   "execution_count": 21,
   "id": "143d5a7b-35b6-4069-88d8-9530f49e7745",
   "metadata": {},
   "outputs": [],
   "source": [
    "df[\"room_type\"] = df[\"room_type_reserved\"].map(room)"
   ]
  },
  {
   "cell_type": "code",
   "execution_count": 22,
   "id": "8c5e9b15-2621-4847-84fa-ca657ed51a8a",
   "metadata": {},
   "outputs": [],
   "source": [
    "meal = {\n",
    "    \"Not Selected\":0,   \n",
    "    \"Meal Plan 1\":1,\n",
    "    \"Meal Plan 2\":2,    \n",
    "    \"Meal Plan 3\":3\n",
    "}"
   ]
  },
  {
   "cell_type": "code",
   "execution_count": 23,
   "id": "8a90e73d-5cd9-419f-9ef1-501520f38ff8",
   "metadata": {},
   "outputs": [],
   "source": [
    "df[\"meal_plan\"] = df[\"type_of_meal_plan\"].map(meal)"
   ]
  },
  {
   "cell_type": "code",
   "execution_count": 24,
   "id": "44f1e315-716f-4b0d-a9bf-fb8c1cab6f91",
   "metadata": {},
   "outputs": [],
   "source": [
    "from sklearn.preprocessing import LabelEncoder"
   ]
  },
  {
   "cell_type": "code",
   "execution_count": 25,
   "id": "25436a75-d59f-4929-b3ea-a4f0406b0c44",
   "metadata": {},
   "outputs": [],
   "source": [
    "le = LabelEncoder()"
   ]
  },
  {
   "cell_type": "code",
   "execution_count": 26,
   "id": "ac3150d1-125b-4a42-85e1-c4528b36d57b",
   "metadata": {},
   "outputs": [],
   "source": [
    "df[\"market_type\"] = le.fit_transform(df[\"market_segment_type\"])"
   ]
  },
  {
   "cell_type": "markdown",
   "id": "8441da6f-295d-492a-a08d-7360cd76aa3f",
   "metadata": {},
   "source": [
    "####\n",
    "#### Here,we have transformed object values into integers using mapping and label encoding techniques.\n",
    "\n",
    "####"
   ]
  },
  {
   "cell_type": "code",
   "execution_count": 27,
   "id": "eb3bb492-2bfe-4885-bc50-eaefcaf74730",
   "metadata": {},
   "outputs": [],
   "source": [
    "df.drop(columns=[\"type_of_meal_plan\"], axis=1, inplace=True)\n",
    "df.drop(columns=[\"room_type_reserved\"], axis=1, inplace=True)\n",
    "df.drop(columns=[\"market_segment_type\"], axis=1, inplace=True)"
   ]
  },
  {
   "cell_type": "markdown",
   "id": "bb84bc81-bfbc-4639-961c-cc0186400291",
   "metadata": {},
   "source": [
    "#### We have dropped the 'Type of meal plan', 'Room type reserved', and 'Market segment type' columns, as we have \n",
    "\n",
    "#### already created corresponding integer columns for them.\n",
    "\n",
    "####"
   ]
  },
  {
   "cell_type": "code",
   "execution_count": 28,
   "id": "c9c7fabb-7b67-448c-b7e7-d59ea3a8f8ae",
   "metadata": {},
   "outputs": [],
   "source": [
    "df[\"booking_status\"] = le.fit_transform(df[\"booking_status\"])"
   ]
  },
  {
   "cell_type": "code",
   "execution_count": 29,
   "id": "ea66b4bf-ac7d-4ec8-8efa-ef300a1d7a13",
   "metadata": {},
   "outputs": [
    {
     "data": {
      "text/html": [
       "<div>\n",
       "<style scoped>\n",
       "    .dataframe tbody tr th:only-of-type {\n",
       "        vertical-align: middle;\n",
       "    }\n",
       "\n",
       "    .dataframe tbody tr th {\n",
       "        vertical-align: top;\n",
       "    }\n",
       "\n",
       "    .dataframe thead th {\n",
       "        text-align: right;\n",
       "    }\n",
       "</style>\n",
       "<table border=\"1\" class=\"dataframe\">\n",
       "  <thead>\n",
       "    <tr style=\"text-align: right;\">\n",
       "      <th></th>\n",
       "      <th>no_of_adults</th>\n",
       "      <th>booking_status</th>\n",
       "    </tr>\n",
       "  </thead>\n",
       "  <tbody>\n",
       "    <tr>\n",
       "      <th>no_of_adults</th>\n",
       "      <td>1.00000</td>\n",
       "      <td>-0.08692</td>\n",
       "    </tr>\n",
       "    <tr>\n",
       "      <th>booking_status</th>\n",
       "      <td>-0.08692</td>\n",
       "      <td>1.00000</td>\n",
       "    </tr>\n",
       "  </tbody>\n",
       "</table>\n",
       "</div>"
      ],
      "text/plain": [
       "                no_of_adults  booking_status\n",
       "no_of_adults         1.00000        -0.08692\n",
       "booking_status      -0.08692         1.00000"
      ]
     },
     "execution_count": 29,
     "metadata": {},
     "output_type": "execute_result"
    }
   ],
   "source": [
    "df[[\"no_of_adults\",\"booking_status\"]].corr(method=\"pearson\")"
   ]
  },
  {
   "cell_type": "markdown",
   "id": "4360c618-7aaf-4635-a9ba-23cf0ac7b984",
   "metadata": {},
   "source": [
    "####\n",
    "#### The correlation coefficient between the 'Number of adults' and 'Booking status',computed using Pearson \n",
    "\n",
    "#### correlation,is approximately -0.08692, suggesting a weak negative linear relationship between the two variables.\n",
    "\n",
    "####"
   ]
  },
  {
   "cell_type": "code",
   "execution_count": 30,
   "id": "2abfc250-c38f-42d8-a27b-88100f88dc00",
   "metadata": {},
   "outputs": [
    {
     "data": {
      "text/html": [
       "<div>\n",
       "<style scoped>\n",
       "    .dataframe tbody tr th:only-of-type {\n",
       "        vertical-align: middle;\n",
       "    }\n",
       "\n",
       "    .dataframe tbody tr th {\n",
       "        vertical-align: top;\n",
       "    }\n",
       "\n",
       "    .dataframe thead th {\n",
       "        text-align: right;\n",
       "    }\n",
       "</style>\n",
       "<table border=\"1\" class=\"dataframe\">\n",
       "  <thead>\n",
       "    <tr style=\"text-align: right;\">\n",
       "      <th></th>\n",
       "      <th>no_of_children</th>\n",
       "      <th>booking_status</th>\n",
       "    </tr>\n",
       "  </thead>\n",
       "  <tbody>\n",
       "    <tr>\n",
       "      <th>no_of_children</th>\n",
       "      <td>1.000000</td>\n",
       "      <td>-0.033078</td>\n",
       "    </tr>\n",
       "    <tr>\n",
       "      <th>booking_status</th>\n",
       "      <td>-0.033078</td>\n",
       "      <td>1.000000</td>\n",
       "    </tr>\n",
       "  </tbody>\n",
       "</table>\n",
       "</div>"
      ],
      "text/plain": [
       "                no_of_children  booking_status\n",
       "no_of_children        1.000000       -0.033078\n",
       "booking_status       -0.033078        1.000000"
      ]
     },
     "execution_count": 30,
     "metadata": {},
     "output_type": "execute_result"
    }
   ],
   "source": [
    "df[[\"no_of_children\",\"booking_status\"]].corr(method=\"pearson\")"
   ]
  },
  {
   "cell_type": "markdown",
   "id": "793db66e-f9e4-4a39-9d2b-7990ed8884ba",
   "metadata": {},
   "source": [
    "####\n",
    "#### The correlation coefficient between the 'Number of children' and 'Booking status' is approximately -0.033078, \n",
    "\n",
    "#### suggesting a weak negative linear relationship between the two variables.\n",
    "\n",
    "####"
   ]
  },
  {
   "cell_type": "code",
   "execution_count": 31,
   "id": "2ec78cf5-1d70-4469-82bb-4c503c3c2b4e",
   "metadata": {},
   "outputs": [
    {
     "data": {
      "text/html": [
       "<div>\n",
       "<style scoped>\n",
       "    .dataframe tbody tr th:only-of-type {\n",
       "        vertical-align: middle;\n",
       "    }\n",
       "\n",
       "    .dataframe tbody tr th {\n",
       "        vertical-align: top;\n",
       "    }\n",
       "\n",
       "    .dataframe thead th {\n",
       "        text-align: right;\n",
       "    }\n",
       "</style>\n",
       "<table border=\"1\" class=\"dataframe\">\n",
       "  <thead>\n",
       "    <tr style=\"text-align: right;\">\n",
       "      <th></th>\n",
       "      <th>no_of_children</th>\n",
       "      <th>avg_price_per_room</th>\n",
       "    </tr>\n",
       "  </thead>\n",
       "  <tbody>\n",
       "    <tr>\n",
       "      <th>no_of_children</th>\n",
       "      <td>1.000000</td>\n",
       "      <td>0.337728</td>\n",
       "    </tr>\n",
       "    <tr>\n",
       "      <th>avg_price_per_room</th>\n",
       "      <td>0.337728</td>\n",
       "      <td>1.000000</td>\n",
       "    </tr>\n",
       "  </tbody>\n",
       "</table>\n",
       "</div>"
      ],
      "text/plain": [
       "                    no_of_children  avg_price_per_room\n",
       "no_of_children            1.000000            0.337728\n",
       "avg_price_per_room        0.337728            1.000000"
      ]
     },
     "execution_count": 31,
     "metadata": {},
     "output_type": "execute_result"
    }
   ],
   "source": [
    "df[[\"no_of_children\",\"avg_price_per_room\"]].corr(method=\"pearson\")"
   ]
  },
  {
   "cell_type": "markdown",
   "id": "b970dc75-6e44-4d4b-9c90-fb2cd51721e2",
   "metadata": {},
   "source": [
    "####\n",
    "#### The correlation coefficient between the 'Number of children' and the 'Average price per room' is approximately \n",
    "\n",
    "#### 0.337728, indicating a moderate positive linear relationship between these two variables.\n",
    "\n",
    "####"
   ]
  },
  {
   "cell_type": "code",
   "execution_count": 32,
   "id": "6f5797f0-d156-443d-a831-6bdb5b76f760",
   "metadata": {},
   "outputs": [
    {
     "data": {
      "text/html": [
       "<div>\n",
       "<style scoped>\n",
       "    .dataframe tbody tr th:only-of-type {\n",
       "        vertical-align: middle;\n",
       "    }\n",
       "\n",
       "    .dataframe tbody tr th {\n",
       "        vertical-align: top;\n",
       "    }\n",
       "\n",
       "    .dataframe thead th {\n",
       "        text-align: right;\n",
       "    }\n",
       "</style>\n",
       "<table border=\"1\" class=\"dataframe\">\n",
       "  <thead>\n",
       "    <tr style=\"text-align: right;\">\n",
       "      <th></th>\n",
       "      <th>no_of_adults</th>\n",
       "      <th>avg_price_per_room</th>\n",
       "    </tr>\n",
       "  </thead>\n",
       "  <tbody>\n",
       "    <tr>\n",
       "      <th>no_of_adults</th>\n",
       "      <td>1.000000</td>\n",
       "      <td>0.296886</td>\n",
       "    </tr>\n",
       "    <tr>\n",
       "      <th>avg_price_per_room</th>\n",
       "      <td>0.296886</td>\n",
       "      <td>1.000000</td>\n",
       "    </tr>\n",
       "  </tbody>\n",
       "</table>\n",
       "</div>"
      ],
      "text/plain": [
       "                    no_of_adults  avg_price_per_room\n",
       "no_of_adults            1.000000            0.296886\n",
       "avg_price_per_room      0.296886            1.000000"
      ]
     },
     "execution_count": 32,
     "metadata": {},
     "output_type": "execute_result"
    }
   ],
   "source": [
    "df[[\"no_of_adults\",\"avg_price_per_room\"]].corr(method=\"pearson\")"
   ]
  },
  {
   "cell_type": "markdown",
   "id": "0eb331f2-1f03-41fa-a42d-ea4d8938d190",
   "metadata": {},
   "source": [
    "####\n",
    "#### The correlation coefficient between the 'Number of adults' and the 'Average price per room' is approximately \n",
    "\n",
    "#### 0.296886, suggesting a moderate positive linear relationship between these two variables.\n",
    "\n",
    "####"
   ]
  },
  {
   "cell_type": "code",
   "execution_count": 33,
   "id": "1354cb20-9ff1-483f-b2a8-a0632f3d868b",
   "metadata": {},
   "outputs": [],
   "source": [
    "df[\"total_guests\"] = df[\"no_of_adults\"] + df[\"no_of_children\"]"
   ]
  },
  {
   "cell_type": "markdown",
   "id": "05335fb0-6a37-4e1c-b305-e5864b1a7a3b",
   "metadata": {},
   "source": [
    "####\n",
    "#### We created a new feature,'total_guests',by summing the number of adults and children, to explore its relationship with booking status.\n",
    "\n",
    "####"
   ]
  },
  {
   "cell_type": "code",
   "execution_count": 34,
   "id": "747dcee8-b951-4b09-847d-15bb148f7b6a",
   "metadata": {},
   "outputs": [],
   "source": [
    "df.drop(columns=[\"no_of_adults\"], axis=1, inplace=True)\n",
    "df.drop(columns=[\"no_of_children\"], axis=1, inplace=True)"
   ]
  },
  {
   "cell_type": "code",
   "execution_count": 35,
   "id": "15adb3cc-4b7e-4034-ad74-a504b991201b",
   "metadata": {},
   "outputs": [
    {
     "data": {
      "text/html": [
       "<div>\n",
       "<style scoped>\n",
       "    .dataframe tbody tr th:only-of-type {\n",
       "        vertical-align: middle;\n",
       "    }\n",
       "\n",
       "    .dataframe tbody tr th {\n",
       "        vertical-align: top;\n",
       "    }\n",
       "\n",
       "    .dataframe thead th {\n",
       "        text-align: right;\n",
       "    }\n",
       "</style>\n",
       "<table border=\"1\" class=\"dataframe\">\n",
       "  <thead>\n",
       "    <tr style=\"text-align: right;\">\n",
       "      <th></th>\n",
       "      <th>total_guests</th>\n",
       "      <th>avg_price_per_room</th>\n",
       "    </tr>\n",
       "  </thead>\n",
       "  <tbody>\n",
       "    <tr>\n",
       "      <th>total_guests</th>\n",
       "      <td>1.000000</td>\n",
       "      <td>0.445906</td>\n",
       "    </tr>\n",
       "    <tr>\n",
       "      <th>avg_price_per_room</th>\n",
       "      <td>0.445906</td>\n",
       "      <td>1.000000</td>\n",
       "    </tr>\n",
       "  </tbody>\n",
       "</table>\n",
       "</div>"
      ],
      "text/plain": [
       "                    total_guests  avg_price_per_room\n",
       "total_guests            1.000000            0.445906\n",
       "avg_price_per_room      0.445906            1.000000"
      ]
     },
     "execution_count": 35,
     "metadata": {},
     "output_type": "execute_result"
    }
   ],
   "source": [
    "df[[\"total_guests\",\"avg_price_per_room\"]].corr(method=\"pearson\")"
   ]
  },
  {
   "cell_type": "markdown",
   "id": "2eda0e8b-ad51-43b0-8ce0-2a3b41c75743",
   "metadata": {},
   "source": [
    "####\n",
    "#### The correlation coefficient between the 'Total number of guests' and the 'Average price per room' is \n",
    "\n",
    "#### approximately 0.445906, indicating a moderate positive linear relationship between these two variables.\n",
    "\n",
    "####"
   ]
  },
  {
   "cell_type": "code",
   "execution_count": 36,
   "id": "56ede669-0606-4450-bffc-f7c5756ae74b",
   "metadata": {},
   "outputs": [
    {
     "data": {
      "text/plain": [
       "<Axes: >"
      ]
     },
     "execution_count": 36,
     "metadata": {},
     "output_type": "execute_result"
    },
    {
     "data": {
      "image/png": "[encoded data removed]",
      "text/plain": [
       "<Figure size 640x480 with 1 Axes>"
      ]
     },
     "metadata": {},
     "output_type": "display_data"
    }
   ],
   "source": [
    "df[\"lead_time\"].plot.box()"
   ]
  },
  {
   "cell_type": "markdown",
   "id": "1c484796-3238-4560-8fde-071187b8efe7",
   "metadata": {},
   "source": [
    "####\n",
    "#### Here, we can observe outliers in the lead time. \n",
    "\n",
    "####"
   ]
  },
  {
   "cell_type": "code",
   "execution_count": 37,
   "id": "77a890bd-06ea-47ba-b3b7-61c3566659d1",
   "metadata": {},
   "outputs": [
    {
     "data": {
      "text/html": [
       "<div>\n",
       "<style scoped>\n",
       "    .dataframe tbody tr th:only-of-type {\n",
       "        vertical-align: middle;\n",
       "    }\n",
       "\n",
       "    .dataframe tbody tr th {\n",
       "        vertical-align: top;\n",
       "    }\n",
       "\n",
       "    .dataframe thead th {\n",
       "        text-align: right;\n",
       "    }\n",
       "</style>\n",
       "<table border=\"1\" class=\"dataframe\">\n",
       "  <thead>\n",
       "    <tr style=\"text-align: right;\">\n",
       "      <th></th>\n",
       "      <th>lead_time</th>\n",
       "      <th>avg_price_per_room</th>\n",
       "    </tr>\n",
       "  </thead>\n",
       "  <tbody>\n",
       "    <tr>\n",
       "      <th>lead_time</th>\n",
       "      <td>1.000000</td>\n",
       "      <td>-0.062596</td>\n",
       "    </tr>\n",
       "    <tr>\n",
       "      <th>avg_price_per_room</th>\n",
       "      <td>-0.062596</td>\n",
       "      <td>1.000000</td>\n",
       "    </tr>\n",
       "  </tbody>\n",
       "</table>\n",
       "</div>"
      ],
      "text/plain": [
       "                    lead_time  avg_price_per_room\n",
       "lead_time            1.000000           -0.062596\n",
       "avg_price_per_room  -0.062596            1.000000"
      ]
     },
     "execution_count": 37,
     "metadata": {},
     "output_type": "execute_result"
    }
   ],
   "source": [
    "df[[\"lead_time\",\"avg_price_per_room\"]].corr(method=\"pearson\")"
   ]
  },
  {
   "cell_type": "markdown",
   "id": "ecbc2d17-0da5-4e18-9c96-8d9cded00c66",
   "metadata": {},
   "source": [
    "####\n",
    "#### The correlation matrix shows that there is a weak negative correlation (-0.062596) between 'Lead time' and \n",
    "\n",
    "#### 'Average price per room'.\n",
    "\n",
    "####"
   ]
  },
  {
   "cell_type": "code",
   "execution_count": 38,
   "id": "c3fdbf8c-ddd7-4cdf-b6b4-46c8920376fa",
   "metadata": {},
   "outputs": [
    {
     "data": {
      "text/html": [
       "<div>\n",
       "<style scoped>\n",
       "    .dataframe tbody tr th:only-of-type {\n",
       "        vertical-align: middle;\n",
       "    }\n",
       "\n",
       "    .dataframe tbody tr th {\n",
       "        vertical-align: top;\n",
       "    }\n",
       "\n",
       "    .dataframe thead th {\n",
       "        text-align: right;\n",
       "    }\n",
       "</style>\n",
       "<table border=\"1\" class=\"dataframe\">\n",
       "  <thead>\n",
       "    <tr style=\"text-align: right;\">\n",
       "      <th></th>\n",
       "      <th>lead_time</th>\n",
       "      <th>booking_status</th>\n",
       "    </tr>\n",
       "  </thead>\n",
       "  <tbody>\n",
       "    <tr>\n",
       "      <th>lead_time</th>\n",
       "      <td>1.000000</td>\n",
       "      <td>-0.438538</td>\n",
       "    </tr>\n",
       "    <tr>\n",
       "      <th>booking_status</th>\n",
       "      <td>-0.438538</td>\n",
       "      <td>1.000000</td>\n",
       "    </tr>\n",
       "  </tbody>\n",
       "</table>\n",
       "</div>"
      ],
      "text/plain": [
       "                lead_time  booking_status\n",
       "lead_time        1.000000       -0.438538\n",
       "booking_status  -0.438538        1.000000"
      ]
     },
     "execution_count": 38,
     "metadata": {},
     "output_type": "execute_result"
    }
   ],
   "source": [
    "df[[\"lead_time\",\"booking_status\"]].corr(method=\"pearson\")"
   ]
  },
  {
   "cell_type": "markdown",
   "id": "f869d365-84c1-4c22-a9b9-53e3fbb3f047",
   "metadata": {},
   "source": [
    "####\n",
    "#### The correlation matrix indicates a moderate negative correlation (-0.438538) between 'Lead time' and 'Booking status'.\n",
    "\n",
    "####"
   ]
  },
  {
   "cell_type": "code",
   "execution_count": 39,
   "id": "019b3287-692d-4912-b8d4-49a78b4be44f",
   "metadata": {},
   "outputs": [
    {
     "data": {
      "text/html": [
       "<div>\n",
       "<style scoped>\n",
       "    .dataframe tbody tr th:only-of-type {\n",
       "        vertical-align: middle;\n",
       "    }\n",
       "\n",
       "    .dataframe tbody tr th {\n",
       "        vertical-align: top;\n",
       "    }\n",
       "\n",
       "    .dataframe thead th {\n",
       "        text-align: right;\n",
       "    }\n",
       "</style>\n",
       "<table border=\"1\" class=\"dataframe\">\n",
       "  <thead>\n",
       "    <tr style=\"text-align: right;\">\n",
       "      <th></th>\n",
       "      <th>arrival_year</th>\n",
       "      <th>booking_status</th>\n",
       "    </tr>\n",
       "  </thead>\n",
       "  <tbody>\n",
       "    <tr>\n",
       "      <th>arrival_year</th>\n",
       "      <td>1.000000</td>\n",
       "      <td>-0.179529</td>\n",
       "    </tr>\n",
       "    <tr>\n",
       "      <th>booking_status</th>\n",
       "      <td>-0.179529</td>\n",
       "      <td>1.000000</td>\n",
       "    </tr>\n",
       "  </tbody>\n",
       "</table>\n",
       "</div>"
      ],
      "text/plain": [
       "                arrival_year  booking_status\n",
       "arrival_year        1.000000       -0.179529\n",
       "booking_status     -0.179529        1.000000"
      ]
     },
     "execution_count": 39,
     "metadata": {},
     "output_type": "execute_result"
    }
   ],
   "source": [
    "df[[\"arrival_year\",\"booking_status\"]].corr(method=\"pearson\")"
   ]
  },
  {
   "cell_type": "markdown",
   "id": "02286e81-a999-44d2-8230-4134a4fc0c6f",
   "metadata": {},
   "source": [
    "####\n",
    "#### The correlation matrix displays a weak negative correlation (-0.179529) between 'Arrival year' and 'Booking status'.\n",
    "\n",
    "####"
   ]
  },
  {
   "cell_type": "code",
   "execution_count": 40,
   "id": "bd4cd5dd-2c76-439a-abf9-252ea7b0c0b3",
   "metadata": {},
   "outputs": [
    {
     "data": {
      "text/html": [
       "<div>\n",
       "<style scoped>\n",
       "    .dataframe tbody tr th:only-of-type {\n",
       "        vertical-align: middle;\n",
       "    }\n",
       "\n",
       "    .dataframe tbody tr th {\n",
       "        vertical-align: top;\n",
       "    }\n",
       "\n",
       "    .dataframe thead th {\n",
       "        text-align: right;\n",
       "    }\n",
       "</style>\n",
       "<table border=\"1\" class=\"dataframe\">\n",
       "  <thead>\n",
       "    <tr style=\"text-align: right;\">\n",
       "      <th></th>\n",
       "      <th>arrival_year</th>\n",
       "      <th>avg_price_per_room</th>\n",
       "    </tr>\n",
       "  </thead>\n",
       "  <tbody>\n",
       "    <tr>\n",
       "      <th>arrival_year</th>\n",
       "      <td>1.000000</td>\n",
       "      <td>0.178605</td>\n",
       "    </tr>\n",
       "    <tr>\n",
       "      <th>avg_price_per_room</th>\n",
       "      <td>0.178605</td>\n",
       "      <td>1.000000</td>\n",
       "    </tr>\n",
       "  </tbody>\n",
       "</table>\n",
       "</div>"
      ],
      "text/plain": [
       "                    arrival_year  avg_price_per_room\n",
       "arrival_year            1.000000            0.178605\n",
       "avg_price_per_room      0.178605            1.000000"
      ]
     },
     "execution_count": 40,
     "metadata": {},
     "output_type": "execute_result"
    }
   ],
   "source": [
    "df[[\"arrival_year\",\"avg_price_per_room\"]].corr(method=\"pearson\")"
   ]
  },
  {
   "cell_type": "markdown",
   "id": "01214a7d-84d9-4cd4-a7af-0bad6f2943a3",
   "metadata": {},
   "source": [
    "####\n",
    "#### The correlation matrix reveals a weak positive correlation (0.178605) between 'Arrival year' and 'Average price per room'.\n",
    "\n",
    "####"
   ]
  },
  {
   "cell_type": "code",
   "execution_count": 41,
   "id": "8d14d84c-29f8-4c18-8598-cc6e7501dc74",
   "metadata": {},
   "outputs": [],
   "source": [
    "df.drop(columns=[\"lead_time\"], axis=1, inplace=True)\n",
    "df.drop(columns=[\"arrival_year\"], axis=1, inplace=True)"
   ]
  },
  {
   "cell_type": "markdown",
   "id": "bdd18e5d-0641-4c0b-99c5-f8ead12ecb49",
   "metadata": {},
   "source": [
    "####\n",
    "#### We have dropped the 'Lead time' & 'Arrival year' columns,as we cannot see any relation with 'Booking status' \n",
    "\n",
    "#### and 'Average price per room.'\n",
    "\n",
    "####"
   ]
  },
  {
   "cell_type": "code",
   "execution_count": 42,
   "id": "3af74d23-0f71-4aed-abb6-af2fcc6b3029",
   "metadata": {},
   "outputs": [
    {
     "name": "stdout",
     "output_type": "stream",
     "text": [
      "<class 'pandas.core.frame.DataFrame'>\n",
      "RangeIndex: 36275 entries, 0 to 36274\n",
      "Data columns (total 15 columns):\n",
      " #   Column                                Non-Null Count  Dtype  \n",
      "---  ------                                --------------  -----  \n",
      " 0   no_of_weekend_nights                  36275 non-null  int64  \n",
      " 1   no_of_week_nights                     36275 non-null  int64  \n",
      " 2   required_car_parking_space            36275 non-null  int64  \n",
      " 3   arrival_month                         36275 non-null  int64  \n",
      " 4   arrival_date                          36275 non-null  int64  \n",
      " 5   repeated_guest                        36275 non-null  int64  \n",
      " 6   no_of_previous_cancellations          36275 non-null  int64  \n",
      " 7   no_of_previous_bookings_not_canceled  36275 non-null  int64  \n",
      " 8   avg_price_per_room                    36275 non-null  float64\n",
      " 9   no_of_special_requests                36275 non-null  int64  \n",
      " 10  booking_status                        36275 non-null  int32  \n",
      " 11  room_type                             36275 non-null  int64  \n",
      " 12  meal_plan                             36275 non-null  int64  \n",
      " 13  market_type                           36275 non-null  int32  \n",
      " 14  total_guests                          36275 non-null  int64  \n",
      "dtypes: float64(1), int32(2), int64(12)\n",
      "memory usage: 3.9 MB\n"
     ]
    }
   ],
   "source": [
    "df.info()"
   ]
  },
  {
   "cell_type": "markdown",
   "id": "7371432e-3c2d-498c-ad7c-1e7e771fe06f",
   "metadata": {},
   "source": [
    "####\n",
    "#### After analyzing,we have a dataset consisting of 36275 instances and 15  variables.\n",
    "\n",
    "####"
   ]
  },
  {
   "cell_type": "markdown",
   "id": "6fc4a177-60d8-4ab0-bea3-44159e6a179d",
   "metadata": {},
   "source": [
    "## MODELS\n",
    "\n",
    "####"
   ]
  },
  {
   "cell_type": "code",
   "execution_count": 43,
   "id": "cc05b989-18d1-4292-aec7-a9189145e92d",
   "metadata": {},
   "outputs": [],
   "source": [
    "X = df.drop([\"booking_status\"],axis=1)\n",
    "Y = df[\"booking_status\"]"
   ]
  },
  {
   "cell_type": "code",
   "execution_count": 44,
   "id": "dfc24f88-2ae5-4949-9efe-1425d1b1b12e",
   "metadata": {},
   "outputs": [
    {
     "data": {
      "text/plain": [
       "(36275, 14)"
      ]
     },
     "execution_count": 44,
     "metadata": {},
     "output_type": "execute_result"
    }
   ],
   "source": [
    "X.shape"
   ]
  },
  {
   "cell_type": "code",
   "execution_count": 45,
   "id": "ba032ba9-6017-4a69-818b-d907d011f087",
   "metadata": {},
   "outputs": [
    {
     "data": {
      "text/plain": [
       "(36275,)"
      ]
     },
     "execution_count": 45,
     "metadata": {},
     "output_type": "execute_result"
    }
   ],
   "source": [
    "Y.shape"
   ]
  },
  {
   "cell_type": "code",
   "execution_count": 46,
   "id": "f4a5d8e4-d29a-459d-bd67-a247886ad877",
   "metadata": {},
   "outputs": [],
   "source": [
    "X_train,X_test,Y_train,Y_test = train_test_split(X,Y,train_size=0.75,random_state=42)"
   ]
  },
  {
   "cell_type": "code",
   "execution_count": 47,
   "id": "b4e2f67d-2a96-4412-9f59-544d89adbf5d",
   "metadata": {},
   "outputs": [
    {
     "data": {
      "text/plain": [
       "(27206, 14)"
      ]
     },
     "execution_count": 47,
     "metadata": {},
     "output_type": "execute_result"
    }
   ],
   "source": [
    "X_train.shape"
   ]
  },
  {
   "cell_type": "code",
   "execution_count": 48,
   "id": "f94275a6-878c-4be4-9977-1f2d18e4dde3",
   "metadata": {},
   "outputs": [
    {
     "data": {
      "text/plain": [
       "(9069, 14)"
      ]
     },
     "execution_count": 48,
     "metadata": {},
     "output_type": "execute_result"
    }
   ],
   "source": [
    "X_test.shape"
   ]
  },
  {
   "cell_type": "markdown",
   "id": "2763ea6d-832b-4f52-8ef5-d30209a70bfc",
   "metadata": {},
   "source": [
    "####\n",
    "##  Support Vector Machine:\n",
    "#### Using Support Vector Machine can handle outliers by paying attention to the general patterns in the data and \n",
    "\n",
    "#### not letting individual unusual points have too much influence.\n",
    "\n",
    "####"
   ]
  },
  {
   "cell_type": "code",
   "execution_count": 49,
   "id": "77703d00-993f-4f7d-9ead-ece3bee34515",
   "metadata": {},
   "outputs": [],
   "source": [
    "from sklearn.preprocessing import StandardScaler"
   ]
  },
  {
   "cell_type": "code",
   "execution_count": 50,
   "id": "ae53700b-aa9e-4a40-a2dc-612e029f1294",
   "metadata": {},
   "outputs": [],
   "source": [
    "scaler = StandardScaler()"
   ]
  },
  {
   "cell_type": "code",
   "execution_count": 51,
   "id": "800e23d0-ca16-4855-802d-b8291523503d",
   "metadata": {},
   "outputs": [],
   "source": [
    "X_train = scaler.fit_transform(X_train)"
   ]
  },
  {
   "cell_type": "code",
   "execution_count": 52,
   "id": "1a923bcf-fc68-45fa-8ea0-01565e221acf",
   "metadata": {},
   "outputs": [],
   "source": [
    "X_test = scaler.transform(X_test)"
   ]
  },
  {
   "cell_type": "markdown",
   "id": "30890d1b-84a9-4f61-9b92-00fe5ead491a",
   "metadata": {},
   "source": [
    "####\n",
    "#### Here we are using 'linear' as kernel.\n",
    "\n",
    "####"
   ]
  },
  {
   "cell_type": "code",
   "execution_count": 53,
   "id": "b220fe82-c279-4686-9411-eef9f06be016",
   "metadata": {},
   "outputs": [],
   "source": [
    "svc = SVC(kernel=\"linear\")"
   ]
  },
  {
   "cell_type": "code",
   "execution_count": 54,
   "id": "bcacf369-9d0a-4daa-ae75-e681e6e9e0d1",
   "metadata": {},
   "outputs": [
    {
     "data": {
      "text/html": [
       "<style>#sk-container-id-1 {color: black;}#sk-container-id-1 pre{padding: 0;}#sk-container-id-1 div.sk-toggleable {background-color: white;}#sk-container-id-1 label.sk-toggleable__label {cursor: pointer;display: block;width: 100%;margin-bottom: 0;padding: 0.3em;box-sizing: border-box;text-align: center;}#sk-container-id-1 label.sk-toggleable__label-arrow:before {content: \"▸\";float: left;margin-right: 0.25em;color: #696969;}#sk-container-id-1 label.sk-toggleable__label-arrow:hover:before {color: black;}#sk-container-id-1 div.sk-estimator:hover label.sk-toggleable__label-arrow:before {color: black;}#sk-container-id-1 div.sk-toggleable__content {max-height: 0;max-width: 0;overflow: hidden;text-align: left;background-color: #f0f8ff;}#sk-container-id-1 div.sk-toggleable__content pre {margin: 0.2em;color: black;border-radius: 0.25em;background-color: #f0f8ff;}#sk-container-id-1 input.sk-toggleable__control:checked~div.sk-toggleable__content {max-height: 200px;max-width: 100%;overflow: auto;}#sk-container-id-1 input.sk-toggleable__control:checked~label.sk-toggleable__label-arrow:before {content: \"▾\";}#sk-container-id-1 div.sk-estimator input.sk-toggleable__control:checked~label.sk-toggleable__label {background-color: #d4ebff;}#sk-container-id-1 div.sk-label input.sk-toggleable__control:checked~label.sk-toggleable__label {background-color: #d4ebff;}#sk-container-id-1 input.sk-hidden--visually {border: 0;clip: rect(1px 1px 1px 1px);clip: rect(1px, 1px, 1px, 1px);height: 1px;margin: -1px;overflow: hidden;padding: 0;position: absolute;width: 1px;}#sk-container-id-1 div.sk-estimator {font-family: monospace;background-color: #f0f8ff;border: 1px dotted black;border-radius: 0.25em;box-sizing: border-box;margin-bottom: 0.5em;}#sk-container-id-1 div.sk-estimator:hover {background-color: #d4ebff;}#sk-container-id-1 div.sk-parallel-item::after {content: \"\";width: 100%;border-bottom: 1px solid gray;flex-grow: 1;}#sk-container-id-1 div.sk-label:hover label.sk-toggleable__label {background-color: #d4ebff;}#sk-container-id-1 div.sk-serial::before {content: \"\";position: absolute;border-left: 1px solid gray;box-sizing: border-box;top: 0;bottom: 0;left: 50%;z-index: 0;}#sk-container-id-1 div.sk-serial {display: flex;flex-direction: column;align-items: center;background-color: white;padding-right: 0.2em;padding-left: 0.2em;position: relative;}#sk-container-id-1 div.sk-item {position: relative;z-index: 1;}#sk-container-id-1 div.sk-parallel {display: flex;align-items: stretch;justify-content: center;background-color: white;position: relative;}#sk-container-id-1 div.sk-item::before, #sk-container-id-1 div.sk-parallel-item::before {content: \"\";position: absolute;border-left: 1px solid gray;box-sizing: border-box;top: 0;bottom: 0;left: 50%;z-index: -1;}#sk-container-id-1 div.sk-parallel-item {display: flex;flex-direction: column;z-index: 1;position: relative;background-color: white;}#sk-container-id-1 div.sk-parallel-item:first-child::after {align-self: flex-end;width: 50%;}#sk-container-id-1 div.sk-parallel-item:last-child::after {align-self: flex-start;width: 50%;}#sk-container-id-1 div.sk-parallel-item:only-child::after {width: 0;}#sk-container-id-1 div.sk-dashed-wrapped {border: 1px dashed gray;margin: 0 0.4em 0.5em 0.4em;box-sizing: border-box;padding-bottom: 0.4em;background-color: white;}#sk-container-id-1 div.sk-label label {font-family: monospace;font-weight: bold;display: inline-block;line-height: 1.2em;}#sk-container-id-1 div.sk-label-container {text-align: center;}#sk-container-id-1 div.sk-container {/* jupyter's `normalize.less` sets `[hidden] { display: none; }` but bootstrap.min.css set `[hidden] { display: none !important; }` so we also need the `!important` here to be able to override the default hidden behavior on the sphinx rendered scikit-learn.org. See: https://github.com/scikit-learn/scikit-learn/issues/21755 */display: inline-block !important;position: relative;}#sk-container-id-1 div.sk-text-repr-fallback {display: none;}</style><div id=\"sk-container-id-1\" class=\"sk-top-container\"><div class=\"sk-text-repr-fallback\"><pre>SVC(kernel=&#x27;linear&#x27;)</pre><b>In a Jupyter environment, please rerun this cell to show the HTML representation or trust the notebook. <br />On GitHub, the HTML representation is unable to render, please try loading this page with nbviewer.org.</b></div><div class=\"sk-container\" hidden><div class=\"sk-item\"><div class=\"sk-estimator sk-toggleable\"><input class=\"sk-toggleable__control sk-hidden--visually\" id=\"sk-estimator-id-1\" type=\"checkbox\" checked><label for=\"sk-estimator-id-1\" class=\"sk-toggleable__label sk-toggleable__label-arrow\">SVC</label><div class=\"sk-toggleable__content\"><pre>SVC(kernel=&#x27;linear&#x27;)</pre></div></div></div></div></div>"
      ],
      "text/plain": [
       "SVC(kernel='linear')"
      ]
     },
     "execution_count": 54,
     "metadata": {},
     "output_type": "execute_result"
    }
   ],
   "source": [
    "svc.fit(X_train, Y_train)"
   ]
  },
  {
   "cell_type": "code",
   "execution_count": 55,
   "id": "a57beaf4-4212-4087-8a7b-b7cdef740244",
   "metadata": {},
   "outputs": [
    {
     "data": {
      "text/plain": [
       "0.7334779092847166"
      ]
     },
     "execution_count": 55,
     "metadata": {},
     "output_type": "execute_result"
    }
   ],
   "source": [
    "svc.score(X_train, Y_train)"
   ]
  },
  {
   "cell_type": "markdown",
   "id": "f0ca59a4-1b39-49a0-9d4a-5d312089c1db",
   "metadata": {},
   "source": [
    "####\n",
    "#### The model score of SVM is 0.7334779092847166.\n",
    "\n",
    "####"
   ]
  },
  {
   "cell_type": "code",
   "execution_count": 56,
   "id": "076818c5-ab00-426c-86b5-d087a4284e11",
   "metadata": {},
   "outputs": [],
   "source": [
    "y_pred = svc.predict(X_test)"
   ]
  },
  {
   "cell_type": "code",
   "execution_count": 57,
   "id": "f64ec5f0-4f7d-48bb-9c4c-2e29a8e46eca",
   "metadata": {},
   "outputs": [],
   "source": [
    "a1 = accuracy_score(Y_test, y_pred)"
   ]
  },
  {
   "cell_type": "code",
   "execution_count": 58,
   "id": "29412053-da83-41b9-9d2b-f3554f9c53f7",
   "metadata": {},
   "outputs": [],
   "source": [
    "f1_svc = f1_score(Y_test,y_pred)"
   ]
  },
  {
   "cell_type": "code",
   "execution_count": 59,
   "id": "488a5604-4d7d-4415-84c2-e0eda133e1fc",
   "metadata": {},
   "outputs": [],
   "source": [
    "pr_svc = precision_score(Y_test,y_pred)"
   ]
  },
  {
   "cell_type": "code",
   "execution_count": 60,
   "id": "6b5c1b77-ebfd-4eee-a8ad-d42bd910cd8e",
   "metadata": {},
   "outputs": [],
   "source": [
    "rec_svc = recall_score(Y_test,y_pred)"
   ]
  },
  {
   "cell_type": "code",
   "execution_count": 61,
   "id": "d6c6b259-de5a-4ff8-a836-2559b61c5c56",
   "metadata": {},
   "outputs": [
    {
     "data": {
      "text/html": [
       "<div>\n",
       "<style scoped>\n",
       "    .dataframe tbody tr th:only-of-type {\n",
       "        vertical-align: middle;\n",
       "    }\n",
       "\n",
       "    .dataframe tbody tr th {\n",
       "        vertical-align: top;\n",
       "    }\n",
       "\n",
       "    .dataframe thead th {\n",
       "        text-align: right;\n",
       "    }\n",
       "</style>\n",
       "<table border=\"1\" class=\"dataframe\">\n",
       "  <thead>\n",
       "    <tr style=\"text-align: right;\">\n",
       "      <th></th>\n",
       "      <th>Model</th>\n",
       "      <th>Accuracy Score</th>\n",
       "      <th>F1 score</th>\n",
       "      <th>Precision</th>\n",
       "      <th>Recall</th>\n",
       "    </tr>\n",
       "  </thead>\n",
       "  <tbody>\n",
       "    <tr>\n",
       "      <th>0</th>\n",
       "      <td>Support Vector Machine</td>\n",
       "      <td>0.724997</td>\n",
       "      <td>0.805733</td>\n",
       "      <td>0.761148</td>\n",
       "      <td>0.855866</td>\n",
       "    </tr>\n",
       "  </tbody>\n",
       "</table>\n",
       "</div>"
      ],
      "text/plain": [
       "                    Model  Accuracy Score  F1 score  Precision    Recall\n",
       "0  Support Vector Machine        0.724997  0.805733   0.761148  0.855866"
      ]
     },
     "execution_count": 61,
     "metadata": {},
     "output_type": "execute_result"
    }
   ],
   "source": [
    "r1_data = [['Support Vector Machine', a1, f1_svc, pr_svc, rec_svc]]\n",
    "r1_columns = ['Model', 'Accuracy Score', 'F1 score', 'Precision', 'Recall']\n",
    "\n",
    "r1 = pd.DataFrame(r1_data, columns=r1_columns)\n",
    "r1"
   ]
  },
  {
   "cell_type": "markdown",
   "id": "17a42c01-2552-462e-aba3-331aa33e3263",
   "metadata": {},
   "source": [
    "####\n",
    "#### In SVM result,we can observe the accuracy score is 0.724997,\n",
    "#### the F1 score is 0.805733,\n",
    "#### the precision is 0.761148,\n",
    "#### the recall is 0.855866.\n",
    "\n",
    "####"
   ]
  },
  {
   "cell_type": "code",
   "execution_count": 62,
   "id": "ca126e83-e4f1-4bb9-8b00-66976045a80e",
   "metadata": {},
   "outputs": [
    {
     "data": {
      "text/plain": [
       "array([[1403, 1623],\n",
       "       [ 871, 5172]], dtype=int64)"
      ]
     },
     "execution_count": 62,
     "metadata": {},
     "output_type": "execute_result"
    }
   ],
   "source": [
    "confusion_matrix(Y_test, y_pred)"
   ]
  },
  {
   "cell_type": "markdown",
   "id": "9ed19b92-59c7-4393-aea8-cd8b333729f0",
   "metadata": {},
   "source": [
    "####\n",
    "### The confusion matrix for the Support Vector Machine shows:\n",
    "#### 1403 were correctly predicted as positive (true positives).\n",
    "#### 1623 were incorrectly predicted as negative (false negatives).\n",
    "#### 871 were incorrectly predicted as positive when they were actually negative (false positives).\n",
    "#### 5172 were correctly predicted as negative (true negatives).\n",
    "\n",
    "####"
   ]
  },
  {
   "cell_type": "code",
   "execution_count": 63,
   "id": "5914ed50-fe06-46b6-964c-97641bdeba28",
   "metadata": {},
   "outputs": [
    {
     "name": "stdout",
     "output_type": "stream",
     "text": [
      "              precision    recall  f1-score   support\n",
      "\n",
      "           0       0.62      0.46      0.53      3026\n",
      "           1       0.76      0.86      0.81      6043\n",
      "\n",
      "    accuracy                           0.72      9069\n",
      "   macro avg       0.69      0.66      0.67      9069\n",
      "weighted avg       0.71      0.72      0.71      9069\n",
      "\n"
     ]
    }
   ],
   "source": [
    "print(classification_report(Y_test, y_pred))"
   ]
  },
  {
   "cell_type": "markdown",
   "id": "7abbc11f-2fa2-4791-a18a-4b3eb42b0e98",
   "metadata": {},
   "source": [
    "####\n",
    "## Logistic Regression:\n",
    "#### Now using Logistic Regression,on this dataset to predict the probability of a binary outcome, such as whether \n",
    "\n",
    "#### a booking will be canceled or not, based on various input features.\n",
    "\n",
    "####"
   ]
  },
  {
   "cell_type": "code",
   "execution_count": 64,
   "id": "56d8b0d6-aa76-4004-86b2-f9ff94dd99fc",
   "metadata": {},
   "outputs": [],
   "source": [
    "from sklearn.linear_model import LogisticRegression"
   ]
  },
  {
   "cell_type": "code",
   "execution_count": 65,
   "id": "50b23c82-2a31-4ab6-8fba-e03cc74b5f03",
   "metadata": {},
   "outputs": [],
   "source": [
    "lr = LogisticRegression()"
   ]
  },
  {
   "cell_type": "code",
   "execution_count": 66,
   "id": "2a80694e-a25e-4041-8667-1674c2cd32de",
   "metadata": {},
   "outputs": [
    {
     "data": {
      "text/html": [
       "<style>#sk-container-id-2 {color: black;}#sk-container-id-2 pre{padding: 0;}#sk-container-id-2 div.sk-toggleable {background-color: white;}#sk-container-id-2 label.sk-toggleable__label {cursor: pointer;display: block;width: 100%;margin-bottom: 0;padding: 0.3em;box-sizing: border-box;text-align: center;}#sk-container-id-2 label.sk-toggleable__label-arrow:before {content: \"▸\";float: left;margin-right: 0.25em;color: #696969;}#sk-container-id-2 label.sk-toggleable__label-arrow:hover:before {color: black;}#sk-container-id-2 div.sk-estimator:hover label.sk-toggleable__label-arrow:before {color: black;}#sk-container-id-2 div.sk-toggleable__content {max-height: 0;max-width: 0;overflow: hidden;text-align: left;background-color: #f0f8ff;}#sk-container-id-2 div.sk-toggleable__content pre {margin: 0.2em;color: black;border-radius: 0.25em;background-color: #f0f8ff;}#sk-container-id-2 input.sk-toggleable__control:checked~div.sk-toggleable__content {max-height: 200px;max-width: 100%;overflow: auto;}#sk-container-id-2 input.sk-toggleable__control:checked~label.sk-toggleable__label-arrow:before {content: \"▾\";}#sk-container-id-2 div.sk-estimator input.sk-toggleable__control:checked~label.sk-toggleable__label {background-color: #d4ebff;}#sk-container-id-2 div.sk-label input.sk-toggleable__control:checked~label.sk-toggleable__label {background-color: #d4ebff;}#sk-container-id-2 input.sk-hidden--visually {border: 0;clip: rect(1px 1px 1px 1px);clip: rect(1px, 1px, 1px, 1px);height: 1px;margin: -1px;overflow: hidden;padding: 0;position: absolute;width: 1px;}#sk-container-id-2 div.sk-estimator {font-family: monospace;background-color: #f0f8ff;border: 1px dotted black;border-radius: 0.25em;box-sizing: border-box;margin-bottom: 0.5em;}#sk-container-id-2 div.sk-estimator:hover {background-color: #d4ebff;}#sk-container-id-2 div.sk-parallel-item::after {content: \"\";width: 100%;border-bottom: 1px solid gray;flex-grow: 1;}#sk-container-id-2 div.sk-label:hover label.sk-toggleable__label {background-color: #d4ebff;}#sk-container-id-2 div.sk-serial::before {content: \"\";position: absolute;border-left: 1px solid gray;box-sizing: border-box;top: 0;bottom: 0;left: 50%;z-index: 0;}#sk-container-id-2 div.sk-serial {display: flex;flex-direction: column;align-items: center;background-color: white;padding-right: 0.2em;padding-left: 0.2em;position: relative;}#sk-container-id-2 div.sk-item {position: relative;z-index: 1;}#sk-container-id-2 div.sk-parallel {display: flex;align-items: stretch;justify-content: center;background-color: white;position: relative;}#sk-container-id-2 div.sk-item::before, #sk-container-id-2 div.sk-parallel-item::before {content: \"\";position: absolute;border-left: 1px solid gray;box-sizing: border-box;top: 0;bottom: 0;left: 50%;z-index: -1;}#sk-container-id-2 div.sk-parallel-item {display: flex;flex-direction: column;z-index: 1;position: relative;background-color: white;}#sk-container-id-2 div.sk-parallel-item:first-child::after {align-self: flex-end;width: 50%;}#sk-container-id-2 div.sk-parallel-item:last-child::after {align-self: flex-start;width: 50%;}#sk-container-id-2 div.sk-parallel-item:only-child::after {width: 0;}#sk-container-id-2 div.sk-dashed-wrapped {border: 1px dashed gray;margin: 0 0.4em 0.5em 0.4em;box-sizing: border-box;padding-bottom: 0.4em;background-color: white;}#sk-container-id-2 div.sk-label label {font-family: monospace;font-weight: bold;display: inline-block;line-height: 1.2em;}#sk-container-id-2 div.sk-label-container {text-align: center;}#sk-container-id-2 div.sk-container {/* jupyter's `normalize.less` sets `[hidden] { display: none; }` but bootstrap.min.css set `[hidden] { display: none !important; }` so we also need the `!important` here to be able to override the default hidden behavior on the sphinx rendered scikit-learn.org. See: https://github.com/scikit-learn/scikit-learn/issues/21755 */display: inline-block !important;position: relative;}#sk-container-id-2 div.sk-text-repr-fallback {display: none;}</style><div id=\"sk-container-id-2\" class=\"sk-top-container\"><div class=\"sk-text-repr-fallback\"><pre>LogisticRegression()</pre><b>In a Jupyter environment, please rerun this cell to show the HTML representation or trust the notebook. <br />On GitHub, the HTML representation is unable to render, please try loading this page with nbviewer.org.</b></div><div class=\"sk-container\" hidden><div class=\"sk-item\"><div class=\"sk-estimator sk-toggleable\"><input class=\"sk-toggleable__control sk-hidden--visually\" id=\"sk-estimator-id-2\" type=\"checkbox\" checked><label for=\"sk-estimator-id-2\" class=\"sk-toggleable__label sk-toggleable__label-arrow\">LogisticRegression</label><div class=\"sk-toggleable__content\"><pre>LogisticRegression()</pre></div></div></div></div></div>"
      ],
      "text/plain": [
       "LogisticRegression()"
      ]
     },
     "execution_count": 66,
     "metadata": {},
     "output_type": "execute_result"
    }
   ],
   "source": [
    "lr.fit(X_train,Y_train)"
   ]
  },
  {
   "cell_type": "code",
   "execution_count": 67,
   "id": "d108aeba-427f-4ac6-a78e-2ef92a98598f",
   "metadata": {},
   "outputs": [
    {
     "data": {
      "text/plain": [
       "0.7352789825773727"
      ]
     },
     "execution_count": 67,
     "metadata": {},
     "output_type": "execute_result"
    }
   ],
   "source": [
    "lr.score(X_train,Y_train)"
   ]
  },
  {
   "cell_type": "markdown",
   "id": "11d1d8ba-a201-4318-b7eb-39358b41e3fa",
   "metadata": {},
   "source": [
    "####\n",
    "#### The model score of Logistic Regression is 0.7352789825773727.\n",
    "\n",
    "####"
   ]
  },
  {
   "cell_type": "code",
   "execution_count": 68,
   "id": "7d59ae08-a98d-4211-9b91-a4527c4ff8d6",
   "metadata": {},
   "outputs": [],
   "source": [
    "y_pred2 = lr.predict(X_test)"
   ]
  },
  {
   "cell_type": "code",
   "execution_count": 69,
   "id": "b918c2c0-c516-41ad-90b2-f7e34863dc1d",
   "metadata": {},
   "outputs": [],
   "source": [
    "a2 = accuracy_score(Y_test, y_pred2)"
   ]
  },
  {
   "cell_type": "code",
   "execution_count": 70,
   "id": "260268d6-7645-4bad-bda3-f50407f0b6fa",
   "metadata": {},
   "outputs": [],
   "source": [
    "f1_lr = f1_score(Y_test,y_pred2)"
   ]
  },
  {
   "cell_type": "code",
   "execution_count": 71,
   "id": "69a50fec-af1d-4a25-a2b5-cb297ef90e04",
   "metadata": {},
   "outputs": [],
   "source": [
    "pr_lr = precision_score(Y_test,y_pred2)"
   ]
  },
  {
   "cell_type": "code",
   "execution_count": 72,
   "id": "ad1e1ff1-ce72-4787-986e-51e5ded85e65",
   "metadata": {},
   "outputs": [],
   "source": [
    "rec_lr = recall_score(Y_test,y_pred2)"
   ]
  },
  {
   "cell_type": "code",
   "execution_count": 73,
   "id": "c0aeb074-6bb2-40ef-a4f7-b585cc148f31",
   "metadata": {},
   "outputs": [
    {
     "data": {
      "text/html": [
       "<div>\n",
       "<style scoped>\n",
       "    .dataframe tbody tr th:only-of-type {\n",
       "        vertical-align: middle;\n",
       "    }\n",
       "\n",
       "    .dataframe tbody tr th {\n",
       "        vertical-align: top;\n",
       "    }\n",
       "\n",
       "    .dataframe thead th {\n",
       "        text-align: right;\n",
       "    }\n",
       "</style>\n",
       "<table border=\"1\" class=\"dataframe\">\n",
       "  <thead>\n",
       "    <tr style=\"text-align: right;\">\n",
       "      <th></th>\n",
       "      <th>Model</th>\n",
       "      <th>Accuracy Score</th>\n",
       "      <th>F1 score</th>\n",
       "      <th>Precision</th>\n",
       "      <th>Recall</th>\n",
       "    </tr>\n",
       "  </thead>\n",
       "  <tbody>\n",
       "    <tr>\n",
       "      <th>0</th>\n",
       "      <td>LogisticRegression</td>\n",
       "      <td>0.725769</td>\n",
       "      <td>0.812825</td>\n",
       "      <td>0.745445</td>\n",
       "      <td>0.893596</td>\n",
       "    </tr>\n",
       "  </tbody>\n",
       "</table>\n",
       "</div>"
      ],
      "text/plain": [
       "                Model  Accuracy Score  F1 score  Precision    Recall\n",
       "0  LogisticRegression        0.725769  0.812825   0.745445  0.893596"
      ]
     },
     "execution_count": 73,
     "metadata": {},
     "output_type": "execute_result"
    }
   ],
   "source": [
    "r2_data = [['LogisticRegression', a2, f1_lr, pr_lr, rec_lr]]\n",
    "r2_columns = ['Model', 'Accuracy Score', 'F1 score', 'Precision', 'Recall']\n",
    "\n",
    "r2 = pd.DataFrame(r2_data, columns=r2_columns)\n",
    "r2"
   ]
  },
  {
   "cell_type": "markdown",
   "id": "9ea6c831-e4fb-495f-ac4b-a49c1616f202",
   "metadata": {},
   "source": [
    "####\n",
    "#### In Logistic Regression result,we can observe the accuracy score is 0.725769,\n",
    "#### the F1 score is 0.812825,\n",
    "#### the precision is 0.745445,\n",
    "#### the recall is 0.893596.\n",
    "\n",
    "####"
   ]
  },
  {
   "cell_type": "code",
   "execution_count": 74,
   "id": "08b47395-10a5-46d8-8326-e5ad7179c374",
   "metadata": {},
   "outputs": [
    {
     "data": {
      "text/plain": [
       "array([[1182, 1844],\n",
       "       [ 643, 5400]], dtype=int64)"
      ]
     },
     "execution_count": 74,
     "metadata": {},
     "output_type": "execute_result"
    }
   ],
   "source": [
    "confusion_matrix(Y_test, y_pred2)"
   ]
  },
  {
   "cell_type": "markdown",
   "id": "25997f26-d2e9-4da9-9f07-1922299bdb26",
   "metadata": {},
   "source": [
    "####\n",
    "### The confusion matrix for the  Logistic Regression shows:\n",
    "#### 1182 were correctly predicted as positive (true positives).\n",
    "#### 1844 were incorrectly predicted as negative (false negatives).\n",
    "#### 643 were incorrectly predicted as positive when they were actually negative (false positives).\n",
    "#### 5400 were correctly predicted as negative (true negatives).\n",
    "\n",
    "####"
   ]
  },
  {
   "cell_type": "code",
   "execution_count": 75,
   "id": "4c8a914b-00dd-454e-8798-4f26ebcdfde6",
   "metadata": {},
   "outputs": [
    {
     "name": "stdout",
     "output_type": "stream",
     "text": [
      "              precision    recall  f1-score   support\n",
      "\n",
      "           0       0.65      0.39      0.49      3026\n",
      "           1       0.75      0.89      0.81      6043\n",
      "\n",
      "    accuracy                           0.73      9069\n",
      "   macro avg       0.70      0.64      0.65      9069\n",
      "weighted avg       0.71      0.73      0.70      9069\n",
      "\n"
     ]
    }
   ],
   "source": [
    "print(classification_report(Y_test, y_pred2))"
   ]
  },
  {
   "cell_type": "markdown",
   "id": "1d4b0936-03a3-48ec-bb0f-4717943fbf82",
   "metadata": {},
   "source": [
    "####\n",
    "## K-Nearest Neighbors Classifier:\n",
    "#### The K-Nearest Neighbors Classifier is  and likely being used to predict the booking status (e.g., canceled or \n",
    "\n",
    "#### not canceled) based on various features and predicts classification based on the nearest neighbors.\n",
    "\n",
    "###\n"
   ]
  },
  {
   "cell_type": "code",
   "execution_count": 76,
   "id": "61459022-c7cd-431d-b0dc-37eff2eac065",
   "metadata": {},
   "outputs": [],
   "source": [
    "from sklearn.neighbors import KNeighborsClassifier"
   ]
  },
  {
   "cell_type": "code",
   "execution_count": 77,
   "id": "12500aa0-5d82-4a4c-9f4a-359038171468",
   "metadata": {},
   "outputs": [],
   "source": [
    "knn = KNeighborsClassifier(n_neighbors=50)"
   ]
  },
  {
   "cell_type": "code",
   "execution_count": 78,
   "id": "8ff77c2a-9169-4f6a-a14f-d220d98baf16",
   "metadata": {},
   "outputs": [
    {
     "data": {
      "text/html": [
       "<style>#sk-container-id-3 {color: black;}#sk-container-id-3 pre{padding: 0;}#sk-container-id-3 div.sk-toggleable {background-color: white;}#sk-container-id-3 label.sk-toggleable__label {cursor: pointer;display: block;width: 100%;margin-bottom: 0;padding: 0.3em;box-sizing: border-box;text-align: center;}#sk-container-id-3 label.sk-toggleable__label-arrow:before {content: \"▸\";float: left;margin-right: 0.25em;color: #696969;}#sk-container-id-3 label.sk-toggleable__label-arrow:hover:before {color: black;}#sk-container-id-3 div.sk-estimator:hover label.sk-toggleable__label-arrow:before {color: black;}#sk-container-id-3 div.sk-toggleable__content {max-height: 0;max-width: 0;overflow: hidden;text-align: left;background-color: #f0f8ff;}#sk-container-id-3 div.sk-toggleable__content pre {margin: 0.2em;color: black;border-radius: 0.25em;background-color: #f0f8ff;}#sk-container-id-3 input.sk-toggleable__control:checked~div.sk-toggleable__content {max-height: 200px;max-width: 100%;overflow: auto;}#sk-container-id-3 input.sk-toggleable__control:checked~label.sk-toggleable__label-arrow:before {content: \"▾\";}#sk-container-id-3 div.sk-estimator input.sk-toggleable__control:checked~label.sk-toggleable__label {background-color: #d4ebff;}#sk-container-id-3 div.sk-label input.sk-toggleable__control:checked~label.sk-toggleable__label {background-color: #d4ebff;}#sk-container-id-3 input.sk-hidden--visually {border: 0;clip: rect(1px 1px 1px 1px);clip: rect(1px, 1px, 1px, 1px);height: 1px;margin: -1px;overflow: hidden;padding: 0;position: absolute;width: 1px;}#sk-container-id-3 div.sk-estimator {font-family: monospace;background-color: #f0f8ff;border: 1px dotted black;border-radius: 0.25em;box-sizing: border-box;margin-bottom: 0.5em;}#sk-container-id-3 div.sk-estimator:hover {background-color: #d4ebff;}#sk-container-id-3 div.sk-parallel-item::after {content: \"\";width: 100%;border-bottom: 1px solid gray;flex-grow: 1;}#sk-container-id-3 div.sk-label:hover label.sk-toggleable__label {background-color: #d4ebff;}#sk-container-id-3 div.sk-serial::before {content: \"\";position: absolute;border-left: 1px solid gray;box-sizing: border-box;top: 0;bottom: 0;left: 50%;z-index: 0;}#sk-container-id-3 div.sk-serial {display: flex;flex-direction: column;align-items: center;background-color: white;padding-right: 0.2em;padding-left: 0.2em;position: relative;}#sk-container-id-3 div.sk-item {position: relative;z-index: 1;}#sk-container-id-3 div.sk-parallel {display: flex;align-items: stretch;justify-content: center;background-color: white;position: relative;}#sk-container-id-3 div.sk-item::before, #sk-container-id-3 div.sk-parallel-item::before {content: \"\";position: absolute;border-left: 1px solid gray;box-sizing: border-box;top: 0;bottom: 0;left: 50%;z-index: -1;}#sk-container-id-3 div.sk-parallel-item {display: flex;flex-direction: column;z-index: 1;position: relative;background-color: white;}#sk-container-id-3 div.sk-parallel-item:first-child::after {align-self: flex-end;width: 50%;}#sk-container-id-3 div.sk-parallel-item:last-child::after {align-self: flex-start;width: 50%;}#sk-container-id-3 div.sk-parallel-item:only-child::after {width: 0;}#sk-container-id-3 div.sk-dashed-wrapped {border: 1px dashed gray;margin: 0 0.4em 0.5em 0.4em;box-sizing: border-box;padding-bottom: 0.4em;background-color: white;}#sk-container-id-3 div.sk-label label {font-family: monospace;font-weight: bold;display: inline-block;line-height: 1.2em;}#sk-container-id-3 div.sk-label-container {text-align: center;}#sk-container-id-3 div.sk-container {/* jupyter's `normalize.less` sets `[hidden] { display: none; }` but bootstrap.min.css set `[hidden] { display: none !important; }` so we also need the `!important` here to be able to override the default hidden behavior on the sphinx rendered scikit-learn.org. See: https://github.com/scikit-learn/scikit-learn/issues/21755 */display: inline-block !important;position: relative;}#sk-container-id-3 div.sk-text-repr-fallback {display: none;}</style><div id=\"sk-container-id-3\" class=\"sk-top-container\"><div class=\"sk-text-repr-fallback\"><pre>KNeighborsClassifier(n_neighbors=50)</pre><b>In a Jupyter environment, please rerun this cell to show the HTML representation or trust the notebook. <br />On GitHub, the HTML representation is unable to render, please try loading this page with nbviewer.org.</b></div><div class=\"sk-container\" hidden><div class=\"sk-item\"><div class=\"sk-estimator sk-toggleable\"><input class=\"sk-toggleable__control sk-hidden--visually\" id=\"sk-estimator-id-3\" type=\"checkbox\" checked><label for=\"sk-estimator-id-3\" class=\"sk-toggleable__label sk-toggleable__label-arrow\">KNeighborsClassifier</label><div class=\"sk-toggleable__content\"><pre>KNeighborsClassifier(n_neighbors=50)</pre></div></div></div></div></div>"
      ],
      "text/plain": [
       "KNeighborsClassifier(n_neighbors=50)"
      ]
     },
     "execution_count": 78,
     "metadata": {},
     "output_type": "execute_result"
    }
   ],
   "source": [
    "knn.fit(X_train,Y_train)"
   ]
  },
  {
   "cell_type": "code",
   "execution_count": 79,
   "id": "ab764d66-5259-4ecb-a2d9-8416e19f4304",
   "metadata": {},
   "outputs": [
    {
     "data": {
      "text/plain": [
       "0.7946041314415938"
      ]
     },
     "execution_count": 79,
     "metadata": {},
     "output_type": "execute_result"
    }
   ],
   "source": [
    "knn.score(X_train,Y_train)"
   ]
  },
  {
   "cell_type": "markdown",
   "id": "2f5011a4-89da-4fb2-bcb4-3310f8945cfe",
   "metadata": {},
   "source": [
    "####\n",
    "#### The model score of K-Nearest Neighbors Classifier is 0.7946041314415938.\n",
    "\n",
    "####"
   ]
  },
  {
   "cell_type": "code",
   "execution_count": 80,
   "id": "406a72fa-9962-4c76-a33e-5aeeb311dd00",
   "metadata": {},
   "outputs": [],
   "source": [
    "y_pred3 = knn.predict(X_test)"
   ]
  },
  {
   "cell_type": "code",
   "execution_count": 81,
   "id": "6f18eeb4-16c3-43be-8cbe-a6490a291574",
   "metadata": {},
   "outputs": [],
   "source": [
    "a3 = accuracy_score(Y_test, y_pred3)"
   ]
  },
  {
   "cell_type": "code",
   "execution_count": 82,
   "id": "31e8b6df-e3b6-4074-b7fe-baec5a70663b",
   "metadata": {},
   "outputs": [],
   "source": [
    "f1_knn = f1_score(Y_test,y_pred3)"
   ]
  },
  {
   "cell_type": "code",
   "execution_count": 83,
   "id": "a3307889-b499-4422-bc94-056071745178",
   "metadata": {},
   "outputs": [],
   "source": [
    "pr_knn = precision_score(Y_test,y_pred3)"
   ]
  },
  {
   "cell_type": "code",
   "execution_count": 84,
   "id": "3beae11a-45c9-430a-977d-7c968bcc5e9c",
   "metadata": {},
   "outputs": [],
   "source": [
    "rec_knn = recall_score(Y_test,y_pred3)"
   ]
  },
  {
   "cell_type": "code",
   "execution_count": 85,
   "id": "781a3e84-3ab0-4f1b-aa27-d758c80f131c",
   "metadata": {},
   "outputs": [
    {
     "data": {
      "text/html": [
       "<div>\n",
       "<style scoped>\n",
       "    .dataframe tbody tr th:only-of-type {\n",
       "        vertical-align: middle;\n",
       "    }\n",
       "\n",
       "    .dataframe tbody tr th {\n",
       "        vertical-align: top;\n",
       "    }\n",
       "\n",
       "    .dataframe thead th {\n",
       "        text-align: right;\n",
       "    }\n",
       "</style>\n",
       "<table border=\"1\" class=\"dataframe\">\n",
       "  <thead>\n",
       "    <tr style=\"text-align: right;\">\n",
       "      <th></th>\n",
       "      <th>Model</th>\n",
       "      <th>Accuracy Score</th>\n",
       "      <th>F1 score</th>\n",
       "      <th>Precision</th>\n",
       "      <th>Recall</th>\n",
       "    </tr>\n",
       "  </thead>\n",
       "  <tbody>\n",
       "    <tr>\n",
       "      <th>0</th>\n",
       "      <td>KNeighborsClassifier</td>\n",
       "      <td>0.786415</td>\n",
       "      <td>0.842405</td>\n",
       "      <td>0.828585</td>\n",
       "      <td>0.856694</td>\n",
       "    </tr>\n",
       "  </tbody>\n",
       "</table>\n",
       "</div>"
      ],
      "text/plain": [
       "                  Model  Accuracy Score  F1 score  Precision    Recall\n",
       "0  KNeighborsClassifier        0.786415  0.842405   0.828585  0.856694"
      ]
     },
     "execution_count": 85,
     "metadata": {},
     "output_type": "execute_result"
    }
   ],
   "source": [
    "r3_data = [['KNeighborsClassifier', a3, f1_knn, pr_knn, rec_knn]]\n",
    "r3_columns = ['Model', 'Accuracy Score', 'F1 score', 'Precision', 'Recall']\n",
    "\n",
    "r3 = pd.DataFrame(r3_data, columns=r3_columns)\n",
    "r3"
   ]
  },
  {
   "cell_type": "markdown",
   "id": "e198891e-2beb-4016-a7b4-bf944be12ff7",
   "metadata": {},
   "source": [
    "####\n",
    "#### In  K-Nearest Neighbors Classifier result,we can observe the accuracy score is 0.786415,\n",
    "#### the F1 score is 0.842405,\n",
    "#### the precision is 0.828585,\n",
    "#### the recall is 0.856694.\n",
    "\n",
    "####"
   ]
  },
  {
   "cell_type": "code",
   "execution_count": 86,
   "id": "b503054d-dcc2-4916-9fc0-c89d1560f2f3",
   "metadata": {},
   "outputs": [
    {
     "data": {
      "text/plain": [
       "array([[1955, 1071],\n",
       "       [ 866, 5177]], dtype=int64)"
      ]
     },
     "execution_count": 86,
     "metadata": {},
     "output_type": "execute_result"
    }
   ],
   "source": [
    "confusion_matrix(Y_test, y_pred3)"
   ]
  },
  {
   "cell_type": "markdown",
   "id": "26c1ca46-e9c0-4626-b34b-7c0b9e48665c",
   "metadata": {},
   "source": [
    "####\n",
    "### The confusion matrix for the K-Nearest Neighbors Classifier shows:\n",
    "#### 1955  were correctly predicted as positive (true positives).\n",
    "#### 1071  were incorrectly predicted as negative (false negatives).\n",
    "####  866  were incorrectly predicted as positive when they were actually negative (false positives).\n",
    "#### 5177  were correctly predicted as negative (true negatives).\n",
    "\n",
    "####\n"
   ]
  },
  {
   "cell_type": "code",
   "execution_count": 87,
   "id": "52f3b8a4-c29b-47ff-b30e-d93577809839",
   "metadata": {},
   "outputs": [
    {
     "name": "stdout",
     "output_type": "stream",
     "text": [
      "              precision    recall  f1-score   support\n",
      "\n",
      "           0       0.69      0.65      0.67      3026\n",
      "           1       0.83      0.86      0.84      6043\n",
      "\n",
      "    accuracy                           0.79      9069\n",
      "   macro avg       0.76      0.75      0.76      9069\n",
      "weighted avg       0.78      0.79      0.78      9069\n",
      "\n"
     ]
    }
   ],
   "source": [
    "print(classification_report(Y_test, y_pred3))"
   ]
  },
  {
   "cell_type": "markdown",
   "id": "407dc24d-5811-4b06-9ceb-d0ef5f110c84",
   "metadata": {},
   "source": [
    "####\n",
    "## Adaptive Boosting Classifier:\n",
    "#### The Adaptive Boosting Classifier focuses on improving classification accuracy by iteratively adjusting its \n",
    "\n",
    "#### model based on misclassified instances.\n",
    "\n",
    "####"
   ]
  },
  {
   "cell_type": "code",
   "execution_count": 88,
   "id": "2445a0af-42f0-4bb5-9694-c7caa5a67314",
   "metadata": {},
   "outputs": [],
   "source": [
    "from sklearn.ensemble import AdaBoostClassifier\n",
    "from sklearn.tree import DecisionTreeClassifier"
   ]
  },
  {
   "cell_type": "code",
   "execution_count": 89,
   "id": "bf84412a-f146-4060-a462-47d83da654ff",
   "metadata": {},
   "outputs": [],
   "source": [
    "base_estimator = DecisionTreeClassifier()"
   ]
  },
  {
   "cell_type": "code",
   "execution_count": 90,
   "id": "559d981b-17f7-4d57-a9dc-02c0823b79ac",
   "metadata": {},
   "outputs": [],
   "source": [
    "model = AdaBoostClassifier(estimator=base_estimator,n_estimators=20)"
   ]
  },
  {
   "cell_type": "code",
   "execution_count": 91,
   "id": "ee135cfc-e7a2-48cb-878f-57123128ac3c",
   "metadata": {},
   "outputs": [
    {
     "data": {
      "text/html": [
       "<style>#sk-container-id-4 {color: black;}#sk-container-id-4 pre{padding: 0;}#sk-container-id-4 div.sk-toggleable {background-color: white;}#sk-container-id-4 label.sk-toggleable__label {cursor: pointer;display: block;width: 100%;margin-bottom: 0;padding: 0.3em;box-sizing: border-box;text-align: center;}#sk-container-id-4 label.sk-toggleable__label-arrow:before {content: \"▸\";float: left;margin-right: 0.25em;color: #696969;}#sk-container-id-4 label.sk-toggleable__label-arrow:hover:before {color: black;}#sk-container-id-4 div.sk-estimator:hover label.sk-toggleable__label-arrow:before {color: black;}#sk-container-id-4 div.sk-toggleable__content {max-height: 0;max-width: 0;overflow: hidden;text-align: left;background-color: #f0f8ff;}#sk-container-id-4 div.sk-toggleable__content pre {margin: 0.2em;color: black;border-radius: 0.25em;background-color: #f0f8ff;}#sk-container-id-4 input.sk-toggleable__control:checked~div.sk-toggleable__content {max-height: 200px;max-width: 100%;overflow: auto;}#sk-container-id-4 input.sk-toggleable__control:checked~label.sk-toggleable__label-arrow:before {content: \"▾\";}#sk-container-id-4 div.sk-estimator input.sk-toggleable__control:checked~label.sk-toggleable__label {background-color: #d4ebff;}#sk-container-id-4 div.sk-label input.sk-toggleable__control:checked~label.sk-toggleable__label {background-color: #d4ebff;}#sk-container-id-4 input.sk-hidden--visually {border: 0;clip: rect(1px 1px 1px 1px);clip: rect(1px, 1px, 1px, 1px);height: 1px;margin: -1px;overflow: hidden;padding: 0;position: absolute;width: 1px;}#sk-container-id-4 div.sk-estimator {font-family: monospace;background-color: #f0f8ff;border: 1px dotted black;border-radius: 0.25em;box-sizing: border-box;margin-bottom: 0.5em;}#sk-container-id-4 div.sk-estimator:hover {background-color: #d4ebff;}#sk-container-id-4 div.sk-parallel-item::after {content: \"\";width: 100%;border-bottom: 1px solid gray;flex-grow: 1;}#sk-container-id-4 div.sk-label:hover label.sk-toggleable__label {background-color: #d4ebff;}#sk-container-id-4 div.sk-serial::before {content: \"\";position: absolute;border-left: 1px solid gray;box-sizing: border-box;top: 0;bottom: 0;left: 50%;z-index: 0;}#sk-container-id-4 div.sk-serial {display: flex;flex-direction: column;align-items: center;background-color: white;padding-right: 0.2em;padding-left: 0.2em;position: relative;}#sk-container-id-4 div.sk-item {position: relative;z-index: 1;}#sk-container-id-4 div.sk-parallel {display: flex;align-items: stretch;justify-content: center;background-color: white;position: relative;}#sk-container-id-4 div.sk-item::before, #sk-container-id-4 div.sk-parallel-item::before {content: \"\";position: absolute;border-left: 1px solid gray;box-sizing: border-box;top: 0;bottom: 0;left: 50%;z-index: -1;}#sk-container-id-4 div.sk-parallel-item {display: flex;flex-direction: column;z-index: 1;position: relative;background-color: white;}#sk-container-id-4 div.sk-parallel-item:first-child::after {align-self: flex-end;width: 50%;}#sk-container-id-4 div.sk-parallel-item:last-child::after {align-self: flex-start;width: 50%;}#sk-container-id-4 div.sk-parallel-item:only-child::after {width: 0;}#sk-container-id-4 div.sk-dashed-wrapped {border: 1px dashed gray;margin: 0 0.4em 0.5em 0.4em;box-sizing: border-box;padding-bottom: 0.4em;background-color: white;}#sk-container-id-4 div.sk-label label {font-family: monospace;font-weight: bold;display: inline-block;line-height: 1.2em;}#sk-container-id-4 div.sk-label-container {text-align: center;}#sk-container-id-4 div.sk-container {/* jupyter's `normalize.less` sets `[hidden] { display: none; }` but bootstrap.min.css set `[hidden] { display: none !important; }` so we also need the `!important` here to be able to override the default hidden behavior on the sphinx rendered scikit-learn.org. See: https://github.com/scikit-learn/scikit-learn/issues/21755 */display: inline-block !important;position: relative;}#sk-container-id-4 div.sk-text-repr-fallback {display: none;}</style><div id=\"sk-container-id-4\" class=\"sk-top-container\"><div class=\"sk-text-repr-fallback\"><pre>AdaBoostClassifier(estimator=DecisionTreeClassifier(), n_estimators=20)</pre><b>In a Jupyter environment, please rerun this cell to show the HTML representation or trust the notebook. <br />On GitHub, the HTML representation is unable to render, please try loading this page with nbviewer.org.</b></div><div class=\"sk-container\" hidden><div class=\"sk-item sk-dashed-wrapped\"><div class=\"sk-label-container\"><div class=\"sk-label sk-toggleable\"><input class=\"sk-toggleable__control sk-hidden--visually\" id=\"sk-estimator-id-4\" type=\"checkbox\" ><label for=\"sk-estimator-id-4\" class=\"sk-toggleable__label sk-toggleable__label-arrow\">AdaBoostClassifier</label><div class=\"sk-toggleable__content\"><pre>AdaBoostClassifier(estimator=DecisionTreeClassifier(), n_estimators=20)</pre></div></div></div><div class=\"sk-parallel\"><div class=\"sk-parallel-item\"><div class=\"sk-item\"><div class=\"sk-label-container\"><div class=\"sk-label sk-toggleable\"><input class=\"sk-toggleable__control sk-hidden--visually\" id=\"sk-estimator-id-5\" type=\"checkbox\" ><label for=\"sk-estimator-id-5\" class=\"sk-toggleable__label sk-toggleable__label-arrow\">estimator: DecisionTreeClassifier</label><div class=\"sk-toggleable__content\"><pre>DecisionTreeClassifier()</pre></div></div></div><div class=\"sk-serial\"><div class=\"sk-item\"><div class=\"sk-estimator sk-toggleable\"><input class=\"sk-toggleable__control sk-hidden--visually\" id=\"sk-estimator-id-6\" type=\"checkbox\" ><label for=\"sk-estimator-id-6\" class=\"sk-toggleable__label sk-toggleable__label-arrow\">DecisionTreeClassifier</label><div class=\"sk-toggleable__content\"><pre>DecisionTreeClassifier()</pre></div></div></div></div></div></div></div></div></div></div>"
      ],
      "text/plain": [
       "AdaBoostClassifier(estimator=DecisionTreeClassifier(), n_estimators=20)"
      ]
     },
     "execution_count": 91,
     "metadata": {},
     "output_type": "execute_result"
    }
   ],
   "source": [
    "model.fit(X_train,Y_train)"
   ]
  },
  {
   "cell_type": "code",
   "execution_count": 92,
   "id": "cab7abcb-6609-4f90-9173-b515be4f1a7e",
   "metadata": {},
   "outputs": [
    {
     "data": {
      "text/plain": [
       "0.9842314195398074"
      ]
     },
     "execution_count": 92,
     "metadata": {},
     "output_type": "execute_result"
    }
   ],
   "source": [
    "model.score(X_train,Y_train)"
   ]
  },
  {
   "cell_type": "markdown",
   "id": "2329f9aa-fea5-4af3-ad21-1dd1255bef70",
   "metadata": {},
   "source": [
    "####\n",
    "#### The model score of Adaptive Boosting Classifier is 0.9842314195398074.\n",
    "\n",
    "####"
   ]
  },
  {
   "cell_type": "code",
   "execution_count": 93,
   "id": "479565c9-b063-4e70-bb22-386230d4093a",
   "metadata": {},
   "outputs": [],
   "source": [
    "y_pred4 = model.predict(X_test)"
   ]
  },
  {
   "cell_type": "code",
   "execution_count": 94,
   "id": "db9e6252-dc59-4f7c-8f67-420a6d3ee12d",
   "metadata": {},
   "outputs": [],
   "source": [
    "a4 = accuracy_score(Y_test,y_pred4)"
   ]
  },
  {
   "cell_type": "code",
   "execution_count": 95,
   "id": "4e27e631-a3df-4a4f-b214-040a27a43abe",
   "metadata": {},
   "outputs": [],
   "source": [
    "f1_ada = f1_score(Y_test,y_pred4)"
   ]
  },
  {
   "cell_type": "code",
   "execution_count": 96,
   "id": "b450c37c-c7c0-4fc5-9e87-9287e948fc3a",
   "metadata": {},
   "outputs": [],
   "source": [
    "pr_ada = precision_score(Y_test,y_pred4)"
   ]
  },
  {
   "cell_type": "code",
   "execution_count": 97,
   "id": "a5f719da-59da-46bb-8787-e0ff59257638",
   "metadata": {},
   "outputs": [],
   "source": [
    "rec_ada = recall_score(Y_test,y_pred4)"
   ]
  },
  {
   "cell_type": "code",
   "execution_count": 98,
   "id": "3a97a843-1720-4283-8628-b68a471d94f1",
   "metadata": {},
   "outputs": [
    {
     "data": {
      "text/html": [
       "<div>\n",
       "<style scoped>\n",
       "    .dataframe tbody tr th:only-of-type {\n",
       "        vertical-align: middle;\n",
       "    }\n",
       "\n",
       "    .dataframe tbody tr th {\n",
       "        vertical-align: top;\n",
       "    }\n",
       "\n",
       "    .dataframe thead th {\n",
       "        text-align: right;\n",
       "    }\n",
       "</style>\n",
       "<table border=\"1\" class=\"dataframe\">\n",
       "  <thead>\n",
       "    <tr style=\"text-align: right;\">\n",
       "      <th></th>\n",
       "      <th>Model</th>\n",
       "      <th>Accuracy Score</th>\n",
       "      <th>F1 score</th>\n",
       "      <th>Precision</th>\n",
       "      <th>Recall</th>\n",
       "    </tr>\n",
       "  </thead>\n",
       "  <tbody>\n",
       "    <tr>\n",
       "      <th>0</th>\n",
       "      <td>AdaBoostClassifier</td>\n",
       "      <td>0.823906</td>\n",
       "      <td>0.869045</td>\n",
       "      <td>0.861346</td>\n",
       "      <td>0.876882</td>\n",
       "    </tr>\n",
       "  </tbody>\n",
       "</table>\n",
       "</div>"
      ],
      "text/plain": [
       "                Model  Accuracy Score  F1 score  Precision    Recall\n",
       "0  AdaBoostClassifier        0.823906  0.869045   0.861346  0.876882"
      ]
     },
     "execution_count": 98,
     "metadata": {},
     "output_type": "execute_result"
    }
   ],
   "source": [
    "r4_data = [['AdaBoostClassifier', a4, f1_ada, pr_ada, rec_ada]]\n",
    "r4_columns = ['Model', 'Accuracy Score', 'F1 score', 'Precision', 'Recall']\n",
    "\n",
    "r4 = pd.DataFrame(r4_data, columns=r4_columns)\n",
    "r4"
   ]
  },
  {
   "cell_type": "markdown",
   "id": "992b1010-2e51-4ffc-a401-da26072214cc",
   "metadata": {},
   "source": [
    "####\n",
    "#### In Adaptive Boosting Classifier result,we can observe the accuracy score is 0.823906,\n",
    "#### the F1 score is 0.869045,\n",
    "#### the precision is 0.861346,\n",
    "#### the recall is 0.876882.\n",
    "\n",
    "####"
   ]
  },
  {
   "cell_type": "code",
   "execution_count": 99,
   "id": "71949b10-d577-4cd6-be4c-1ea540a2a3b8",
   "metadata": {},
   "outputs": [
    {
     "data": {
      "text/plain": [
       "array([[2173,  853],\n",
       "       [ 744, 5299]], dtype=int64)"
      ]
     },
     "execution_count": 99,
     "metadata": {},
     "output_type": "execute_result"
    }
   ],
   "source": [
    "confusion_matrix(Y_test, y_pred4)"
   ]
  },
  {
   "cell_type": "markdown",
   "id": "5f05423a-57db-4991-ba57-cf97b3ca8ddd",
   "metadata": {},
   "source": [
    "#####\n",
    "### The confusion matrix for the Adaptive Boosting Classifier shows:\n",
    "#### 2173  were correctly predicted as positive (true positives).\n",
    "#### 853  were incorrectly predicted as negative (false negatives).\n",
    "#### 744  were incorrectly predicted as positive when they were actually negative (false positives).\n",
    "#### 5299  were correctly predicted as negative (true negatives).\n",
    "\n",
    "####"
   ]
  },
  {
   "cell_type": "code",
   "execution_count": 100,
   "id": "6e185ac9-34f5-4fb5-9f71-4f4c4f945863",
   "metadata": {},
   "outputs": [
    {
     "name": "stdout",
     "output_type": "stream",
     "text": [
      "              precision    recall  f1-score   support\n",
      "\n",
      "           0       0.74      0.72      0.73      3026\n",
      "           1       0.86      0.88      0.87      6043\n",
      "\n",
      "    accuracy                           0.82      9069\n",
      "   macro avg       0.80      0.80      0.80      9069\n",
      "weighted avg       0.82      0.82      0.82      9069\n",
      "\n"
     ]
    }
   ],
   "source": [
    "print(classification_report(Y_test, y_pred4))"
   ]
  },
  {
   "cell_type": "markdown",
   "id": "8b85f350-595e-4519-9b4e-6805e4353516",
   "metadata": {},
   "source": [
    "####\n",
    "## Random Forest Classifier:\n",
    "#### The Random Forest Classifier constructs multiple decision trees independently and combines their predictions \n",
    "\n",
    "#### through averaging.\n",
    "\n",
    " ###"
   ]
  },
  {
   "cell_type": "code",
   "execution_count": 101,
   "id": "a6fb50a6-3177-42b2-98d2-c76e17057ae7",
   "metadata": {},
   "outputs": [],
   "source": [
    "from sklearn.ensemble import RandomForestClassifier"
   ]
  },
  {
   "cell_type": "code",
   "execution_count": 102,
   "id": "1f6788f7-c8f8-4182-9867-c70deb2743d8",
   "metadata": {},
   "outputs": [],
   "source": [
    "model2 = RandomForestClassifier(n_estimators=50,n_jobs=-1,criterion=\"entropy\")"
   ]
  },
  {
   "cell_type": "code",
   "execution_count": 103,
   "id": "7af3229d-9b91-4843-bd0b-23d2fe1805b8",
   "metadata": {},
   "outputs": [
    {
     "data": {
      "text/html": [
       "<style>#sk-container-id-5 {color: black;}#sk-container-id-5 pre{padding: 0;}#sk-container-id-5 div.sk-toggleable {background-color: white;}#sk-container-id-5 label.sk-toggleable__label {cursor: pointer;display: block;width: 100%;margin-bottom: 0;padding: 0.3em;box-sizing: border-box;text-align: center;}#sk-container-id-5 label.sk-toggleable__label-arrow:before {content: \"▸\";float: left;margin-right: 0.25em;color: #696969;}#sk-container-id-5 label.sk-toggleable__label-arrow:hover:before {color: black;}#sk-container-id-5 div.sk-estimator:hover label.sk-toggleable__label-arrow:before {color: black;}#sk-container-id-5 div.sk-toggleable__content {max-height: 0;max-width: 0;overflow: hidden;text-align: left;background-color: #f0f8ff;}#sk-container-id-5 div.sk-toggleable__content pre {margin: 0.2em;color: black;border-radius: 0.25em;background-color: #f0f8ff;}#sk-container-id-5 input.sk-toggleable__control:checked~div.sk-toggleable__content {max-height: 200px;max-width: 100%;overflow: auto;}#sk-container-id-5 input.sk-toggleable__control:checked~label.sk-toggleable__label-arrow:before {content: \"▾\";}#sk-container-id-5 div.sk-estimator input.sk-toggleable__control:checked~label.sk-toggleable__label {background-color: #d4ebff;}#sk-container-id-5 div.sk-label input.sk-toggleable__control:checked~label.sk-toggleable__label {background-color: #d4ebff;}#sk-container-id-5 input.sk-hidden--visually {border: 0;clip: rect(1px 1px 1px 1px);clip: rect(1px, 1px, 1px, 1px);height: 1px;margin: -1px;overflow: hidden;padding: 0;position: absolute;width: 1px;}#sk-container-id-5 div.sk-estimator {font-family: monospace;background-color: #f0f8ff;border: 1px dotted black;border-radius: 0.25em;box-sizing: border-box;margin-bottom: 0.5em;}#sk-container-id-5 div.sk-estimator:hover {background-color: #d4ebff;}#sk-container-id-5 div.sk-parallel-item::after {content: \"\";width: 100%;border-bottom: 1px solid gray;flex-grow: 1;}#sk-container-id-5 div.sk-label:hover label.sk-toggleable__label {background-color: #d4ebff;}#sk-container-id-5 div.sk-serial::before {content: \"\";position: absolute;border-left: 1px solid gray;box-sizing: border-box;top: 0;bottom: 0;left: 50%;z-index: 0;}#sk-container-id-5 div.sk-serial {display: flex;flex-direction: column;align-items: center;background-color: white;padding-right: 0.2em;padding-left: 0.2em;position: relative;}#sk-container-id-5 div.sk-item {position: relative;z-index: 1;}#sk-container-id-5 div.sk-parallel {display: flex;align-items: stretch;justify-content: center;background-color: white;position: relative;}#sk-container-id-5 div.sk-item::before, #sk-container-id-5 div.sk-parallel-item::before {content: \"\";position: absolute;border-left: 1px solid gray;box-sizing: border-box;top: 0;bottom: 0;left: 50%;z-index: -1;}#sk-container-id-5 div.sk-parallel-item {display: flex;flex-direction: column;z-index: 1;position: relative;background-color: white;}#sk-container-id-5 div.sk-parallel-item:first-child::after {align-self: flex-end;width: 50%;}#sk-container-id-5 div.sk-parallel-item:last-child::after {align-self: flex-start;width: 50%;}#sk-container-id-5 div.sk-parallel-item:only-child::after {width: 0;}#sk-container-id-5 div.sk-dashed-wrapped {border: 1px dashed gray;margin: 0 0.4em 0.5em 0.4em;box-sizing: border-box;padding-bottom: 0.4em;background-color: white;}#sk-container-id-5 div.sk-label label {font-family: monospace;font-weight: bold;display: inline-block;line-height: 1.2em;}#sk-container-id-5 div.sk-label-container {text-align: center;}#sk-container-id-5 div.sk-container {/* jupyter's `normalize.less` sets `[hidden] { display: none; }` but bootstrap.min.css set `[hidden] { display: none !important; }` so we also need the `!important` here to be able to override the default hidden behavior on the sphinx rendered scikit-learn.org. See: https://github.com/scikit-learn/scikit-learn/issues/21755 */display: inline-block !important;position: relative;}#sk-container-id-5 div.sk-text-repr-fallback {display: none;}</style><div id=\"sk-container-id-5\" class=\"sk-top-container\"><div class=\"sk-text-repr-fallback\"><pre>RandomForestClassifier(criterion=&#x27;entropy&#x27;, n_estimators=50, n_jobs=-1)</pre><b>In a Jupyter environment, please rerun this cell to show the HTML representation or trust the notebook. <br />On GitHub, the HTML representation is unable to render, please try loading this page with nbviewer.org.</b></div><div class=\"sk-container\" hidden><div class=\"sk-item\"><div class=\"sk-estimator sk-toggleable\"><input class=\"sk-toggleable__control sk-hidden--visually\" id=\"sk-estimator-id-7\" type=\"checkbox\" checked><label for=\"sk-estimator-id-7\" class=\"sk-toggleable__label sk-toggleable__label-arrow\">RandomForestClassifier</label><div class=\"sk-toggleable__content\"><pre>RandomForestClassifier(criterion=&#x27;entropy&#x27;, n_estimators=50, n_jobs=-1)</pre></div></div></div></div></div>"
      ],
      "text/plain": [
       "RandomForestClassifier(criterion='entropy', n_estimators=50, n_jobs=-1)"
      ]
     },
     "execution_count": 103,
     "metadata": {},
     "output_type": "execute_result"
    }
   ],
   "source": [
    "model2.fit(X_train,Y_train)"
   ]
  },
  {
   "cell_type": "code",
   "execution_count": 104,
   "id": "9adeaeec-9a59-47e7-9c3c-2ad9605daf3e",
   "metadata": {},
   "outputs": [
    {
     "data": {
      "text/plain": [
       "0.9841211497463794"
      ]
     },
     "execution_count": 104,
     "metadata": {},
     "output_type": "execute_result"
    }
   ],
   "source": [
    "model2.score(X_train,Y_train)"
   ]
  },
  {
   "cell_type": "markdown",
   "id": "05470552-d247-4dca-89e2-0dc9adac9c67",
   "metadata": {},
   "source": [
    "####\n",
    "#### The model score of Random Forest Classifier is 0.9841211497463794.\n",
    "\n",
    "###"
   ]
  },
  {
   "cell_type": "code",
   "execution_count": 105,
   "id": "4fdc3405-c40d-4f11-a8d8-a8f98b5ac4ff",
   "metadata": {},
   "outputs": [],
   "source": [
    "y_pred5 = model2.predict(X_test)"
   ]
  },
  {
   "cell_type": "code",
   "execution_count": 106,
   "id": "db5e858c-4b4c-4d31-ab66-9ca0a27ff4f7",
   "metadata": {},
   "outputs": [],
   "source": [
    "a5 = accuracy_score(Y_test,y_pred5)"
   ]
  },
  {
   "cell_type": "code",
   "execution_count": 107,
   "id": "b6b1c731-05e4-44dd-9b4b-22082a6819f4",
   "metadata": {},
   "outputs": [],
   "source": [
    "f1_rfc = f1_score(Y_test,y_pred5)"
   ]
  },
  {
   "cell_type": "code",
   "execution_count": 108,
   "id": "df8ee0ef-fa8b-4c31-bf3b-7404c8d467a7",
   "metadata": {},
   "outputs": [],
   "source": [
    "pr_rfc = precision_score(Y_test,y_pred5)"
   ]
  },
  {
   "cell_type": "code",
   "execution_count": 109,
   "id": "7268abe3-62c0-4b22-8f41-620d7e04587c",
   "metadata": {},
   "outputs": [],
   "source": [
    "rec_rfc = recall_score(Y_test,y_pred5)"
   ]
  },
  {
   "cell_type": "code",
   "execution_count": 110,
   "id": "f8c636a1-5f30-4afa-a68e-6b3d738cd2c3",
   "metadata": {},
   "outputs": [
    {
     "data": {
      "text/html": [
       "<div>\n",
       "<style scoped>\n",
       "    .dataframe tbody tr th:only-of-type {\n",
       "        vertical-align: middle;\n",
       "    }\n",
       "\n",
       "    .dataframe tbody tr th {\n",
       "        vertical-align: top;\n",
       "    }\n",
       "\n",
       "    .dataframe thead th {\n",
       "        text-align: right;\n",
       "    }\n",
       "</style>\n",
       "<table border=\"1\" class=\"dataframe\">\n",
       "  <thead>\n",
       "    <tr style=\"text-align: right;\">\n",
       "      <th></th>\n",
       "      <th>Model</th>\n",
       "      <th>Accuracy Score</th>\n",
       "      <th>F1 score</th>\n",
       "      <th>Precision</th>\n",
       "      <th>Recall</th>\n",
       "    </tr>\n",
       "  </thead>\n",
       "  <tbody>\n",
       "    <tr>\n",
       "      <th>0</th>\n",
       "      <td>RandomForestClassifier</td>\n",
       "      <td>0.857426</td>\n",
       "      <td>0.895227</td>\n",
       "      <td>0.877104</td>\n",
       "      <td>0.914116</td>\n",
       "    </tr>\n",
       "  </tbody>\n",
       "</table>\n",
       "</div>"
      ],
      "text/plain": [
       "                    Model  Accuracy Score  F1 score  Precision    Recall\n",
       "0  RandomForestClassifier        0.857426  0.895227   0.877104  0.914116"
      ]
     },
     "execution_count": 110,
     "metadata": {},
     "output_type": "execute_result"
    }
   ],
   "source": [
    "r5_data = [['RandomForestClassifier', a5, f1_rfc, pr_rfc, rec_rfc]]\n",
    "r5_columns = ['Model', 'Accuracy Score', 'F1 score', 'Precision', 'Recall']\n",
    "\n",
    "r5 = pd.DataFrame(r5_data, columns=r5_columns)\n",
    "r5"
   ]
  },
  {
   "cell_type": "markdown",
   "id": "1ca530d5-0836-4db8-b8e3-87cdfbe1faa6",
   "metadata": {},
   "source": [
    "####\n",
    "#### In Random Forest Classifier result,we can observe the accuracy score is 0.857426,\n",
    "#### the F1 score is 0.895227,\n",
    "#### the precision is 0.877104,\n",
    "#### the recall is 0.914116.\n",
    "\n",
    "####"
   ]
  },
  {
   "cell_type": "code",
   "execution_count": 111,
   "id": "141b6379-c9e0-4b05-942b-b7c855ec1d32",
   "metadata": {},
   "outputs": [
    {
     "data": {
      "text/plain": [
       "array([[2252,  774],\n",
       "       [ 519, 5524]], dtype=int64)"
      ]
     },
     "execution_count": 111,
     "metadata": {},
     "output_type": "execute_result"
    }
   ],
   "source": [
    "confusion_matrix = confusion_matrix(Y_test, y_pred5)\n",
    "confusion_matrix"
   ]
  },
  {
   "cell_type": "markdown",
   "id": "ee9448aa-43a6-4938-a240-c44baeff2164",
   "metadata": {},
   "source": [
    "####\n",
    "### The confusion matrix for the RandomForestClassifier shows:\n",
    "#### 2252 were correctly predicted as positive (true positives).\n",
    "#### 774 were incorrectly predicted as negative (false negatives).\n",
    "#### 519 were incorrectly predicted as positive when they were actually negative (false positives).\n",
    "#### 5524 were correctly predicted as negative (true negatives).\n",
    "\n",
    "####"
   ]
  },
  {
   "cell_type": "code",
   "execution_count": 112,
   "id": "aaf5c67d-46c4-4f64-abe6-803fab022603",
   "metadata": {},
   "outputs": [
    {
     "name": "stdout",
     "output_type": "stream",
     "text": [
      "              precision    recall  f1-score   support\n",
      "\n",
      "           0       0.81      0.74      0.78      3026\n",
      "           1       0.88      0.91      0.90      6043\n",
      "\n",
      "    accuracy                           0.86      9069\n",
      "   macro avg       0.84      0.83      0.84      9069\n",
      "weighted avg       0.86      0.86      0.86      9069\n",
      "\n"
     ]
    }
   ],
   "source": [
    "print(classification_report(Y_test, y_pred5))"
   ]
  },
  {
   "cell_type": "code",
   "execution_count": 113,
   "id": "a270fc45-a4c4-49d3-a5ba-5f2d2be9fa69",
   "metadata": {},
   "outputs": [
    {
     "data": {
      "text/html": [
       "<div>\n",
       "<style scoped>\n",
       "    .dataframe tbody tr th:only-of-type {\n",
       "        vertical-align: middle;\n",
       "    }\n",
       "\n",
       "    .dataframe tbody tr th {\n",
       "        vertical-align: top;\n",
       "    }\n",
       "\n",
       "    .dataframe thead th {\n",
       "        text-align: right;\n",
       "    }\n",
       "</style>\n",
       "<table border=\"1\" class=\"dataframe\">\n",
       "  <thead>\n",
       "    <tr style=\"text-align: right;\">\n",
       "      <th></th>\n",
       "      <th>Model</th>\n",
       "      <th>Accuracy Score</th>\n",
       "      <th>F1 score</th>\n",
       "      <th>Precision</th>\n",
       "      <th>Recall</th>\n",
       "    </tr>\n",
       "  </thead>\n",
       "  <tbody>\n",
       "    <tr>\n",
       "      <th>0</th>\n",
       "      <td>RandomForestClassifier</td>\n",
       "      <td>0.857426</td>\n",
       "      <td>0.895227</td>\n",
       "      <td>0.877104</td>\n",
       "      <td>0.914116</td>\n",
       "    </tr>\n",
       "    <tr>\n",
       "      <th>0</th>\n",
       "      <td>AdaBoostClassifier</td>\n",
       "      <td>0.823906</td>\n",
       "      <td>0.869045</td>\n",
       "      <td>0.861346</td>\n",
       "      <td>0.876882</td>\n",
       "    </tr>\n",
       "    <tr>\n",
       "      <th>0</th>\n",
       "      <td>KNeighborsClassifier</td>\n",
       "      <td>0.786415</td>\n",
       "      <td>0.842405</td>\n",
       "      <td>0.828585</td>\n",
       "      <td>0.856694</td>\n",
       "    </tr>\n",
       "    <tr>\n",
       "      <th>0</th>\n",
       "      <td>LogisticRegression</td>\n",
       "      <td>0.725769</td>\n",
       "      <td>0.812825</td>\n",
       "      <td>0.745445</td>\n",
       "      <td>0.893596</td>\n",
       "    </tr>\n",
       "    <tr>\n",
       "      <th>0</th>\n",
       "      <td>Support Vector Machine</td>\n",
       "      <td>0.724997</td>\n",
       "      <td>0.805733</td>\n",
       "      <td>0.761148</td>\n",
       "      <td>0.855866</td>\n",
       "    </tr>\n",
       "  </tbody>\n",
       "</table>\n",
       "</div>"
      ],
      "text/plain": [
       "                    Model  Accuracy Score  F1 score  Precision    Recall\n",
       "0  RandomForestClassifier        0.857426  0.895227   0.877104  0.914116\n",
       "0      AdaBoostClassifier        0.823906  0.869045   0.861346  0.876882\n",
       "0    KNeighborsClassifier        0.786415  0.842405   0.828585  0.856694\n",
       "0      LogisticRegression        0.725769  0.812825   0.745445  0.893596\n",
       "0  Support Vector Machine        0.724997  0.805733   0.761148  0.855866"
      ]
     },
     "execution_count": 113,
     "metadata": {},
     "output_type": "execute_result"
    }
   ],
   "source": [
    "results = pd.concat([r5,r4,r3,r2,r1])\n",
    "results_sorted = results.sort_values(by='Accuracy Score', ascending=False)\n",
    "results_sorted"
   ]
  },
  {
   "cell_type": "markdown",
   "id": "a2a8dd2b-8470-4f16-853f-2172727e8b37",
   "metadata": {},
   "source": [
    "####\n",
    "# RESULT:\n",
    "#### In the given data, the Random Forest Classifier achieved the highest accuracy score (0.857) and F1 score \n",
    "\n",
    "#### (0.895), indicating strong overall performance in predicting booking status.  Adaptive Boosting Classifier \n",
    "\n",
    "#### followed with slightly lower accuracy and F1 scores (0.823 and 0.869, respectively), while K-Nearest Neighbors \n",
    "\n",
    "#### Classifier and Logistic Regression showed comparatively lower performance.\n",
    "\n",
    "####"
   ]
  },
  {
   "cell_type": "code",
   "execution_count": null,
   "id": "19faaa47-9c01-4940-8a2a-6552f1df9490",
   "metadata": {},
   "outputs": [],
   "source": []
  }
 ],
 "metadata": {
  "kernelspec": {
   "display_name": "Python 3 (ipykernel)",
   "language": "python",
   "name": "python3"
  },
  "language_info": {
   "codemirror_mode": {
    "name": "ipython",
    "version": 3
   },
   "file_extension": ".py",
   "mimetype": "text/x-python",
   "name": "python",
   "nbconvert_exporter": "python",
   "pygments_lexer": "ipython3",
   "version": "3.12.0"
  }
 },
 "nbformat": 4,
 "nbformat_minor": 5
}
