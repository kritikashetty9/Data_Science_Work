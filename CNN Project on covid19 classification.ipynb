{
 "cells": [
  {
   "cell_type": "code",
   "execution_count": 14,
   "id": "a8315087-9ac7-4c25-b679-025fcc1a641a",
   "metadata": {},
   "outputs": [],
   "source": [
    "import numpy as np\n",
    "import os\n",
    "import matplotlib.pyplot as plt\n",
    "import tensorflow as tf\n",
    "from tensorflow.keras.preprocessing.image import ImageDataGenerator\n",
    "from tensorflow.keras.models import Sequential\n",
    "from tensorflow.keras.layers import Dense,Conv2D,Flatten,MaxPool2D"
   ]
  },
  {
   "cell_type": "code",
   "execution_count": 2,
   "id": "7cb6332a-4c34-400c-b86b-803d24ca3e42",
   "metadata": {},
   "outputs": [],
   "source": [
    "import  warnings\n",
    "warnings.filterwarnings(\"ignore\")"
   ]
  },
  {
   "cell_type": "code",
   "execution_count": 3,
   "id": "90c0f466-48d3-4d4b-a0c8-58ab9fb3bfd5",
   "metadata": {},
   "outputs": [],
   "source": [
    "train_dir = r\"C:\\Users\\Kritika\\Downloads\\Covid19-dataset\\train\"\n",
    "test_dir = r\"C:\\Users\\Kritika\\Downloads\\Covid19-dataset\\test\""
   ]
  },
  {
   "cell_type": "code",
   "execution_count": 4,
   "id": "b6cdc3b1-7f1e-4a2e-83a0-92d1c93346c5",
   "metadata": {},
   "outputs": [],
   "source": [
    "img_width , img_height = 512, 512"
   ]
  },
  {
   "cell_type": "code",
   "execution_count": 5,
   "id": "082fa6ab-03b3-4869-86d1-01ee8122ded1",
   "metadata": {},
   "outputs": [],
   "source": [
    "batch_size = 32"
   ]
  },
  {
   "cell_type": "code",
   "execution_count": 6,
   "id": "702b2f69-1951-47c8-a7ee-7ceb2251a18a",
   "metadata": {},
   "outputs": [],
   "source": [
    "train_datagen = ImageDataGenerator(\n",
    "    rescale = 1.0/255.0,\n",
    "    rotation_range=20,\n",
    "    width_shift_range=0.2,\n",
    "    height_shift_range=0.2,\n",
    "    shear_range=0.2,\n",
    "    zoom_range=0.2,\n",
    "    horizontal_flip=True\n",
    ")"
   ]
  },
  {
   "cell_type": "code",
   "execution_count": 7,
   "id": "9c62b5b3-3dfa-4207-929a-240eac600124",
   "metadata": {},
   "outputs": [],
   "source": [
    "test_datagen = ImageDataGenerator(rescale=1.0/255.0)"
   ]
  },
  {
   "cell_type": "code",
   "execution_count": 8,
   "id": "e147dd24-1e22-488a-bc34-bcaa60105122",
   "metadata": {},
   "outputs": [
    {
     "name": "stdout",
     "output_type": "stream",
     "text": [
      "Found 251 images belonging to 3 classes.\n"
     ]
    }
   ],
   "source": [
    "X_train = train_datagen.flow_from_directory(\n",
    "    train_dir,\n",
    "    target_size=(img_width,img_height),\n",
    "    batch_size=batch_size,\n",
    "    class_mode=\"categorical\"\n",
    ")"
   ]
  },
  {
   "cell_type": "code",
   "execution_count": 9,
   "id": "89a323dc-5d2c-429d-822e-6d5614c11a38",
   "metadata": {},
   "outputs": [
    {
     "name": "stdout",
     "output_type": "stream",
     "text": [
      "Found 66 images belonging to 3 classes.\n"
     ]
    }
   ],
   "source": [
    "X_test = test_datagen.flow_from_directory(\n",
    "    test_dir,\n",
    "    target_size=(img_width,img_height),\n",
    "    batch_size=batch_size,\n",
    "    class_mode=\"categorical\"\n",
    ")"
   ]
  },
  {
   "cell_type": "code",
   "execution_count": 10,
   "id": "245b1289-b604-4bf0-8492-3cc25c0d47cf",
   "metadata": {},
   "outputs": [],
   "source": [
    "model = Sequential([\n",
    "    Conv2D(32, (3, 3), activation=\"relu\", input_shape=(img_width, img_height, 3)),\n",
    "    MaxPool2D((2, 2)),\n",
    "    Conv2D(64, (3, 3), activation=\"relu\"),\n",
    "    MaxPool2D((2, 2)),\n",
    "    Conv2D(128, (3, 3), activation=\"relu\"),\n",
    "    MaxPool2D((2, 2)),\n",
    "    Conv2D(128, (3, 3), activation=\"relu\"),\n",
    "    MaxPool2D((2, 2)),\n",
    "    Flatten(),\n",
    "    Dense(512, activation=\"relu\"),\n",
    "    Dense(256, activation=\"relu\"),\n",
    "    Dense(3, activation=\"softmax\")\n",
    "])"
   ]
  },
  {
   "cell_type": "code",
   "execution_count": 11,
   "id": "06357c6c-aaa4-48cb-9eab-e5eafa153ca1",
   "metadata": {},
   "outputs": [],
   "source": [
    "model.compile(optimizer=\"adam\",loss=\"categorical_crossentropy\",metrics=[\"accuracy\"])"
   ]
  },
  {
   "cell_type": "code",
   "execution_count": 12,
   "id": "ca3d44cc-1cc3-4a6d-9aa5-7e5d0d15b686",
   "metadata": {},
   "outputs": [
    {
     "name": "stdout",
     "output_type": "stream",
     "text": [
      "Epoch 1/30\n",
      "\u001b[1m8/8\u001b[0m \u001b[32m━━━━━━━━━━━━━━━━━━━━\u001b[0m\u001b[37m\u001b[0m \u001b[1m215s\u001b[0m 26s/step - accuracy: 0.3910 - loss: 2.5897 - val_accuracy: 0.3030 - val_loss: 1.1144\n",
      "Epoch 2/30\n",
      "\u001b[1m8/8\u001b[0m \u001b[32m━━━━━━━━━━━━━━━━━━━━\u001b[0m\u001b[37m\u001b[0m \u001b[1m350s\u001b[0m 42s/step - accuracy: 0.3984 - loss: 1.0282 - val_accuracy: 0.5758 - val_loss: 0.9282\n",
      "Epoch 3/30\n",
      "\u001b[1m8/8\u001b[0m \u001b[32m━━━━━━━━━━━━━━━━━━━━\u001b[0m\u001b[37m\u001b[0m \u001b[1m323s\u001b[0m 38s/step - accuracy: 0.7574 - loss: 0.6972 - val_accuracy: 0.5152 - val_loss: 1.1242\n",
      "Epoch 4/30\n",
      "\u001b[1m8/8\u001b[0m \u001b[32m━━━━━━━━━━━━━━━━━━━━\u001b[0m\u001b[37m\u001b[0m \u001b[1m332s\u001b[0m 38s/step - accuracy: 0.6632 - loss: 0.7291 - val_accuracy: 0.6515 - val_loss: 1.1242\n",
      "Epoch 5/30\n",
      "\u001b[1m8/8\u001b[0m \u001b[32m━━━━━━━━━━━━━━━━━━━━\u001b[0m\u001b[37m\u001b[0m \u001b[1m418s\u001b[0m 43s/step - accuracy: 0.7040 - loss: 0.6543 - val_accuracy: 0.6364 - val_loss: 1.1021\n",
      "Epoch 6/30\n",
      "\u001b[1m8/8\u001b[0m \u001b[32m━━━━━━━━━━━━━━━━━━━━\u001b[0m\u001b[37m\u001b[0m \u001b[1m353s\u001b[0m 38s/step - accuracy: 0.8300 - loss: 0.4868 - val_accuracy: 0.4394 - val_loss: 1.5127\n",
      "Epoch 7/30\n",
      "\u001b[1m8/8\u001b[0m \u001b[32m━━━━━━━━━━━━━━━━━━━━\u001b[0m\u001b[37m\u001b[0m \u001b[1m246s\u001b[0m 27s/step - accuracy: 0.7630 - loss: 0.5520 - val_accuracy: 0.5455 - val_loss: 0.9477\n",
      "Epoch 8/30\n",
      "\u001b[1m8/8\u001b[0m \u001b[32m━━━━━━━━━━━━━━━━━━━━\u001b[0m\u001b[37m\u001b[0m \u001b[1m2100s\u001b[0m 294s/step - accuracy: 0.7066 - loss: 0.6614 - val_accuracy: 0.6364 - val_loss: 0.7636\n",
      "Epoch 9/30\n",
      "\u001b[1m8/8\u001b[0m \u001b[32m━━━━━━━━━━━━━━━━━━━━\u001b[0m\u001b[37m\u001b[0m \u001b[1m233s\u001b[0m 26s/step - accuracy: 0.7392 - loss: 0.6428 - val_accuracy: 0.6515 - val_loss: 0.7410\n",
      "Epoch 10/30\n",
      "\u001b[1m8/8\u001b[0m \u001b[32m━━━━━━━━━━━━━━━━━━━━\u001b[0m\u001b[37m\u001b[0m \u001b[1m1041s\u001b[0m 38s/step - accuracy: 0.8399 - loss: 0.4172 - val_accuracy: 0.6515 - val_loss: 1.1500\n",
      "Epoch 11/30\n",
      "\u001b[1m8/8\u001b[0m \u001b[32m━━━━━━━━━━━━━━━━━━━━\u001b[0m\u001b[37m\u001b[0m \u001b[1m302s\u001b[0m 35s/step - accuracy: 0.7964 - loss: 0.4786 - val_accuracy: 0.6515 - val_loss: 1.0422\n",
      "Epoch 12/30\n",
      "\u001b[1m8/8\u001b[0m \u001b[32m━━━━━━━━━━━━━━━━━━━━\u001b[0m\u001b[37m\u001b[0m \u001b[1m297s\u001b[0m 35s/step - accuracy: 0.8209 - loss: 0.5233 - val_accuracy: 0.6970 - val_loss: 0.7215\n",
      "Epoch 13/30\n",
      "\u001b[1m8/8\u001b[0m \u001b[32m━━━━━━━━━━━━━━━━━━━━\u001b[0m\u001b[37m\u001b[0m \u001b[1m334s\u001b[0m 40s/step - accuracy: 0.8337 - loss: 0.4092 - val_accuracy: 0.6970 - val_loss: 0.7955\n",
      "Epoch 14/30\n",
      "\u001b[1m8/8\u001b[0m \u001b[32m━━━━━━━━━━━━━━━━━━━━\u001b[0m\u001b[37m\u001b[0m \u001b[1m1448s\u001b[0m 105s/step - accuracy: 0.7667 - loss: 0.4773 - val_accuracy: 0.6970 - val_loss: 0.7482\n",
      "Epoch 15/30\n",
      "\u001b[1m8/8\u001b[0m \u001b[32m━━━━━━━━━━━━━━━━━━━━\u001b[0m\u001b[37m\u001b[0m \u001b[1m405s\u001b[0m 50s/step - accuracy: 0.8232 - loss: 0.4086 - val_accuracy: 0.7121 - val_loss: 0.8505\n",
      "Epoch 16/30\n",
      "\u001b[1m8/8\u001b[0m \u001b[32m━━━━━━━━━━━━━━━━━━━━\u001b[0m\u001b[37m\u001b[0m \u001b[1m794s\u001b[0m 36s/step - accuracy: 0.8392 - loss: 0.4640 - val_accuracy: 0.7273 - val_loss: 0.6408\n",
      "Epoch 17/30\n",
      "\u001b[1m8/8\u001b[0m \u001b[32m━━━━━━━━━━━━━━━━━━━━\u001b[0m\u001b[37m\u001b[0m \u001b[1m893s\u001b[0m 119s/step - accuracy: 0.7879 - loss: 0.5886 - val_accuracy: 0.7424 - val_loss: 0.6586\n",
      "Epoch 18/30\n",
      "\u001b[1m8/8\u001b[0m \u001b[32m━━━━━━━━━━━━━━━━━━━━\u001b[0m\u001b[37m\u001b[0m \u001b[1m353s\u001b[0m 43s/step - accuracy: 0.8325 - loss: 0.4007 - val_accuracy: 0.7273 - val_loss: 0.6168\n",
      "Epoch 19/30\n",
      "\u001b[1m8/8\u001b[0m \u001b[32m━━━━━━━━━━━━━━━━━━━━\u001b[0m\u001b[37m\u001b[0m \u001b[1m354s\u001b[0m 43s/step - accuracy: 0.8421 - loss: 0.3860 - val_accuracy: 0.7727 - val_loss: 0.7092\n",
      "Epoch 20/30\n",
      "\u001b[1m8/8\u001b[0m \u001b[32m━━━━━━━━━━━━━━━━━━━━\u001b[0m\u001b[37m\u001b[0m \u001b[1m365s\u001b[0m 45s/step - accuracy: 0.8764 - loss: 0.3138 - val_accuracy: 0.7576 - val_loss: 0.7893\n",
      "Epoch 21/30\n",
      "\u001b[1m8/8\u001b[0m \u001b[32m━━━━━━━━━━━━━━━━━━━━\u001b[0m\u001b[37m\u001b[0m \u001b[1m362s\u001b[0m 42s/step - accuracy: 0.8719 - loss: 0.3160 - val_accuracy: 0.7273 - val_loss: 0.8829\n",
      "Epoch 22/30\n",
      "\u001b[1m8/8\u001b[0m \u001b[32m━━━━━━━━━━━━━━━━━━━━\u001b[0m\u001b[37m\u001b[0m \u001b[1m325s\u001b[0m 36s/step - accuracy: 0.8585 - loss: 0.3425 - val_accuracy: 0.7727 - val_loss: 0.6113\n",
      "Epoch 23/30\n",
      "\u001b[1m8/8\u001b[0m \u001b[32m━━━━━━━━━━━━━━━━━━━━\u001b[0m\u001b[37m\u001b[0m \u001b[1m226s\u001b[0m 27s/step - accuracy: 0.8937 - loss: 0.2833 - val_accuracy: 0.7879 - val_loss: 0.6759\n",
      "Epoch 24/30\n",
      "\u001b[1m8/8\u001b[0m \u001b[32m━━━━━━━━━━━━━━━━━━━━\u001b[0m\u001b[37m\u001b[0m \u001b[1m214s\u001b[0m 24s/step - accuracy: 0.8704 - loss: 0.3347 - val_accuracy: 0.8030 - val_loss: 0.7428\n",
      "Epoch 25/30\n",
      "\u001b[1m8/8\u001b[0m \u001b[32m━━━━━━━━━━━━━━━━━━━━\u001b[0m\u001b[37m\u001b[0m \u001b[1m269s\u001b[0m 33s/step - accuracy: 0.8679 - loss: 0.3370 - val_accuracy: 0.8182 - val_loss: 0.5834\n",
      "Epoch 26/30\n",
      "\u001b[1m8/8\u001b[0m \u001b[32m━━━━━━━━━━━━━━━━━━━━\u001b[0m\u001b[37m\u001b[0m \u001b[1m221s\u001b[0m 24s/step - accuracy: 0.8558 - loss: 0.3363 - val_accuracy: 0.7273 - val_loss: 0.5412\n",
      "Epoch 27/30\n",
      "\u001b[1m8/8\u001b[0m \u001b[32m━━━━━━━━━━━━━━━━━━━━\u001b[0m\u001b[37m\u001b[0m \u001b[1m321s\u001b[0m 38s/step - accuracy: 0.8635 - loss: 0.3147 - val_accuracy: 0.6970 - val_loss: 0.8546\n",
      "Epoch 28/30\n",
      "\u001b[1m8/8\u001b[0m \u001b[32m━━━━━━━━━━━━━━━━━━━━\u001b[0m\u001b[37m\u001b[0m \u001b[1m299s\u001b[0m 34s/step - accuracy: 0.8827 - loss: 0.3938 - val_accuracy: 0.7424 - val_loss: 0.7288\n",
      "Epoch 29/30\n",
      "\u001b[1m8/8\u001b[0m \u001b[32m━━━━━━━━━━━━━━━━━━━━\u001b[0m\u001b[37m\u001b[0m \u001b[1m311s\u001b[0m 36s/step - accuracy: 0.8472 - loss: 0.3327 - val_accuracy: 0.8182 - val_loss: 0.5072\n",
      "Epoch 30/30\n",
      "\u001b[1m8/8\u001b[0m \u001b[32m━━━━━━━━━━━━━━━━━━━━\u001b[0m\u001b[37m\u001b[0m \u001b[1m198s\u001b[0m 23s/step - accuracy: 0.8857 - loss: 0.2588 - val_accuracy: 0.8485 - val_loss: 0.4891\n"
     ]
    }
   ],
   "source": [
    "history = model.fit(X_train,epochs=30,validation_data=X_test)"
   ]
  },
  {
   "cell_type": "code",
   "execution_count": 15,
   "id": "886ea573-e106-4308-b70c-c9cafb507ee3",
   "metadata": {},
   "outputs": [
    {
     "data": {
      "image/png": "[encoded data removed]",
      "text/plain": [
       "<Figure size 640x480 with 1 Axes>"
      ]
     },
     "metadata": {},
     "output_type": "display_data"
    }
   ],
   "source": [
    "plt.plot(history.history[\"accuracy\"])\n",
    "plt.plot(history.history[\"val_accuracy\"])\n",
    "plt.title(\"Model Accuracy\")\n",
    "plt.xlabel(\"Epochs\")\n",
    "plt.ylabel(\"Accuracy\")\n",
    "plt.legend([\"Train\", \"Validation\"])\n",
    "plt.show()"
   ]
  },
  {
   "cell_type": "code",
   "execution_count": 16,
   "id": "e13a52be-8518-4abe-a26e-650f2c0708d6",
   "metadata": {},
   "outputs": [
    {
     "data": {
      "image/png": "[encoded data removed]",
      "text/plain": [
       "<Figure size 640x480 with 1 Axes>"
      ]
     },
     "metadata": {},
     "output_type": "display_data"
    }
   ],
   "source": [
    "plt.plot(history.history[\"loss\"])\n",
    "plt.plot(history.history[\"val_loss\"])\n",
    "plt.title(\"Model Loss\")\n",
    "plt.xlabel(\"Epochs\")\n",
    "plt.ylabel(\"Loss\")\n",
    "plt.legend([\"Train\", \"Validation\"])\n",
    "plt.show()"
   ]
  },
  {
   "cell_type": "code",
   "execution_count": 17,
   "id": "1896534e-b597-4522-879d-47dc6b57e4fb",
   "metadata": {},
   "outputs": [],
   "source": [
    "class_labels = X_train.class_indices"
   ]
  },
  {
   "cell_type": "code",
   "execution_count": 18,
   "id": "abd60dbe-0982-49ab-8946-c8accb078448",
   "metadata": {},
   "outputs": [
    {
     "name": "stdout",
     "output_type": "stream",
     "text": [
      "Class Names: {0: 'Covid', 1: 'Normal', 2: 'Viral Pneumonia'}\n"
     ]
    }
   ],
   "source": [
    "class_names = {value: key for key, value in class_labels.items()}\n",
    "print(\"Class Names:\", class_names)"
   ]
  },
  {
   "cell_type": "code",
   "execution_count": 19,
   "id": "d211b4eb-81b6-49fc-924c-e68b1f5535da",
   "metadata": {},
   "outputs": [],
   "source": [
    "from tensorflow.keras.preprocessing import image"
   ]
  },
  {
   "cell_type": "code",
   "execution_count": 26,
   "id": "8918d08c-1c0d-4c0f-8464-db746a9a86f5",
   "metadata": {},
   "outputs": [],
   "source": [
    "img_path = r\"C:\\Users\\Kritika\\Downloads\\Covid19-dataset\\test\\Covid\\0111.jpg\""
   ]
  },
  {
   "cell_type": "code",
   "execution_count": 27,
   "id": "51a6e3d3-0bfd-4661-8bcc-26cff1caa2c9",
   "metadata": {},
   "outputs": [],
   "source": [
    "img = image.load_img(img_path, target_size=(img_width, img_height))"
   ]
  },
  {
   "cell_type": "code",
   "execution_count": 28,
   "id": "263daaa4-4f31-4b13-8967-640f97406dce",
   "metadata": {},
   "outputs": [],
   "source": [
    "img_arr = image.img_to_array(img)"
   ]
  },
  {
   "cell_type": "code",
   "execution_count": 29,
   "id": "472e9432-c8f9-4f22-9084-dd01b0235672",
   "metadata": {},
   "outputs": [],
   "source": [
    "img_arr = np.expand_dims(img_arr, axis=0)"
   ]
  },
  {
   "cell_type": "code",
   "execution_count": 30,
   "id": "93e7f3e1-7bf4-4779-9fa4-a41ec9b97ce7",
   "metadata": {},
   "outputs": [],
   "source": [
    "img_arr = img_arr / 255.0"
   ]
  },
  {
   "cell_type": "code",
   "execution_count": 32,
   "id": "cf40bd07-d100-4500-8cbd-a7732e04589b",
   "metadata": {},
   "outputs": [
    {
     "name": "stdout",
     "output_type": "stream",
     "text": [
      "\u001b[1m1/1\u001b[0m \u001b[32m━━━━━━━━━━━━━━━━━━━━\u001b[0m\u001b[37m\u001b[0m \u001b[1m1s\u001b[0m 633ms/step\n"
     ]
    }
   ],
   "source": [
    "pred = model.predict(img_arr)"
   ]
  },
  {
   "cell_type": "code",
   "execution_count": 33,
   "id": "5df73de0-b302-484a-ae1a-cc11639df518",
   "metadata": {},
   "outputs": [],
   "source": [
    "pred_class = np.argmax(pred)"
   ]
  },
  {
   "cell_type": "code",
   "execution_count": 35,
   "id": "e09023d3-49e2-4875-af7b-e5c8ae482a79",
   "metadata": {},
   "outputs": [
    {
     "data": {
      "text/plain": [
       "'Covid'"
      ]
     },
     "execution_count": 35,
     "metadata": {},
     "output_type": "execute_result"
    }
   ],
   "source": [
    "class_names[pred_class]"
   ]
  },
  {
   "cell_type": "code",
   "execution_count": 36,
   "id": "effeff8c-f858-4ddd-8228-0c230a4e08eb",
   "metadata": {},
   "outputs": [],
   "source": [
    "img_path2 = r\"C:\\Users\\Kritika\\Downloads\\Covid19-dataset\\test\\Normal\\0108.jpeg\""
   ]
  },
  {
   "cell_type": "code",
   "execution_count": 37,
   "id": "9fdbc971-19e8-43c6-b7d8-e04726330ef9",
   "metadata": {},
   "outputs": [],
   "source": [
    "img2 = image.load_img(img_path2, target_size=(img_width, img_height))"
   ]
  },
  {
   "cell_type": "code",
   "execution_count": 38,
   "id": "16c728f3-cf65-4b99-8c6b-242db887094d",
   "metadata": {},
   "outputs": [],
   "source": [
    "img_arr2 = image.img_to_array(img2)"
   ]
  },
  {
   "cell_type": "code",
   "execution_count": 39,
   "id": "6879eb18-2e5a-4e7d-8847-d707dae47267",
   "metadata": {},
   "outputs": [],
   "source": [
    "img_arr2 = np.expand_dims(img_arr2, axis=0)"
   ]
  },
  {
   "cell_type": "code",
   "execution_count": 40,
   "id": "75727252-d1ad-43c8-ac24-f5cb7a07d97e",
   "metadata": {},
   "outputs": [],
   "source": [
    "img_arr2 = img_arr2 / 255.0"
   ]
  },
  {
   "cell_type": "code",
   "execution_count": 41,
   "id": "535c4c34-4823-425f-9f9a-b837f403c3d7",
   "metadata": {},
   "outputs": [
    {
     "name": "stdout",
     "output_type": "stream",
     "text": [
      "\u001b[1m1/1\u001b[0m \u001b[32m━━━━━━━━━━━━━━━━━━━━\u001b[0m\u001b[37m\u001b[0m \u001b[1m0s\u001b[0m 155ms/step\n"
     ]
    }
   ],
   "source": [
    "pred2 = model.predict(img_arr2)"
   ]
  },
  {
   "cell_type": "code",
   "execution_count": 42,
   "id": "0eccd739-4f62-42ea-a7cf-46a81ac67b36",
   "metadata": {},
   "outputs": [],
   "source": [
    "pred_class2 = np.argmax(pred2)"
   ]
  },
  {
   "cell_type": "code",
   "execution_count": 43,
   "id": "95ea800e-dd5f-4fd1-b679-95cf611a0e45",
   "metadata": {},
   "outputs": [
    {
     "data": {
      "text/plain": [
       "'Normal'"
      ]
     },
     "execution_count": 43,
     "metadata": {},
     "output_type": "execute_result"
    }
   ],
   "source": [
    "class_names[pred_class2]"
   ]
  },
  {
   "cell_type": "code",
   "execution_count": 44,
   "id": "1fd00483-3fff-4b00-b805-0646455980bc",
   "metadata": {},
   "outputs": [],
   "source": [
    "img_path3 = r\"C:\\Users\\Kritika\\Downloads\\Covid19-dataset\\test\\Viral Pneumonia\\0120.jpeg\""
   ]
  },
  {
   "cell_type": "code",
   "execution_count": 45,
   "id": "44d5624b-a19b-4ace-b66d-4b84322d9208",
   "metadata": {},
   "outputs": [],
   "source": [
    "img3 = image.load_img(img_path3, target_size=(img_width, img_height))"
   ]
  },
  {
   "cell_type": "code",
   "execution_count": 46,
   "id": "ef47e5a6-7371-46ff-ad26-5f74f34bcc3e",
   "metadata": {},
   "outputs": [],
   "source": [
    "img_arr3 = image.img_to_array(img3)"
   ]
  },
  {
   "cell_type": "code",
   "execution_count": 47,
   "id": "b5eb4159-e94d-404b-8399-b7394904545a",
   "metadata": {},
   "outputs": [],
   "source": [
    "img_arr3 = np.expand_dims(img_arr3, axis=0)"
   ]
  },
  {
   "cell_type": "code",
   "execution_count": 48,
   "id": "e27877cc-9b02-4e74-bc2a-939643074bb9",
   "metadata": {},
   "outputs": [],
   "source": [
    "img_arr3 = img_arr3 / 255.0"
   ]
  },
  {
   "cell_type": "code",
   "execution_count": 49,
   "id": "b2dad2dd-ca3e-4006-ace3-960205f762d1",
   "metadata": {},
   "outputs": [
    {
     "name": "stdout",
     "output_type": "stream",
     "text": [
      "\u001b[1m1/1\u001b[0m \u001b[32m━━━━━━━━━━━━━━━━━━━━\u001b[0m\u001b[37m\u001b[0m \u001b[1m0s\u001b[0m 177ms/step\n"
     ]
    }
   ],
   "source": [
    "pred3 = model.predict(img_arr3)"
   ]
  },
  {
   "cell_type": "code",
   "execution_count": 50,
   "id": "a995d2ad-fd19-4976-a629-505bbf13235d",
   "metadata": {},
   "outputs": [],
   "source": [
    "pred_class3 = np.argmax(pred3)"
   ]
  },
  {
   "cell_type": "code",
   "execution_count": 51,
   "id": "f414b5ed-2f2a-4459-be00-70676f3e9abd",
   "metadata": {},
   "outputs": [
    {
     "data": {
      "text/plain": [
       "'Viral Pneumonia'"
      ]
     },
     "execution_count": 51,
     "metadata": {},
     "output_type": "execute_result"
    }
   ],
   "source": [
    "class_names[pred_class3]"
   ]
  },
  {
   "cell_type": "code",
   "execution_count": null,
   "id": "de9a80ff-329f-43b6-8407-e8544034f18e",
   "metadata": {},
   "outputs": [],
   "source": []
  }
 ],
 "metadata": {
  "kernelspec": {
   "display_name": "Python 3 (ipykernel)",
   "language": "python",
   "name": "python3"
  },
  "language_info": {
   "codemirror_mode": {
    "name": "ipython",
    "version": 3
   },
   "file_extension": ".py",
   "mimetype": "text/x-python",
   "name": "python",
   "nbconvert_exporter": "python",
   "pygments_lexer": "ipython3",
   "version": "3.12.0"
  }
 },
 "nbformat": 4,
 "nbformat_minor": 5
}
