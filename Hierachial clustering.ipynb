{
 "cells": [
  {
   "cell_type": "code",
   "execution_count": 1,
   "id": "6e8b699f-8c44-45c7-a9ad-73ca3ff40581",
   "metadata": {},
   "outputs": [],
   "source": [
    "import numpy as np\n",
    "import pandas as pd\n",
    "from matplotlib import pyplot as plt\n",
    "import scipy.cluster.hierarchy as sch"
   ]
  },
  {
   "cell_type": "code",
   "execution_count": 2,
   "id": "fd292bc8-f81d-4731-b25c-74f522eab40c",
   "metadata": {},
   "outputs": [],
   "source": [
    "data = np.random.randint(35,99,40)\n",
    "data2 = np.random.randint(35,99,40)"
   ]
  },
  {
   "cell_type": "code",
   "execution_count": 3,
   "id": "31d329eb-eaa3-4958-953f-fc9f847bf53c",
   "metadata": {},
   "outputs": [],
   "source": [
    "x = pd.DataFrame(data,columns=[\"col 1\"])\n",
    "x[\"col 2\"] = data2"
   ]
  },
  {
   "cell_type": "code",
   "execution_count": 5,
   "id": "6385fac0-37f5-401e-86b7-7ae873721fc2",
   "metadata": {},
   "outputs": [
    {
     "data": {
      "text/html": [
       "<div>\n",
       "<style scoped>\n",
       "    .dataframe tbody tr th:only-of-type {\n",
       "        vertical-align: middle;\n",
       "    }\n",
       "\n",
       "    .dataframe tbody tr th {\n",
       "        vertical-align: top;\n",
       "    }\n",
       "\n",
       "    .dataframe thead th {\n",
       "        text-align: right;\n",
       "    }\n",
       "</style>\n",
       "<table border=\"1\" class=\"dataframe\">\n",
       "  <thead>\n",
       "    <tr style=\"text-align: right;\">\n",
       "      <th></th>\n",
       "      <th>col 1</th>\n",
       "      <th>col 2</th>\n",
       "    </tr>\n",
       "  </thead>\n",
       "  <tbody>\n",
       "    <tr>\n",
       "      <th>0</th>\n",
       "      <td>66</td>\n",
       "      <td>38</td>\n",
       "    </tr>\n",
       "    <tr>\n",
       "      <th>1</th>\n",
       "      <td>75</td>\n",
       "      <td>55</td>\n",
       "    </tr>\n",
       "    <tr>\n",
       "      <th>2</th>\n",
       "      <td>81</td>\n",
       "      <td>63</td>\n",
       "    </tr>\n",
       "    <tr>\n",
       "      <th>3</th>\n",
       "      <td>59</td>\n",
       "      <td>75</td>\n",
       "    </tr>\n",
       "    <tr>\n",
       "      <th>4</th>\n",
       "      <td>35</td>\n",
       "      <td>71</td>\n",
       "    </tr>\n",
       "  </tbody>\n",
       "</table>\n",
       "</div>"
      ],
      "text/plain": [
       "   col 1  col 2\n",
       "0     66     38\n",
       "1     75     55\n",
       "2     81     63\n",
       "3     59     75\n",
       "4     35     71"
      ]
     },
     "execution_count": 5,
     "metadata": {},
     "output_type": "execute_result"
    }
   ],
   "source": [
    "x.head()"
   ]
  },
  {
   "cell_type": "code",
   "execution_count": 6,
   "id": "d89eb3b5-a62d-4d5f-a046-ca9340371875",
   "metadata": {},
   "outputs": [
    {
     "data": {
      "image/png": "[encoded data removed]",
      "text/plain": [
       "<Figure size 1000x500 with 1 Axes>"
      ]
     },
     "metadata": {},
     "output_type": "display_data"
    }
   ],
   "source": [
    "plt.figure(figsize=(10,5))\n",
    "sch.dendrogram(sch.linkage(x,method=\"ward\"))\n",
    "plt.axhline(100,linestyle=\"--\",color=\"red\")\n",
    "plt.show()"
   ]
  },
  {
   "cell_type": "code",
   "execution_count": 7,
   "id": "19221e98-e963-4f12-879b-3a0763f96623",
   "metadata": {},
   "outputs": [],
   "source": [
    "d1 = np.random.randint(1,9,20)\n",
    "d2 = np.random.randint(1,9,20)"
   ]
  },
  {
   "cell_type": "code",
   "execution_count": 8,
   "id": "49a07613-0ca5-4fc3-a81a-5d0afb32db50",
   "metadata": {},
   "outputs": [
    {
     "data": {
      "text/plain": [
       "array([5, 1, 1, 8, 7, 1, 6, 6, 4, 7, 4, 1, 2, 8, 2, 8, 5, 4, 5, 5])"
      ]
     },
     "execution_count": 8,
     "metadata": {},
     "output_type": "execute_result"
    }
   ],
   "source": [
    "d1"
   ]
  },
  {
   "cell_type": "code",
   "execution_count": 9,
   "id": "8dcc54be-a544-4004-b0ff-57babb35009a",
   "metadata": {},
   "outputs": [
    {
     "data": {
      "text/plain": [
       "array([8, 5, 8, 1, 4, 7, 7, 2, 3, 7, 3, 2, 7, 7, 5, 8, 5, 8, 5, 3])"
      ]
     },
     "execution_count": 9,
     "metadata": {},
     "output_type": "execute_result"
    }
   ],
   "source": [
    "d2"
   ]
  },
  {
   "cell_type": "code",
   "execution_count": 10,
   "id": "11cbe471-8d5d-45e4-9003-a030aecc326e",
   "metadata": {},
   "outputs": [],
   "source": [
    "df = pd.DataFrame({\"col 1\":d1,\"col 2\":d2})"
   ]
  },
  {
   "cell_type": "code",
   "execution_count": 11,
   "id": "35545cc7-8a12-4c87-9374-f5ca168a99be",
   "metadata": {},
   "outputs": [
    {
     "ename": "SyntaxError",
     "evalue": "incomplete input (4073840364.py, line 1)",
     "output_type": "error",
     "traceback": [
      "\u001b[1;36m  Cell \u001b[1;32mIn[11], line 1\u001b[1;36m\u001b[0m\n\u001b[1;33m    [[np.sqrt(np.square(df.iloc[i]-df.iloc[j])) for i in range(len(df))] for j in range*\u001b[0m\n\u001b[1;37m                                                                                        ^\u001b[0m\n\u001b[1;31mSyntaxError\u001b[0m\u001b[1;31m:\u001b[0m incomplete input\n"
     ]
    }
   ],
   "source": [
    "[[np.sqrt(np.square(df.iloc[i]-df.iloc[j])) for i in range(len(df))] for j in range(len(df))"
   ]
  },
  {
   "cell_type": "code",
   "execution_count": null,
   "id": "1d82598d-6cc6-4030-aab3-83ff1697e34a",
   "metadata": {},
   "outputs": [],
   "source": []
  }
 ],
 "metadata": {
  "kernelspec": {
   "display_name": "Python 3 (ipykernel)",
   "language": "python",
   "name": "python3"
  },
  "language_info": {
   "codemirror_mode": {
    "name": "ipython",
    "version": 3
   },
   "file_extension": ".py",
   "mimetype": "text/x-python",
   "name": "python",
   "nbconvert_exporter": "python",
   "pygments_lexer": "ipython3",
   "version": "3.12.0"
  }
 },
 "nbformat": 4,
 "nbformat_minor": 5
}
