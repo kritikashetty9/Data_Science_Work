{
 "cells": [
  {
   "cell_type": "code",
   "execution_count": 1,
   "id": "a46d1ff9-f686-47c6-ae6d-a453d1dd874f",
   "metadata": {},
   "outputs": [],
   "source": [
    "import numpy as np\n",
    "import matplotlib.pyplot as plt\n",
    "import pandas as pd\n",
    "#Time Series model is always Regression Model"
   ]
  },
  {
   "cell_type": "code",
   "execution_count": 8,
   "id": "28a2e05f-ae11-47d7-aca1-ac1fd849c850",
   "metadata": {},
   "outputs": [],
   "source": [
    "df = pd.read_csv(\"monthly_milk_production.csv\",index_col=\"Date\",parse_dates=True)"
   ]
  },
  {
   "cell_type": "code",
   "execution_count": null,
   "id": "f63c60c1-397f-4fa0-9961-7f999c3dbe5d",
   "metadata": {},
   "outputs": [],
   "source": [
    "df.info()"
   ]
  },
  {
   "cell_type": "code",
   "execution_count": 9,
   "id": "6e0845ed-290b-4e57-aa9d-9e5f3f423dd5",
   "metadata": {},
   "outputs": [
    {
     "data": {
      "text/html": [
       "<div>\n",
       "<style scoped>\n",
       "    .dataframe tbody tr th:only-of-type {\n",
       "        vertical-align: middle;\n",
       "    }\n",
       "\n",
       "    .dataframe tbody tr th {\n",
       "        vertical-align: top;\n",
       "    }\n",
       "\n",
       "    .dataframe thead th {\n",
       "        text-align: right;\n",
       "    }\n",
       "</style>\n",
       "<table border=\"1\" class=\"dataframe\">\n",
       "  <thead>\n",
       "    <tr style=\"text-align: right;\">\n",
       "      <th></th>\n",
       "      <th>Production</th>\n",
       "    </tr>\n",
       "    <tr>\n",
       "      <th>Date</th>\n",
       "      <th></th>\n",
       "    </tr>\n",
       "  </thead>\n",
       "  <tbody>\n",
       "    <tr>\n",
       "      <th>1962-01-01</th>\n",
       "      <td>589</td>\n",
       "    </tr>\n",
       "    <tr>\n",
       "      <th>1962-02-01</th>\n",
       "      <td>561</td>\n",
       "    </tr>\n",
       "    <tr>\n",
       "      <th>1962-03-01</th>\n",
       "      <td>640</td>\n",
       "    </tr>\n",
       "    <tr>\n",
       "      <th>1962-04-01</th>\n",
       "      <td>656</td>\n",
       "    </tr>\n",
       "    <tr>\n",
       "      <th>1962-05-01</th>\n",
       "      <td>727</td>\n",
       "    </tr>\n",
       "  </tbody>\n",
       "</table>\n",
       "</div>"
      ],
      "text/plain": [
       "            Production\n",
       "Date                  \n",
       "1962-01-01         589\n",
       "1962-02-01         561\n",
       "1962-03-01         640\n",
       "1962-04-01         656\n",
       "1962-05-01         727"
      ]
     },
     "execution_count": 9,
     "metadata": {},
     "output_type": "execute_result"
    }
   ],
   "source": [
    "df.head()"
   ]
  },
  {
   "cell_type": "code",
   "execution_count": 10,
   "id": "cec7fd39-b44f-4962-a6b2-2a25210203da",
   "metadata": {},
   "outputs": [
    {
     "data": {
      "text/html": [
       "<div>\n",
       "<style scoped>\n",
       "    .dataframe tbody tr th:only-of-type {\n",
       "        vertical-align: middle;\n",
       "    }\n",
       "\n",
       "    .dataframe tbody tr th {\n",
       "        vertical-align: top;\n",
       "    }\n",
       "\n",
       "    .dataframe thead th {\n",
       "        text-align: right;\n",
       "    }\n",
       "</style>\n",
       "<table border=\"1\" class=\"dataframe\">\n",
       "  <thead>\n",
       "    <tr style=\"text-align: right;\">\n",
       "      <th></th>\n",
       "      <th>Production</th>\n",
       "    </tr>\n",
       "    <tr>\n",
       "      <th>Date</th>\n",
       "      <th></th>\n",
       "    </tr>\n",
       "  </thead>\n",
       "  <tbody>\n",
       "    <tr>\n",
       "      <th>1975-08-01</th>\n",
       "      <td>858</td>\n",
       "    </tr>\n",
       "    <tr>\n",
       "      <th>1975-09-01</th>\n",
       "      <td>817</td>\n",
       "    </tr>\n",
       "    <tr>\n",
       "      <th>1975-10-01</th>\n",
       "      <td>827</td>\n",
       "    </tr>\n",
       "    <tr>\n",
       "      <th>1975-11-01</th>\n",
       "      <td>797</td>\n",
       "    </tr>\n",
       "    <tr>\n",
       "      <th>1975-12-01</th>\n",
       "      <td>843</td>\n",
       "    </tr>\n",
       "  </tbody>\n",
       "</table>\n",
       "</div>"
      ],
      "text/plain": [
       "            Production\n",
       "Date                  \n",
       "1975-08-01         858\n",
       "1975-09-01         817\n",
       "1975-10-01         827\n",
       "1975-11-01         797\n",
       "1975-12-01         843"
      ]
     },
     "execution_count": 10,
     "metadata": {},
     "output_type": "execute_result"
    }
   ],
   "source": [
    "df.tail()"
   ]
  },
  {
   "cell_type": "code",
   "execution_count": 11,
   "id": "0f7e3ef3-4d03-44f1-876a-1a801c20c2bf",
   "metadata": {
    "scrolled": true
   },
   "outputs": [
    {
     "data": {
      "text/html": [
       "<div>\n",
       "<style scoped>\n",
       "    .dataframe tbody tr th:only-of-type {\n",
       "        vertical-align: middle;\n",
       "    }\n",
       "\n",
       "    .dataframe tbody tr th {\n",
       "        vertical-align: top;\n",
       "    }\n",
       "\n",
       "    .dataframe thead th {\n",
       "        text-align: right;\n",
       "    }\n",
       "</style>\n",
       "<table border=\"1\" class=\"dataframe\">\n",
       "  <thead>\n",
       "    <tr style=\"text-align: right;\">\n",
       "      <th></th>\n",
       "      <th>Production</th>\n",
       "    </tr>\n",
       "    <tr>\n",
       "      <th>Date</th>\n",
       "      <th></th>\n",
       "    </tr>\n",
       "  </thead>\n",
       "  <tbody>\n",
       "    <tr>\n",
       "      <th>1962-01-01</th>\n",
       "      <td>589</td>\n",
       "    </tr>\n",
       "    <tr>\n",
       "      <th>1962-02-01</th>\n",
       "      <td>561</td>\n",
       "    </tr>\n",
       "    <tr>\n",
       "      <th>1962-03-01</th>\n",
       "      <td>640</td>\n",
       "    </tr>\n",
       "    <tr>\n",
       "      <th>1962-04-01</th>\n",
       "      <td>656</td>\n",
       "    </tr>\n",
       "    <tr>\n",
       "      <th>1962-05-01</th>\n",
       "      <td>727</td>\n",
       "    </tr>\n",
       "    <tr>\n",
       "      <th>1962-06-01</th>\n",
       "      <td>697</td>\n",
       "    </tr>\n",
       "    <tr>\n",
       "      <th>1962-07-01</th>\n",
       "      <td>640</td>\n",
       "    </tr>\n",
       "    <tr>\n",
       "      <th>1962-08-01</th>\n",
       "      <td>599</td>\n",
       "    </tr>\n",
       "    <tr>\n",
       "      <th>1962-09-01</th>\n",
       "      <td>568</td>\n",
       "    </tr>\n",
       "    <tr>\n",
       "      <th>1962-10-01</th>\n",
       "      <td>577</td>\n",
       "    </tr>\n",
       "    <tr>\n",
       "      <th>1962-11-01</th>\n",
       "      <td>553</td>\n",
       "    </tr>\n",
       "    <tr>\n",
       "      <th>1962-12-01</th>\n",
       "      <td>582</td>\n",
       "    </tr>\n",
       "    <tr>\n",
       "      <th>1963-01-01</th>\n",
       "      <td>600</td>\n",
       "    </tr>\n",
       "    <tr>\n",
       "      <th>1963-02-01</th>\n",
       "      <td>566</td>\n",
       "    </tr>\n",
       "    <tr>\n",
       "      <th>1963-03-01</th>\n",
       "      <td>653</td>\n",
       "    </tr>\n",
       "    <tr>\n",
       "      <th>1963-04-01</th>\n",
       "      <td>673</td>\n",
       "    </tr>\n",
       "    <tr>\n",
       "      <th>1963-05-01</th>\n",
       "      <td>742</td>\n",
       "    </tr>\n",
       "    <tr>\n",
       "      <th>1963-06-01</th>\n",
       "      <td>716</td>\n",
       "    </tr>\n",
       "    <tr>\n",
       "      <th>1963-07-01</th>\n",
       "      <td>660</td>\n",
       "    </tr>\n",
       "    <tr>\n",
       "      <th>1963-08-01</th>\n",
       "      <td>617</td>\n",
       "    </tr>\n",
       "    <tr>\n",
       "      <th>1963-09-01</th>\n",
       "      <td>583</td>\n",
       "    </tr>\n",
       "    <tr>\n",
       "      <th>1963-10-01</th>\n",
       "      <td>587</td>\n",
       "    </tr>\n",
       "    <tr>\n",
       "      <th>1963-11-01</th>\n",
       "      <td>565</td>\n",
       "    </tr>\n",
       "    <tr>\n",
       "      <th>1963-12-01</th>\n",
       "      <td>598</td>\n",
       "    </tr>\n",
       "  </tbody>\n",
       "</table>\n",
       "</div>"
      ],
      "text/plain": [
       "            Production\n",
       "Date                  \n",
       "1962-01-01         589\n",
       "1962-02-01         561\n",
       "1962-03-01         640\n",
       "1962-04-01         656\n",
       "1962-05-01         727\n",
       "1962-06-01         697\n",
       "1962-07-01         640\n",
       "1962-08-01         599\n",
       "1962-09-01         568\n",
       "1962-10-01         577\n",
       "1962-11-01         553\n",
       "1962-12-01         582\n",
       "1963-01-01         600\n",
       "1963-02-01         566\n",
       "1963-03-01         653\n",
       "1963-04-01         673\n",
       "1963-05-01         742\n",
       "1963-06-01         716\n",
       "1963-07-01         660\n",
       "1963-08-01         617\n",
       "1963-09-01         583\n",
       "1963-10-01         587\n",
       "1963-11-01         565\n",
       "1963-12-01         598"
      ]
     },
     "execution_count": 11,
     "metadata": {},
     "output_type": "execute_result"
    }
   ],
   "source": [
    "df[\"1962\":\"1963\"]"
   ]
  },
  {
   "cell_type": "code",
   "execution_count": 16,
   "id": "04b9dd46-cf17-4e9d-ad2d-30b0b7a4b49f",
   "metadata": {},
   "outputs": [
    {
     "data": {
      "image/png": "[encoded data removed]",
      "text/plain": [
       "<Figure size 1200x400 with 1 Axes>"
      ]
     },
     "metadata": {},
     "output_type": "display_data"
    }
   ],
   "source": [
    "df.plot(figsize=(12,4),xlabel=\"Date\",ylabel=\"Production\",title=\"Milk Production\")\n",
    "plt.grid(axis=\"x\")\n",
    "plt.show()"
   ]
  },
  {
   "cell_type": "markdown",
   "id": "f859d95c-858d-429f-9d95-a70344334ba1",
   "metadata": {},
   "source": [
    "#### This is sequential data as it depends on past data ,in this data we can see each year is depending on last year.\n",
    "#### This has seasonal pattern also."
   ]
  },
  {
   "cell_type": "code",
   "execution_count": 17,
   "id": "50fc797d-2224-46a4-820a-645ec6555940",
   "metadata": {},
   "outputs": [
    {
     "name": "stdout",
     "output_type": "stream",
     "text": [
      "Collecting statsmodels\n",
      "  Downloading statsmodels-0.14.2-cp312-cp312-win_amd64.whl.metadata (9.5 kB)\n",
      "Requirement already satisfied: numpy>=1.22.3 in c:\\users\\kritika\\appdata\\local\\programs\\python\\python312\\lib\\site-packages (from statsmodels) (1.26.2)\n",
      "Requirement already satisfied: scipy!=1.9.2,>=1.8 in c:\\users\\kritika\\appdata\\local\\programs\\python\\python312\\lib\\site-packages (from statsmodels) (1.11.4)\n",
      "Requirement already satisfied: pandas!=2.1.0,>=1.4 in c:\\users\\kritika\\appdata\\local\\programs\\python\\python312\\lib\\site-packages (from statsmodels) (2.2.1)\n",
      "Collecting patsy>=0.5.6 (from statsmodels)\n",
      "  Downloading patsy-0.5.6-py2.py3-none-any.whl.metadata (3.5 kB)\n",
      "Requirement already satisfied: packaging>=21.3 in c:\\users\\kritika\\appdata\\local\\programs\\python\\python312\\lib\\site-packages (from statsmodels) (23.2)\n",
      "Requirement already satisfied: python-dateutil>=2.8.2 in c:\\users\\kritika\\appdata\\local\\programs\\python\\python312\\lib\\site-packages (from pandas!=2.1.0,>=1.4->statsmodels) (2.8.2)\n",
      "Requirement already satisfied: pytz>=2020.1 in c:\\users\\kritika\\appdata\\local\\programs\\python\\python312\\lib\\site-packages (from pandas!=2.1.0,>=1.4->statsmodels) (2023.3.post1)\n",
      "Requirement already satisfied: tzdata>=2022.7 in c:\\users\\kritika\\appdata\\local\\programs\\python\\python312\\lib\\site-packages (from pandas!=2.1.0,>=1.4->statsmodels) (2023.3)\n",
      "Requirement already satisfied: six in c:\\users\\kritika\\appdata\\local\\programs\\python\\python312\\lib\\site-packages (from patsy>=0.5.6->statsmodels) (1.16.0)\n",
      "Downloading statsmodels-0.14.2-cp312-cp312-win_amd64.whl (9.8 MB)\n",
      "   ---------------------------------------- 0.0/9.8 MB ? eta -:--:--\n",
      "   ---------------------------------------- 0.1/9.8 MB 1.7 MB/s eta 0:00:06\n",
      "    --------------------------------------- 0.1/9.8 MB 1.4 MB/s eta 0:00:07\n",
      "    --------------------------------------- 0.2/9.8 MB 1.7 MB/s eta 0:00:06\n",
      "    --------------------------------------- 0.2/9.8 MB 1.2 MB/s eta 0:00:09\n",
      "   - -------------------------------------- 0.3/9.8 MB 1.1 MB/s eta 0:00:09\n",
      "   - -------------------------------------- 0.3/9.8 MB 1.2 MB/s eta 0:00:08\n",
      "   - -------------------------------------- 0.5/9.8 MB 1.5 MB/s eta 0:00:07\n",
      "   -- ------------------------------------- 0.6/9.8 MB 1.5 MB/s eta 0:00:07\n",
      "   -- ------------------------------------- 0.6/9.8 MB 1.5 MB/s eta 0:00:07\n",
      "   -- ------------------------------------- 0.6/9.8 MB 1.4 MB/s eta 0:00:07\n",
      "   -- ------------------------------------- 0.7/9.8 MB 1.4 MB/s eta 0:00:07\n",
      "   -- ------------------------------------- 0.7/9.8 MB 1.4 MB/s eta 0:00:07\n",
      "   --- ------------------------------------ 0.7/9.8 MB 1.3 MB/s eta 0:00:08\n",
      "   --- ------------------------------------ 0.8/9.8 MB 1.2 MB/s eta 0:00:08\n",
      "   --- ------------------------------------ 0.8/9.8 MB 1.2 MB/s eta 0:00:08\n",
      "   --- ------------------------------------ 0.8/9.8 MB 1.1 MB/s eta 0:00:09\n",
      "   --- ------------------------------------ 0.8/9.8 MB 1.1 MB/s eta 0:00:09\n",
      "   --- ------------------------------------ 0.9/9.8 MB 1.1 MB/s eta 0:00:09\n",
      "   ---- ----------------------------------- 1.0/9.8 MB 1.1 MB/s eta 0:00:08\n",
      "   ---- ----------------------------------- 1.1/9.8 MB 1.2 MB/s eta 0:00:08\n",
      "   ---- ----------------------------------- 1.2/9.8 MB 1.2 MB/s eta 0:00:07\n",
      "   ----- ---------------------------------- 1.3/9.8 MB 1.3 MB/s eta 0:00:07\n",
      "   ----- ---------------------------------- 1.4/9.8 MB 1.3 MB/s eta 0:00:07\n",
      "   ------ --------------------------------- 1.5/9.8 MB 1.3 MB/s eta 0:00:07\n",
      "   ------ --------------------------------- 1.5/9.8 MB 1.3 MB/s eta 0:00:07\n",
      "   ------ --------------------------------- 1.6/9.8 MB 1.3 MB/s eta 0:00:07\n",
      "   ------ --------------------------------- 1.7/9.8 MB 1.4 MB/s eta 0:00:07\n",
      "   ------- -------------------------------- 1.8/9.8 MB 1.4 MB/s eta 0:00:06\n",
      "   ------- -------------------------------- 1.8/9.8 MB 1.4 MB/s eta 0:00:06\n",
      "   ------- -------------------------------- 1.9/9.8 MB 1.4 MB/s eta 0:00:06\n",
      "   -------- ------------------------------- 2.0/9.8 MB 1.4 MB/s eta 0:00:06\n",
      "   -------- ------------------------------- 2.1/9.8 MB 1.4 MB/s eta 0:00:06\n",
      "   -------- ------------------------------- 2.2/9.8 MB 1.4 MB/s eta 0:00:06\n",
      "   --------- ------------------------------ 2.2/9.8 MB 1.4 MB/s eta 0:00:06\n",
      "   --------- ------------------------------ 2.3/9.8 MB 1.5 MB/s eta 0:00:06\n",
      "   --------- ------------------------------ 2.4/9.8 MB 1.5 MB/s eta 0:00:06\n",
      "   ---------- ----------------------------- 2.6/9.8 MB 1.5 MB/s eta 0:00:05\n",
      "   ---------- ----------------------------- 2.7/9.8 MB 1.5 MB/s eta 0:00:05\n",
      "   ----------- ---------------------------- 2.8/9.8 MB 1.5 MB/s eta 0:00:05\n",
      "   ----------- ---------------------------- 2.8/9.8 MB 1.5 MB/s eta 0:00:05\n",
      "   ----------- ---------------------------- 2.9/9.8 MB 1.5 MB/s eta 0:00:05\n",
      "   ------------ --------------------------- 3.0/9.8 MB 1.5 MB/s eta 0:00:05\n",
      "   ------------ --------------------------- 3.0/9.8 MB 1.5 MB/s eta 0:00:05\n",
      "   ------------ --------------------------- 3.0/9.8 MB 1.5 MB/s eta 0:00:05\n",
      "   ------------ --------------------------- 3.1/9.8 MB 1.5 MB/s eta 0:00:05\n",
      "   ------------ --------------------------- 3.1/9.8 MB 1.5 MB/s eta 0:00:05\n",
      "   ------------ --------------------------- 3.2/9.8 MB 1.5 MB/s eta 0:00:05\n",
      "   ------------- -------------------------- 3.3/9.8 MB 1.5 MB/s eta 0:00:05\n",
      "   ------------- -------------------------- 3.3/9.8 MB 1.5 MB/s eta 0:00:05\n",
      "   ------------- -------------------------- 3.4/9.8 MB 1.5 MB/s eta 0:00:05\n",
      "   ------------- -------------------------- 3.4/9.8 MB 1.5 MB/s eta 0:00:05\n",
      "   -------------- ------------------------- 3.5/9.8 MB 1.5 MB/s eta 0:00:05\n",
      "   -------------- ------------------------- 3.6/9.8 MB 1.5 MB/s eta 0:00:05\n",
      "   -------------- ------------------------- 3.6/9.8 MB 1.4 MB/s eta 0:00:05\n",
      "   --------------- ------------------------ 3.7/9.8 MB 1.4 MB/s eta 0:00:05\n",
      "   --------------- ------------------------ 3.8/9.8 MB 1.5 MB/s eta 0:00:05\n",
      "   --------------- ------------------------ 3.8/9.8 MB 1.4 MB/s eta 0:00:05\n",
      "   --------------- ------------------------ 3.9/9.8 MB 1.4 MB/s eta 0:00:05\n",
      "   ---------------- ----------------------- 3.9/9.8 MB 1.4 MB/s eta 0:00:05\n",
      "   ---------------- ----------------------- 4.0/9.8 MB 1.4 MB/s eta 0:00:05\n",
      "   ---------------- ----------------------- 4.1/9.8 MB 1.4 MB/s eta 0:00:05\n",
      "   ---------------- ----------------------- 4.1/9.8 MB 1.4 MB/s eta 0:00:04\n",
      "   ----------------- ---------------------- 4.2/9.8 MB 1.4 MB/s eta 0:00:04\n",
      "   ----------------- ---------------------- 4.3/9.8 MB 1.4 MB/s eta 0:00:04\n",
      "   ----------------- ---------------------- 4.4/9.8 MB 1.5 MB/s eta 0:00:04\n",
      "   ------------------ --------------------- 4.4/9.8 MB 1.5 MB/s eta 0:00:04\n",
      "   ------------------ --------------------- 4.5/9.8 MB 1.4 MB/s eta 0:00:04\n",
      "   ------------------ --------------------- 4.5/9.8 MB 1.4 MB/s eta 0:00:04\n",
      "   ------------------ --------------------- 4.5/9.8 MB 1.4 MB/s eta 0:00:04\n",
      "   ------------------ --------------------- 4.6/9.8 MB 1.4 MB/s eta 0:00:04\n",
      "   ------------------ --------------------- 4.6/9.8 MB 1.4 MB/s eta 0:00:04\n",
      "   ------------------ --------------------- 4.6/9.8 MB 1.4 MB/s eta 0:00:04\n",
      "   ------------------ --------------------- 4.6/9.8 MB 1.4 MB/s eta 0:00:04\n",
      "   ------------------ --------------------- 4.6/9.8 MB 1.4 MB/s eta 0:00:04\n",
      "   ------------------- -------------------- 4.7/9.8 MB 1.3 MB/s eta 0:00:04\n",
      "   ------------------- -------------------- 4.7/9.8 MB 1.3 MB/s eta 0:00:04\n",
      "   ------------------- -------------------- 4.8/9.8 MB 1.3 MB/s eta 0:00:04\n",
      "   ------------------- -------------------- 4.8/9.8 MB 1.3 MB/s eta 0:00:04\n",
      "   ------------------- -------------------- 4.8/9.8 MB 1.3 MB/s eta 0:00:04\n",
      "   ------------------- -------------------- 4.9/9.8 MB 1.3 MB/s eta 0:00:04\n",
      "   ------------------- -------------------- 4.9/9.8 MB 1.3 MB/s eta 0:00:04\n",
      "   ------------------- -------------------- 4.9/9.8 MB 1.3 MB/s eta 0:00:04\n",
      "   -------------------- ------------------- 4.9/9.8 MB 1.3 MB/s eta 0:00:04\n",
      "   -------------------- ------------------- 5.0/9.8 MB 1.3 MB/s eta 0:00:04\n",
      "   -------------------- ------------------- 5.0/9.8 MB 1.3 MB/s eta 0:00:04\n",
      "   -------------------- ------------------- 5.0/9.8 MB 1.3 MB/s eta 0:00:04\n",
      "   -------------------- ------------------- 5.0/9.8 MB 1.3 MB/s eta 0:00:04\n",
      "   -------------------- ------------------- 5.0/9.8 MB 1.2 MB/s eta 0:00:04\n",
      "   -------------------- ------------------- 5.1/9.8 MB 1.2 MB/s eta 0:00:04\n",
      "   -------------------- ------------------- 5.1/9.8 MB 1.2 MB/s eta 0:00:04\n",
      "   -------------------- ------------------- 5.1/9.8 MB 1.2 MB/s eta 0:00:04\n",
      "   -------------------- ------------------- 5.2/9.8 MB 1.2 MB/s eta 0:00:04\n",
      "   --------------------- ------------------ 5.2/9.8 MB 1.2 MB/s eta 0:00:04\n",
      "   --------------------- ------------------ 5.2/9.8 MB 1.2 MB/s eta 0:00:04\n",
      "   --------------------- ------------------ 5.3/9.8 MB 1.2 MB/s eta 0:00:04\n",
      "   --------------------- ------------------ 5.3/9.8 MB 1.2 MB/s eta 0:00:04\n",
      "   --------------------- ------------------ 5.3/9.8 MB 1.2 MB/s eta 0:00:04\n",
      "   --------------------- ------------------ 5.4/9.8 MB 1.2 MB/s eta 0:00:04\n",
      "   --------------------- ------------------ 5.4/9.8 MB 1.2 MB/s eta 0:00:04\n",
      "   ---------------------- ----------------- 5.4/9.8 MB 1.2 MB/s eta 0:00:04\n",
      "   ---------------------- ----------------- 5.5/9.8 MB 1.2 MB/s eta 0:00:04\n",
      "   ---------------------- ----------------- 5.5/9.8 MB 1.2 MB/s eta 0:00:04\n",
      "   ---------------------- ----------------- 5.6/9.8 MB 1.2 MB/s eta 0:00:04\n",
      "   ---------------------- ----------------- 5.6/9.8 MB 1.2 MB/s eta 0:00:04\n",
      "   ----------------------- ---------------- 5.7/9.8 MB 1.2 MB/s eta 0:00:04\n",
      "   ----------------------- ---------------- 5.7/9.8 MB 1.2 MB/s eta 0:00:04\n",
      "   ----------------------- ---------------- 5.8/9.8 MB 1.2 MB/s eta 0:00:04\n",
      "   ----------------------- ---------------- 5.8/9.8 MB 1.2 MB/s eta 0:00:04\n",
      "   ------------------------ --------------- 5.9/9.8 MB 1.2 MB/s eta 0:00:04\n",
      "   ------------------------ --------------- 5.9/9.8 MB 1.2 MB/s eta 0:00:04\n",
      "   ------------------------ --------------- 6.0/9.8 MB 1.2 MB/s eta 0:00:04\n",
      "   ------------------------ --------------- 6.0/9.8 MB 1.2 MB/s eta 0:00:04\n",
      "   ------------------------ --------------- 6.1/9.8 MB 1.2 MB/s eta 0:00:04\n",
      "   ------------------------ --------------- 6.1/9.8 MB 1.2 MB/s eta 0:00:04\n",
      "   ------------------------ --------------- 6.1/9.8 MB 1.1 MB/s eta 0:00:04\n",
      "   ------------------------ --------------- 6.1/9.8 MB 1.1 MB/s eta 0:00:04\n",
      "   ------------------------- -------------- 6.1/9.8 MB 1.1 MB/s eta 0:00:04\n",
      "   ------------------------- -------------- 6.2/9.8 MB 1.1 MB/s eta 0:00:04\n",
      "   ------------------------- -------------- 6.2/9.8 MB 1.1 MB/s eta 0:00:04\n",
      "   ------------------------- -------------- 6.2/9.8 MB 1.1 MB/s eta 0:00:04\n",
      "   ------------------------- -------------- 6.3/9.8 MB 1.1 MB/s eta 0:00:04\n",
      "   ------------------------- -------------- 6.3/9.8 MB 1.1 MB/s eta 0:00:04\n",
      "   ------------------------- -------------- 6.3/9.8 MB 1.1 MB/s eta 0:00:04\n",
      "   ------------------------- -------------- 6.3/9.8 MB 1.1 MB/s eta 0:00:04\n",
      "   ------------------------- -------------- 6.3/9.8 MB 1.1 MB/s eta 0:00:04\n",
      "   ------------------------- -------------- 6.3/9.8 MB 1.1 MB/s eta 0:00:04\n",
      "   ------------------------- -------------- 6.3/9.8 MB 1.1 MB/s eta 0:00:04\n",
      "   ------------------------- -------------- 6.4/9.8 MB 1.1 MB/s eta 0:00:04\n",
      "   -------------------------- ------------- 6.4/9.8 MB 1.1 MB/s eta 0:00:04\n",
      "   -------------------------- ------------- 6.4/9.8 MB 1.1 MB/s eta 0:00:04\n",
      "   -------------------------- ------------- 6.4/9.8 MB 1.1 MB/s eta 0:00:04\n",
      "   -------------------------- ------------- 6.5/9.8 MB 1.1 MB/s eta 0:00:04\n",
      "   -------------------------- ------------- 6.5/9.8 MB 1.1 MB/s eta 0:00:04\n",
      "   -------------------------- ------------- 6.5/9.8 MB 1.0 MB/s eta 0:00:04\n",
      "   -------------------------- ------------- 6.5/9.8 MB 1.0 MB/s eta 0:00:04\n",
      "   -------------------------- ------------- 6.6/9.8 MB 1.0 MB/s eta 0:00:04\n",
      "   -------------------------- ------------- 6.6/9.8 MB 1.0 MB/s eta 0:00:04\n",
      "   --------------------------- ------------ 6.6/9.8 MB 1.0 MB/s eta 0:00:04\n",
      "   --------------------------- ------------ 6.6/9.8 MB 1.0 MB/s eta 0:00:04\n",
      "   --------------------------- ------------ 6.7/9.8 MB 1.0 MB/s eta 0:00:04\n",
      "   --------------------------- ------------ 6.7/9.8 MB 1.0 MB/s eta 0:00:04\n",
      "   --------------------------- ------------ 6.7/9.8 MB 1.0 MB/s eta 0:00:04\n",
      "   --------------------------- ------------ 6.8/9.8 MB 1.0 MB/s eta 0:00:03\n",
      "   --------------------------- ------------ 6.8/9.8 MB 1.0 MB/s eta 0:00:03\n",
      "   --------------------------- ------------ 6.9/9.8 MB 1.0 MB/s eta 0:00:03\n",
      "   --------------------------- ------------ 6.9/9.8 MB 1.0 MB/s eta 0:00:03\n",
      "   ---------------------------- ----------- 6.9/9.8 MB 1.0 MB/s eta 0:00:03\n",
      "   ---------------------------- ----------- 7.0/9.8 MB 1.0 MB/s eta 0:00:03\n",
      "   ---------------------------- ----------- 7.0/9.8 MB 1.0 MB/s eta 0:00:03\n",
      "   ---------------------------- ----------- 7.0/9.8 MB 1.0 MB/s eta 0:00:03\n",
      "   ---------------------------- ----------- 7.1/9.8 MB 1.0 MB/s eta 0:00:03\n",
      "   ---------------------------- ----------- 7.1/9.8 MB 1.0 MB/s eta 0:00:03\n",
      "   ----------------------------- ---------- 7.1/9.8 MB 1.0 MB/s eta 0:00:03\n",
      "   ----------------------------- ---------- 7.2/9.8 MB 1.0 MB/s eta 0:00:03\n",
      "   ----------------------------- ---------- 7.2/9.8 MB 1.0 MB/s eta 0:00:03\n",
      "   ----------------------------- ---------- 7.2/9.8 MB 1.0 MB/s eta 0:00:03\n",
      "   ----------------------------- ---------- 7.3/9.8 MB 997.1 kB/s eta 0:00:03\n",
      "   ----------------------------- ---------- 7.3/9.8 MB 997.1 kB/s eta 0:00:03\n",
      "   ----------------------------- ---------- 7.3/9.8 MB 989.4 kB/s eta 0:00:03\n",
      "   ----------------------------- ---------- 7.3/9.8 MB 986.5 kB/s eta 0:00:03\n",
      "   ----------------------------- ---------- 7.4/9.8 MB 983.0 kB/s eta 0:00:03\n",
      "   ------------------------------ --------- 7.4/9.8 MB 983.8 kB/s eta 0:00:03\n",
      "   ------------------------------ --------- 7.4/9.8 MB 980.4 kB/s eta 0:00:03\n",
      "   ------------------------------ --------- 7.4/9.8 MB 980.4 kB/s eta 0:00:03\n",
      "   ------------------------------ --------- 7.5/9.8 MB 975.7 kB/s eta 0:00:03\n",
      "   ------------------------------ --------- 7.5/9.8 MB 975.1 kB/s eta 0:00:03\n",
      "   ------------------------------ --------- 7.5/9.8 MB 972.4 kB/s eta 0:00:03\n",
      "   ------------------------------ --------- 7.6/9.8 MB 971.2 kB/s eta 0:00:03\n",
      "   ------------------------------ --------- 7.6/9.8 MB 966.0 kB/s eta 0:00:03\n",
      "   ------------------------------ --------- 7.6/9.8 MB 965.5 kB/s eta 0:00:03\n",
      "   ------------------------------- -------- 7.6/9.8 MB 964.3 kB/s eta 0:00:03\n",
      "   ------------------------------- -------- 7.7/9.8 MB 959.4 kB/s eta 0:00:03\n",
      "   ------------------------------- -------- 7.7/9.8 MB 955.0 kB/s eta 0:00:03\n",
      "   ------------------------------- -------- 7.7/9.8 MB 953.9 kB/s eta 0:00:03\n",
      "   ------------------------------- -------- 7.8/9.8 MB 952.8 kB/s eta 0:00:03\n",
      "   ------------------------------- -------- 7.8/9.8 MB 948.6 kB/s eta 0:00:03\n",
      "   ------------------------------- -------- 7.8/9.8 MB 948.1 kB/s eta 0:00:03\n",
      "   ------------------------------- -------- 7.8/9.8 MB 947.8 kB/s eta 0:00:03\n",
      "   -------------------------------- ------- 7.9/9.8 MB 946.1 kB/s eta 0:00:03\n",
      "   -------------------------------- ------- 7.9/9.8 MB 946.2 kB/s eta 0:00:03\n",
      "   -------------------------------- ------- 7.9/9.8 MB 944.7 kB/s eta 0:00:03\n",
      "   -------------------------------- ------- 8.0/9.8 MB 941.3 kB/s eta 0:00:02\n",
      "   -------------------------------- ------- 8.0/9.8 MB 940.9 kB/s eta 0:00:02\n",
      "   -------------------------------- ------- 8.0/9.8 MB 940.5 kB/s eta 0:00:02\n",
      "   -------------------------------- ------- 8.1/9.8 MB 938.9 kB/s eta 0:00:02\n",
      "   --------------------------------- ------ 8.1/9.8 MB 939.9 kB/s eta 0:00:02\n",
      "   --------------------------------- ------ 8.2/9.8 MB 940.7 kB/s eta 0:00:02\n",
      "   --------------------------------- ------ 8.2/9.8 MB 939.1 kB/s eta 0:00:02\n",
      "   --------------------------------- ------ 8.2/9.8 MB 939.3 kB/s eta 0:00:02\n",
      "   --------------------------------- ------ 8.3/9.8 MB 939.6 kB/s eta 0:00:02\n",
      "   ---------------------------------- ----- 8.4/9.8 MB 943.8 kB/s eta 0:00:02\n",
      "   ---------------------------------- ----- 8.4/9.8 MB 946.3 kB/s eta 0:00:02\n",
      "   ---------------------------------- ----- 8.5/9.8 MB 947.6 kB/s eta 0:00:02\n",
      "   ---------------------------------- ----- 8.6/9.8 MB 947.3 kB/s eta 0:00:02\n",
      "   ----------------------------------- ---- 8.6/9.8 MB 951.5 kB/s eta 0:00:02\n",
      "   ----------------------------------- ---- 8.7/9.8 MB 956.0 kB/s eta 0:00:02\n",
      "   ----------------------------------- ---- 8.8/9.8 MB 960.1 kB/s eta 0:00:02\n",
      "   ----------------------------------- ---- 8.8/9.8 MB 956.9 kB/s eta 0:00:02\n",
      "   ------------------------------------ --- 8.9/9.8 MB 960.3 kB/s eta 0:00:01\n",
      "   ------------------------------------ --- 8.9/9.8 MB 956.0 kB/s eta 0:00:01\n",
      "   ------------------------------------ --- 9.0/9.8 MB 957.8 kB/s eta 0:00:01\n",
      "   ------------------------------------ --- 9.0/9.8 MB 959.0 kB/s eta 0:00:01\n",
      "   ------------------------------------ --- 9.1/9.8 MB 958.1 kB/s eta 0:00:01\n",
      "   ------------------------------------- -- 9.1/9.8 MB 962.5 kB/s eta 0:00:01\n",
      "   ------------------------------------- -- 9.1/9.8 MB 960.4 kB/s eta 0:00:01\n",
      "   ------------------------------------- -- 9.1/9.8 MB 960.4 kB/s eta 0:00:01\n",
      "   ------------------------------------- -- 9.2/9.8 MB 953.2 kB/s eta 0:00:01\n",
      "   ------------------------------------- -- 9.2/9.8 MB 952.3 kB/s eta 0:00:01\n",
      "   ------------------------------------- -- 9.3/9.8 MB 953.0 kB/s eta 0:00:01\n",
      "   ------------------------------------- -- 9.3/9.8 MB 952.2 kB/s eta 0:00:01\n",
      "   -------------------------------------- - 9.4/9.8 MB 954.3 kB/s eta 0:00:01\n",
      "   -------------------------------------- - 9.4/9.8 MB 952.8 kB/s eta 0:00:01\n",
      "   -------------------------------------- - 9.4/9.8 MB 950.5 kB/s eta 0:00:01\n",
      "   -------------------------------------- - 9.4/9.8 MB 949.1 kB/s eta 0:00:01\n",
      "   -------------------------------------- - 9.5/9.8 MB 949.6 kB/s eta 0:00:01\n",
      "   -------------------------------------- - 9.5/9.8 MB 944.8 kB/s eta 0:00:01\n",
      "   -------------------------------------- - 9.5/9.8 MB 946.5 kB/s eta 0:00:01\n",
      "   -------------------------------------- - 9.6/9.8 MB 942.6 kB/s eta 0:00:01\n",
      "   -------------------------------------- - 9.6/9.8 MB 940.2 kB/s eta 0:00:01\n",
      "   ---------------------------------------  9.6/9.8 MB 939.9 kB/s eta 0:00:01\n",
      "   ---------------------------------------  9.7/9.8 MB 938.2 kB/s eta 0:00:01\n",
      "   ---------------------------------------  9.7/9.8 MB 938.4 kB/s eta 0:00:01\n",
      "   ---------------------------------------  9.7/9.8 MB 938.6 kB/s eta 0:00:01\n",
      "   ---------------------------------------  9.8/9.8 MB 942.7 kB/s eta 0:00:01\n",
      "   ---------------------------------------- 9.8/9.8 MB 940.4 kB/s eta 0:00:00\n",
      "Downloading patsy-0.5.6-py2.py3-none-any.whl (233 kB)\n",
      "   ---------------------------------------- 0.0/233.9 kB ? eta -:--:--\n",
      "   ---------- ----------------------------- 61.4/233.9 kB 1.7 MB/s eta 0:00:01\n",
      "   -------------- ------------------------- 81.9/233.9 kB 1.5 MB/s eta 0:00:01\n",
      "   -------------- ------------------------- 81.9/233.9 kB 1.5 MB/s eta 0:00:01\n",
      "   ------------------- ------------------ 122.9/233.9 kB 654.9 kB/s eta 0:00:01\n",
      "   ------------------------------- ------ 194.6/233.9 kB 908.0 kB/s eta 0:00:01\n",
      "   --------------------------------- ---- 204.8/233.9 kB 888.4 kB/s eta 0:00:01\n",
      "   -------------------------------------- 233.9/233.9 kB 796.1 kB/s eta 0:00:00\n",
      "Installing collected packages: patsy, statsmodels\n",
      "Successfully installed patsy-0.5.6 statsmodels-0.14.2\n",
      "Note: you may need to restart the kernel to use updated packages.\n"
     ]
    }
   ],
   "source": [
    "pip install statsmodels"
   ]
  },
  {
   "cell_type": "code",
   "execution_count": 18,
   "id": "1e9f15d5-26da-4f90-a372-f2c507c26e26",
   "metadata": {},
   "outputs": [],
   "source": [
    "from statsmodels.tsa.seasonal import seasonal_decompose\n",
    "# seasonal_decompose is used for date wise data."
   ]
  },
  {
   "cell_type": "code",
   "execution_count": 19,
   "id": "9d6bd391-0cff-4e70-b3d8-ef1e9ee6f04c",
   "metadata": {},
   "outputs": [],
   "source": [
    "result = seasonal_decompose(df[\"Production\"])"
   ]
  },
  {
   "cell_type": "code",
   "execution_count": 22,
   "id": "7ab8d27c-5fb2-4ce5-8637-8286b97ffdac",
   "metadata": {},
   "outputs": [
    {
     "data": {
      "image/png": "[encoded data removed]",
      "text/plain": [
       "<Figure size 640x480 with 4 Axes>"
      ]
     },
     "metadata": {},
     "output_type": "display_data"
    }
   ],
   "source": [
    "result.plot();\n",
    "#Trend is yearwise.\n",
    "#1st graph(actual data) is the average of year.\n",
    "#Seasonal is fixed pattern.\n",
    "#Resid is residual(data which is out of the trend data)."
   ]
  },
  {
   "cell_type": "code",
   "execution_count": 23,
   "id": "c98f8b51-1d4c-4498-adee-760bdaa9abd9",
   "metadata": {},
   "outputs": [
    {
     "data": {
      "text/plain": [
       "168"
      ]
     },
     "execution_count": 23,
     "metadata": {},
     "output_type": "execute_result"
    }
   ],
   "source": [
    "len(df)"
   ]
  },
  {
   "cell_type": "code",
   "execution_count": 24,
   "id": "209c4061-6996-43b9-8744-09f4e09bfd82",
   "metadata": {},
   "outputs": [
    {
     "data": {
      "text/plain": [
       "14.0"
      ]
     },
     "execution_count": 24,
     "metadata": {},
     "output_type": "execute_result"
    }
   ],
   "source": [
    "len(df)/12"
   ]
  },
  {
   "cell_type": "code",
   "execution_count": 25,
   "id": "c384ab73-79ac-47ba-9fa5-01dfc81377c5",
   "metadata": {},
   "outputs": [
    {
     "data": {
      "text/plain": [
       "(156, 1)"
      ]
     },
     "execution_count": 25,
     "metadata": {},
     "output_type": "execute_result"
    }
   ],
   "source": [
    "#Previous data --> Training (Last 12 months)\n",
    "train = df.iloc[:len(df)-12]\n",
    "train.shape"
   ]
  },
  {
   "cell_type": "code",
   "execution_count": 26,
   "id": "443b2bcc-72d8-445c-8d17-7c94633b3259",
   "metadata": {},
   "outputs": [
    {
     "data": {
      "text/plain": [
       "(12, 1)"
      ]
     },
     "execution_count": 26,
     "metadata": {},
     "output_type": "execute_result"
    }
   ],
   "source": [
    "#Future data --> Testing (Remaining data of train)\n",
    "test = df.iloc[len(df)-12:]\n",
    "test.shape"
   ]
  },
  {
   "cell_type": "code",
   "execution_count": 28,
   "id": "86bfbc43-af96-4b94-a5f3-4fcfb08f5aed",
   "metadata": {},
   "outputs": [
    {
     "data": {
      "text/plain": [
       "(Production    589\n",
       " Name: 1962-01-01 00:00:00, dtype: int64,\n",
       " Production    813\n",
       " Name: 1974-12-01 00:00:00, dtype: int64)"
      ]
     },
     "execution_count": 28,
     "metadata": {},
     "output_type": "execute_result"
    }
   ],
   "source": [
    "train.iloc[0],train.iloc[-1]"
   ]
  },
  {
   "cell_type": "code",
   "execution_count": 29,
   "id": "bf91cac4-c341-42a4-9fb3-9c7344b4aeb8",
   "metadata": {},
   "outputs": [],
   "source": [
    "from sklearn.preprocessing import MinMaxScaler"
   ]
  },
  {
   "cell_type": "code",
   "execution_count": 30,
   "id": "3928783c-91a9-42fc-926d-f4a2be53f480",
   "metadata": {},
   "outputs": [],
   "source": [
    "scaler = MinMaxScaler()"
   ]
  },
  {
   "cell_type": "code",
   "execution_count": 31,
   "id": "f3c3ae5e-ec58-4940-bdbe-c75697b14a99",
   "metadata": {},
   "outputs": [
    {
     "data": {
      "text/html": [
       "<style>#sk-container-id-1 {color: black;}#sk-container-id-1 pre{padding: 0;}#sk-container-id-1 div.sk-toggleable {background-color: white;}#sk-container-id-1 label.sk-toggleable__label {cursor: pointer;display: block;width: 100%;margin-bottom: 0;padding: 0.3em;box-sizing: border-box;text-align: center;}#sk-container-id-1 label.sk-toggleable__label-arrow:before {content: \"▸\";float: left;margin-right: 0.25em;color: #696969;}#sk-container-id-1 label.sk-toggleable__label-arrow:hover:before {color: black;}#sk-container-id-1 div.sk-estimator:hover label.sk-toggleable__label-arrow:before {color: black;}#sk-container-id-1 div.sk-toggleable__content {max-height: 0;max-width: 0;overflow: hidden;text-align: left;background-color: #f0f8ff;}#sk-container-id-1 div.sk-toggleable__content pre {margin: 0.2em;color: black;border-radius: 0.25em;background-color: #f0f8ff;}#sk-container-id-1 input.sk-toggleable__control:checked~div.sk-toggleable__content {max-height: 200px;max-width: 100%;overflow: auto;}#sk-container-id-1 input.sk-toggleable__control:checked~label.sk-toggleable__label-arrow:before {content: \"▾\";}#sk-container-id-1 div.sk-estimator input.sk-toggleable__control:checked~label.sk-toggleable__label {background-color: #d4ebff;}#sk-container-id-1 div.sk-label input.sk-toggleable__control:checked~label.sk-toggleable__label {background-color: #d4ebff;}#sk-container-id-1 input.sk-hidden--visually {border: 0;clip: rect(1px 1px 1px 1px);clip: rect(1px, 1px, 1px, 1px);height: 1px;margin: -1px;overflow: hidden;padding: 0;position: absolute;width: 1px;}#sk-container-id-1 div.sk-estimator {font-family: monospace;background-color: #f0f8ff;border: 1px dotted black;border-radius: 0.25em;box-sizing: border-box;margin-bottom: 0.5em;}#sk-container-id-1 div.sk-estimator:hover {background-color: #d4ebff;}#sk-container-id-1 div.sk-parallel-item::after {content: \"\";width: 100%;border-bottom: 1px solid gray;flex-grow: 1;}#sk-container-id-1 div.sk-label:hover label.sk-toggleable__label {background-color: #d4ebff;}#sk-container-id-1 div.sk-serial::before {content: \"\";position: absolute;border-left: 1px solid gray;box-sizing: border-box;top: 0;bottom: 0;left: 50%;z-index: 0;}#sk-container-id-1 div.sk-serial {display: flex;flex-direction: column;align-items: center;background-color: white;padding-right: 0.2em;padding-left: 0.2em;position: relative;}#sk-container-id-1 div.sk-item {position: relative;z-index: 1;}#sk-container-id-1 div.sk-parallel {display: flex;align-items: stretch;justify-content: center;background-color: white;position: relative;}#sk-container-id-1 div.sk-item::before, #sk-container-id-1 div.sk-parallel-item::before {content: \"\";position: absolute;border-left: 1px solid gray;box-sizing: border-box;top: 0;bottom: 0;left: 50%;z-index: -1;}#sk-container-id-1 div.sk-parallel-item {display: flex;flex-direction: column;z-index: 1;position: relative;background-color: white;}#sk-container-id-1 div.sk-parallel-item:first-child::after {align-self: flex-end;width: 50%;}#sk-container-id-1 div.sk-parallel-item:last-child::after {align-self: flex-start;width: 50%;}#sk-container-id-1 div.sk-parallel-item:only-child::after {width: 0;}#sk-container-id-1 div.sk-dashed-wrapped {border: 1px dashed gray;margin: 0 0.4em 0.5em 0.4em;box-sizing: border-box;padding-bottom: 0.4em;background-color: white;}#sk-container-id-1 div.sk-label label {font-family: monospace;font-weight: bold;display: inline-block;line-height: 1.2em;}#sk-container-id-1 div.sk-label-container {text-align: center;}#sk-container-id-1 div.sk-container {/* jupyter's `normalize.less` sets `[hidden] { display: none; }` but bootstrap.min.css set `[hidden] { display: none !important; }` so we also need the `!important` here to be able to override the default hidden behavior on the sphinx rendered scikit-learn.org. See: https://github.com/scikit-learn/scikit-learn/issues/21755 */display: inline-block !important;position: relative;}#sk-container-id-1 div.sk-text-repr-fallback {display: none;}</style><div id=\"sk-container-id-1\" class=\"sk-top-container\"><div class=\"sk-text-repr-fallback\"><pre>MinMaxScaler()</pre><b>In a Jupyter environment, please rerun this cell to show the HTML representation or trust the notebook. <br />On GitHub, the HTML representation is unable to render, please try loading this page with nbviewer.org.</b></div><div class=\"sk-container\" hidden><div class=\"sk-item\"><div class=\"sk-estimator sk-toggleable\"><input class=\"sk-toggleable__control sk-hidden--visually\" id=\"sk-estimator-id-1\" type=\"checkbox\" checked><label for=\"sk-estimator-id-1\" class=\"sk-toggleable__label sk-toggleable__label-arrow\">MinMaxScaler</label><div class=\"sk-toggleable__content\"><pre>MinMaxScaler()</pre></div></div></div></div></div>"
      ],
      "text/plain": [
       "MinMaxScaler()"
      ]
     },
     "execution_count": 31,
     "metadata": {},
     "output_type": "execute_result"
    }
   ],
   "source": [
    "scaler.fit(train)"
   ]
  },
  {
   "cell_type": "code",
   "execution_count": 32,
   "id": "e6d8d084-9fd6-4666-b918-43a356b6c88f",
   "metadata": {},
   "outputs": [],
   "source": [
    "scaled_train = scaler.transform(train)\n",
    "scaled_test = scaler.transform(test)"
   ]
  },
  {
   "cell_type": "code",
   "execution_count": 33,
   "id": "dc590439-91b4-4b6b-b77d-c418eaed7e14",
   "metadata": {},
   "outputs": [
    {
     "data": {
      "text/plain": [
       "array([[0.08653846],\n",
       "       [0.01923077],\n",
       "       [0.20913462],\n",
       "       [0.24759615],\n",
       "       [0.41826923],\n",
       "       [0.34615385],\n",
       "       [0.20913462],\n",
       "       [0.11057692],\n",
       "       [0.03605769],\n",
       "       [0.05769231]])"
      ]
     },
     "execution_count": 33,
     "metadata": {},
     "output_type": "execute_result"
    }
   ],
   "source": [
    "scaled_train[:10]"
   ]
  },
  {
   "cell_type": "code",
   "execution_count": 34,
   "id": "c14eace2-10f6-4eac-82dc-0b321ea25a08",
   "metadata": {},
   "outputs": [
    {
     "data": {
      "text/plain": [
       "array([[0.80769231],\n",
       "       [0.83894231],\n",
       "       [1.        ],\n",
       "       [0.94711538],\n",
       "       [0.85336538],\n",
       "       [0.75480769],\n",
       "       [0.62980769],\n",
       "       [0.62259615],\n",
       "       [0.52884615],\n",
       "       [0.625     ]])"
      ]
     },
     "execution_count": 34,
     "metadata": {},
     "output_type": "execute_result"
    }
   ],
   "source": [
    "scaled_train[146:]"
   ]
  },
  {
   "cell_type": "code",
   "execution_count": 35,
   "id": "33454731-ff54-4fdc-b8c4-ce494e93e7af",
   "metadata": {},
   "outputs": [],
   "source": [
    "from tensorflow.keras.preprocessing.sequence import TimeseriesGenerator"
   ]
  },
  {
   "cell_type": "code",
   "execution_count": 36,
   "id": "90dbaf0f-7752-4fab-bab4-9170dda21492",
   "metadata": {},
   "outputs": [],
   "source": [
    "months = 12"
   ]
  },
  {
   "cell_type": "code",
   "execution_count": 37,
   "id": "ebfdfe75-5b67-44df-b653-ffb180a874f7",
   "metadata": {},
   "outputs": [],
   "source": [
    "generator = TimeseriesGenerator(scaled_train, scaled_train, length=months, batch_size=1)\n",
    "# If 3 input then 4 will be output same goes with 12 months & will increase by 1 month.\n",
    "# We can see X,y is started with [0.08653846], X1,y1 is starting with [0.01923077], X2,y2 is starting with [0.20913462].This is how it will increase by 1 month ."
   ]
  },
  {
   "cell_type": "code",
   "execution_count": 38,
   "id": "45086871-72e4-4bab-a3a5-d12f43e7d05f",
   "metadata": {},
   "outputs": [],
   "source": [
    "X,y = generator[0]"
   ]
  },
  {
   "cell_type": "code",
   "execution_count": 39,
   "id": "5d9e8eea-7830-401b-b0ee-d2cdc404b419",
   "metadata": {},
   "outputs": [
    {
     "data": {
      "text/plain": [
       "(array([[[0.08653846],\n",
       "         [0.01923077],\n",
       "         [0.20913462],\n",
       "         [0.24759615],\n",
       "         [0.41826923],\n",
       "         [0.34615385],\n",
       "         [0.20913462],\n",
       "         [0.11057692],\n",
       "         [0.03605769],\n",
       "         [0.05769231],\n",
       "         [0.        ],\n",
       "         [0.06971154]]]),\n",
       " array([[0.11298077]]))"
      ]
     },
     "execution_count": 39,
     "metadata": {},
     "output_type": "execute_result"
    }
   ],
   "source": [
    "X,y"
   ]
  },
  {
   "cell_type": "code",
   "execution_count": 40,
   "id": "bacb1f0b-7535-4243-9dce-1ee484f83ff6",
   "metadata": {},
   "outputs": [],
   "source": [
    "X1, y1 = generator[1]"
   ]
  },
  {
   "cell_type": "code",
   "execution_count": 41,
   "id": "5858109e-df46-44c5-aff0-daa01b705323",
   "metadata": {},
   "outputs": [
    {
     "data": {
      "text/plain": [
       "(array([[[0.01923077],\n",
       "         [0.20913462],\n",
       "         [0.24759615],\n",
       "         [0.41826923],\n",
       "         [0.34615385],\n",
       "         [0.20913462],\n",
       "         [0.11057692],\n",
       "         [0.03605769],\n",
       "         [0.05769231],\n",
       "         [0.        ],\n",
       "         [0.06971154],\n",
       "         [0.11298077]]]),\n",
       " array([[0.03125]]))"
      ]
     },
     "execution_count": 41,
     "metadata": {},
     "output_type": "execute_result"
    }
   ],
   "source": [
    "X1, y1"
   ]
  },
  {
   "cell_type": "code",
   "execution_count": 42,
   "id": "def86fb9-9200-4285-9d46-70736aed16e7",
   "metadata": {},
   "outputs": [],
   "source": [
    "X2, y2 = generator[2]"
   ]
  },
  {
   "cell_type": "code",
   "execution_count": 43,
   "id": "27fd55fc-eed8-48f0-8d15-3f51f70cfcf1",
   "metadata": {},
   "outputs": [
    {
     "data": {
      "text/plain": [
       "(array([[[0.20913462],\n",
       "         [0.24759615],\n",
       "         [0.41826923],\n",
       "         [0.34615385],\n",
       "         [0.20913462],\n",
       "         [0.11057692],\n",
       "         [0.03605769],\n",
       "         [0.05769231],\n",
       "         [0.        ],\n",
       "         [0.06971154],\n",
       "         [0.11298077],\n",
       "         [0.03125   ]]]),\n",
       " array([[0.24038462]]))"
      ]
     },
     "execution_count": 43,
     "metadata": {},
     "output_type": "execute_result"
    }
   ],
   "source": [
    "X2,y2"
   ]
  },
  {
   "cell_type": "code",
   "execution_count": 44,
   "id": "07f8cb2e-9ced-472f-b19a-4081bcc59c0e",
   "metadata": {},
   "outputs": [
    {
     "data": {
      "text/plain": [
       "(1, 12, 1)"
      ]
     },
     "execution_count": 44,
     "metadata": {},
     "output_type": "execute_result"
    }
   ],
   "source": [
    "generator[0][0].shape"
   ]
  },
  {
   "cell_type": "code",
   "execution_count": 46,
   "id": "0a45ad05-c488-4455-8e5a-83203fe83db3",
   "metadata": {},
   "outputs": [],
   "source": [
    "from tensorflow.keras.models import Sequential\n",
    "from tensorflow.keras.layers import Dense,LSTM"
   ]
  },
  {
   "cell_type": "code",
   "execution_count": 47,
   "id": "00f82220-1e85-432e-b47f-8e75a586f7f5",
   "metadata": {},
   "outputs": [
    {
     "name": "stderr",
     "output_type": "stream",
     "text": [
      "C:\\Users\\Kritika\\AppData\\Local\\Programs\\Python\\Python312\\Lib\\site-packages\\keras\\src\\layers\\rnn\\rnn.py:204: UserWarning: Do not pass an `input_shape`/`input_dim` argument to a layer. When using Sequential models, prefer using an `Input(shape)` object as the first layer in the model instead.\n",
      "  super().__init__(**kwargs)\n"
     ]
    }
   ],
   "source": [
    "model = Sequential([\n",
    "    LSTM(1000, activation=\"relu\", input_shape=(12,1)),\n",
    "    Dense(1)\n",
    "])"
   ]
  },
  {
   "cell_type": "code",
   "execution_count": 49,
   "id": "8768c497-b3aa-40c8-bbad-0c735c300872",
   "metadata": {},
   "outputs": [],
   "source": [
    "model.compile(optimizer=\"adam\", loss=\"mse\")\n",
    "# mse = Mean Square Error"
   ]
  },
  {
   "cell_type": "code",
   "execution_count": 50,
   "id": "d359ce15-dccf-42d0-a665-90b5f3aa1027",
   "metadata": {},
   "outputs": [
    {
     "name": "stdout",
     "output_type": "stream",
     "text": [
      "Epoch 1/40\n",
      "\u001b[1m  2/144\u001b[0m \u001b[37m━━━━━━━━━━━━━━━━━━━━\u001b[0m \u001b[1m11s\u001b[0m 82ms/step - loss: 0.2545"
     ]
    },
    {
     "name": "stderr",
     "output_type": "stream",
     "text": [
      "C:\\Users\\Kritika\\AppData\\Local\\Programs\\Python\\Python312\\Lib\\site-packages\\keras\\src\\trainers\\data_adapters\\py_dataset_adapter.py:120: UserWarning: Your `PyDataset` class should call `super().__init__(**kwargs)` in its constructor. `**kwargs` can include `workers`, `use_multiprocessing`, `max_queue_size`. Do not pass these arguments to `fit()`, as they will be ignored.\n",
      "  self._warn_if_super_not_called()\n"
     ]
    },
    {
     "name": "stdout",
     "output_type": "stream",
     "text": [
      "\u001b[1m144/144\u001b[0m \u001b[32m━━━━━━━━━━━━━━━━━━━━\u001b[0m\u001b[37m\u001b[0m \u001b[1m13s\u001b[0m 82ms/step - loss: 0.0530\n",
      "Epoch 2/40\n",
      "\u001b[1m144/144\u001b[0m \u001b[32m━━━━━━━━━━━━━━━━━━━━\u001b[0m\u001b[37m\u001b[0m \u001b[1m12s\u001b[0m 83ms/step - loss: 0.0289\n",
      "Epoch 3/40\n",
      "\u001b[1m144/144\u001b[0m \u001b[32m━━━━━━━━━━━━━━━━━━━━\u001b[0m\u001b[37m\u001b[0m \u001b[1m12s\u001b[0m 83ms/step - loss: 0.0106\n",
      "Epoch 4/40\n",
      "\u001b[1m144/144\u001b[0m \u001b[32m━━━━━━━━━━━━━━━━━━━━\u001b[0m\u001b[37m\u001b[0m \u001b[1m12s\u001b[0m 82ms/step - loss: 0.0041\n",
      "Epoch 5/40\n",
      "\u001b[1m144/144\u001b[0m \u001b[32m━━━━━━━━━━━━━━━━━━━━\u001b[0m\u001b[37m\u001b[0m \u001b[1m12s\u001b[0m 82ms/step - loss: 0.0077\n",
      "Epoch 6/40\n",
      "\u001b[1m144/144\u001b[0m \u001b[32m━━━━━━━━━━━━━━━━━━━━\u001b[0m\u001b[37m\u001b[0m \u001b[1m12s\u001b[0m 82ms/step - loss: 0.0045\n",
      "Epoch 7/40\n",
      "\u001b[1m144/144\u001b[0m \u001b[32m━━━━━━━━━━━━━━━━━━━━\u001b[0m\u001b[37m\u001b[0m \u001b[1m12s\u001b[0m 83ms/step - loss: 0.0034\n",
      "Epoch 8/40\n",
      "\u001b[1m144/144\u001b[0m \u001b[32m━━━━━━━━━━━━━━━━━━━━\u001b[0m\u001b[37m\u001b[0m \u001b[1m12s\u001b[0m 83ms/step - loss: 0.0022\n",
      "Epoch 9/40\n",
      "\u001b[1m144/144\u001b[0m \u001b[32m━━━━━━━━━━━━━━━━━━━━\u001b[0m\u001b[37m\u001b[0m \u001b[1m12s\u001b[0m 83ms/step - loss: 0.0046\n",
      "Epoch 10/40\n",
      "\u001b[1m144/144\u001b[0m \u001b[32m━━━━━━━━━━━━━━━━━━━━\u001b[0m\u001b[37m\u001b[0m \u001b[1m12s\u001b[0m 83ms/step - loss: 0.0027\n",
      "Epoch 11/40\n",
      "\u001b[1m144/144\u001b[0m \u001b[32m━━━━━━━━━━━━━━━━━━━━\u001b[0m\u001b[37m\u001b[0m \u001b[1m12s\u001b[0m 85ms/step - loss: 0.0021\n",
      "Epoch 12/40\n",
      "\u001b[1m144/144\u001b[0m \u001b[32m━━━━━━━━━━━━━━━━━━━━\u001b[0m\u001b[37m\u001b[0m \u001b[1m12s\u001b[0m 84ms/step - loss: 0.0018\n",
      "Epoch 13/40\n",
      "\u001b[1m144/144\u001b[0m \u001b[32m━━━━━━━━━━━━━━━━━━━━\u001b[0m\u001b[37m\u001b[0m \u001b[1m12s\u001b[0m 85ms/step - loss: 0.0029\n",
      "Epoch 14/40\n",
      "\u001b[1m144/144\u001b[0m \u001b[32m━━━━━━━━━━━━━━━━━━━━\u001b[0m\u001b[37m\u001b[0m \u001b[1m13s\u001b[0m 87ms/step - loss: 0.0017\n",
      "Epoch 15/40\n",
      "\u001b[1m144/144\u001b[0m \u001b[32m━━━━━━━━━━━━━━━━━━━━\u001b[0m\u001b[37m\u001b[0m \u001b[1m12s\u001b[0m 85ms/step - loss: 0.0022\n",
      "Epoch 16/40\n",
      "\u001b[1m144/144\u001b[0m \u001b[32m━━━━━━━━━━━━━━━━━━━━\u001b[0m\u001b[37m\u001b[0m \u001b[1m12s\u001b[0m 85ms/step - loss: 0.0031\n",
      "Epoch 17/40\n",
      "\u001b[1m144/144\u001b[0m \u001b[32m━━━━━━━━━━━━━━━━━━━━\u001b[0m\u001b[37m\u001b[0m \u001b[1m12s\u001b[0m 84ms/step - loss: 0.0031\n",
      "Epoch 18/40\n",
      "\u001b[1m144/144\u001b[0m \u001b[32m━━━━━━━━━━━━━━━━━━━━\u001b[0m\u001b[37m\u001b[0m \u001b[1m12s\u001b[0m 84ms/step - loss: 0.0018\n",
      "Epoch 19/40\n",
      "\u001b[1m144/144\u001b[0m \u001b[32m━━━━━━━━━━━━━━━━━━━━\u001b[0m\u001b[37m\u001b[0m \u001b[1m12s\u001b[0m 85ms/step - loss: 0.0024\n",
      "Epoch 20/40\n",
      "\u001b[1m144/144\u001b[0m \u001b[32m━━━━━━━━━━━━━━━━━━━━\u001b[0m\u001b[37m\u001b[0m \u001b[1m12s\u001b[0m 85ms/step - loss: 0.0036\n",
      "Epoch 21/40\n",
      "\u001b[1m144/144\u001b[0m \u001b[32m━━━━━━━━━━━━━━━━━━━━\u001b[0m\u001b[37m\u001b[0m \u001b[1m12s\u001b[0m 85ms/step - loss: 0.0020\n",
      "Epoch 22/40\n",
      "\u001b[1m144/144\u001b[0m \u001b[32m━━━━━━━━━━━━━━━━━━━━\u001b[0m\u001b[37m\u001b[0m \u001b[1m12s\u001b[0m 86ms/step - loss: 0.0024\n",
      "Epoch 23/40\n",
      "\u001b[1m144/144\u001b[0m \u001b[32m━━━━━━━━━━━━━━━━━━━━\u001b[0m\u001b[37m\u001b[0m \u001b[1m12s\u001b[0m 85ms/step - loss: 0.0016\n",
      "Epoch 24/40\n",
      "\u001b[1m144/144\u001b[0m \u001b[32m━━━━━━━━━━━━━━━━━━━━\u001b[0m\u001b[37m\u001b[0m \u001b[1m12s\u001b[0m 85ms/step - loss: 0.0021\n",
      "Epoch 25/40\n",
      "\u001b[1m144/144\u001b[0m \u001b[32m━━━━━━━━━━━━━━━━━━━━\u001b[0m\u001b[37m\u001b[0m \u001b[1m12s\u001b[0m 85ms/step - loss: 0.0019\n",
      "Epoch 26/40\n",
      "\u001b[1m144/144\u001b[0m \u001b[32m━━━━━━━━━━━━━━━━━━━━\u001b[0m\u001b[37m\u001b[0m \u001b[1m12s\u001b[0m 85ms/step - loss: 0.0019\n",
      "Epoch 27/40\n",
      "\u001b[1m144/144\u001b[0m \u001b[32m━━━━━━━━━━━━━━━━━━━━\u001b[0m\u001b[37m\u001b[0m \u001b[1m12s\u001b[0m 85ms/step - loss: 0.0019\n",
      "Epoch 28/40\n",
      "\u001b[1m144/144\u001b[0m \u001b[32m━━━━━━━━━━━━━━━━━━━━\u001b[0m\u001b[37m\u001b[0m \u001b[1m12s\u001b[0m 85ms/step - loss: 0.0027\n",
      "Epoch 29/40\n",
      "\u001b[1m144/144\u001b[0m \u001b[32m━━━━━━━━━━━━━━━━━━━━\u001b[0m\u001b[37m\u001b[0m \u001b[1m12s\u001b[0m 85ms/step - loss: 0.0025\n",
      "Epoch 30/40\n",
      "\u001b[1m144/144\u001b[0m \u001b[32m━━━━━━━━━━━━━━━━━━━━\u001b[0m\u001b[37m\u001b[0m \u001b[1m12s\u001b[0m 86ms/step - loss: 0.0020\n",
      "Epoch 31/40\n",
      "\u001b[1m144/144\u001b[0m \u001b[32m━━━━━━━━━━━━━━━━━━━━\u001b[0m\u001b[37m\u001b[0m \u001b[1m12s\u001b[0m 85ms/step - loss: 0.0019\n",
      "Epoch 32/40\n",
      "\u001b[1m144/144\u001b[0m \u001b[32m━━━━━━━━━━━━━━━━━━━━\u001b[0m\u001b[37m\u001b[0m \u001b[1m12s\u001b[0m 85ms/step - loss: 0.0020\n",
      "Epoch 33/40\n",
      "\u001b[1m144/144\u001b[0m \u001b[32m━━━━━━━━━━━━━━━━━━━━\u001b[0m\u001b[37m\u001b[0m \u001b[1m12s\u001b[0m 85ms/step - loss: 0.0030\n",
      "Epoch 34/40\n",
      "\u001b[1m144/144\u001b[0m \u001b[32m━━━━━━━━━━━━━━━━━━━━\u001b[0m\u001b[37m\u001b[0m \u001b[1m12s\u001b[0m 86ms/step - loss: 0.0022\n",
      "Epoch 35/40\n",
      "\u001b[1m144/144\u001b[0m \u001b[32m━━━━━━━━━━━━━━━━━━━━\u001b[0m\u001b[37m\u001b[0m \u001b[1m12s\u001b[0m 85ms/step - loss: 0.0020\n",
      "Epoch 36/40\n",
      "\u001b[1m144/144\u001b[0m \u001b[32m━━━━━━━━━━━━━━━━━━━━\u001b[0m\u001b[37m\u001b[0m \u001b[1m12s\u001b[0m 85ms/step - loss: 0.0021\n",
      "Epoch 37/40\n",
      "\u001b[1m144/144\u001b[0m \u001b[32m━━━━━━━━━━━━━━━━━━━━\u001b[0m\u001b[37m\u001b[0m \u001b[1m12s\u001b[0m 85ms/step - loss: 0.0018\n",
      "Epoch 38/40\n",
      "\u001b[1m144/144\u001b[0m \u001b[32m━━━━━━━━━━━━━━━━━━━━\u001b[0m\u001b[37m\u001b[0m \u001b[1m12s\u001b[0m 85ms/step - loss: 0.0022\n",
      "Epoch 39/40\n",
      "\u001b[1m144/144\u001b[0m \u001b[32m━━━━━━━━━━━━━━━━━━━━\u001b[0m\u001b[37m\u001b[0m \u001b[1m12s\u001b[0m 84ms/step - loss: 0.0022\n",
      "Epoch 40/40\n",
      "\u001b[1m144/144\u001b[0m \u001b[32m━━━━━━━━━━━━━━━━━━━━\u001b[0m\u001b[37m\u001b[0m \u001b[1m12s\u001b[0m 84ms/step - loss: 0.0016\n"
     ]
    },
    {
     "data": {
      "text/plain": [
       "<keras.src.callbacks.history.History at 0x236a6d39e50>"
      ]
     },
     "execution_count": 50,
     "metadata": {},
     "output_type": "execute_result"
    }
   ],
   "source": [
    "model.fit(generator,epochs=40)"
   ]
  },
  {
   "cell_type": "code",
   "execution_count": 51,
   "id": "0376675b-1264-4d35-9a69-e4b1ba2452f5",
   "metadata": {},
   "outputs": [],
   "source": [
    "loss = model.history.history[\"loss\"]"
   ]
  },
  {
   "cell_type": "code",
   "execution_count": 53,
   "id": "631ffd16-4fc3-4be5-94d5-166c4cbe4053",
   "metadata": {},
   "outputs": [
    {
     "data": {
      "image/png": "[encoded data removed]",
      "text/plain": [
       "<Figure size 640x480 with 1 Axes>"
      ]
     },
     "metadata": {},
     "output_type": "display_data"
    }
   ],
   "source": [
    "plt.plot(loss)\n",
    "plt.xlabel(\"Epochs\")\n",
    "plt.ylabel(\"Loss\")\n",
    "plt.title(\"Loss Visualization\")\n",
    "plt.show()"
   ]
  },
  {
   "cell_type": "code",
   "execution_count": 74,
   "id": "b955d5ef-d40e-46cb-8ef3-f17677d82e39",
   "metadata": {},
   "outputs": [],
   "source": [
    "test_pred = []\n",
    "\n",
    "first_eval_batch = scaled_train[-12:]\n",
    "current_batch = first_eval_batch.reshape((1,12,1))"
   ]
  },
  {
   "cell_type": "code",
   "execution_count": 75,
   "id": "1d686b9b-8090-4e95-81a5-d98d2c07e0ad",
   "metadata": {},
   "outputs": [
    {
     "name": "stdout",
     "output_type": "stream",
     "text": [
      "\u001b[1m1/1\u001b[0m \u001b[32m━━━━━━━━━━━━━━━━━━━━\u001b[0m\u001b[37m\u001b[0m \u001b[1m0s\u001b[0m 33ms/step\n",
      "\u001b[1m1/1\u001b[0m \u001b[32m━━━━━━━━━━━━━━━━━━━━\u001b[0m\u001b[37m\u001b[0m \u001b[1m0s\u001b[0m 29ms/step\n",
      "\u001b[1m1/1\u001b[0m \u001b[32m━━━━━━━━━━━━━━━━━━━━\u001b[0m\u001b[37m\u001b[0m \u001b[1m0s\u001b[0m 26ms/step\n",
      "\u001b[1m1/1\u001b[0m \u001b[32m━━━━━━━━━━━━━━━━━━━━\u001b[0m\u001b[37m\u001b[0m \u001b[1m0s\u001b[0m 22ms/step\n",
      "\u001b[1m1/1\u001b[0m \u001b[32m━━━━━━━━━━━━━━━━━━━━\u001b[0m\u001b[37m\u001b[0m \u001b[1m0s\u001b[0m 21ms/step\n",
      "\u001b[1m1/1\u001b[0m \u001b[32m━━━━━━━━━━━━━━━━━━━━\u001b[0m\u001b[37m\u001b[0m \u001b[1m0s\u001b[0m 21ms/step\n",
      "\u001b[1m1/1\u001b[0m \u001b[32m━━━━━━━━━━━━━━━━━━━━\u001b[0m\u001b[37m\u001b[0m \u001b[1m0s\u001b[0m 22ms/step\n",
      "\u001b[1m1/1\u001b[0m \u001b[32m━━━━━━━━━━━━━━━━━━━━\u001b[0m\u001b[37m\u001b[0m \u001b[1m0s\u001b[0m 24ms/step\n",
      "\u001b[1m1/1\u001b[0m \u001b[32m━━━━━━━━━━━━━━━━━━━━\u001b[0m\u001b[37m\u001b[0m \u001b[1m0s\u001b[0m 21ms/step\n",
      "\u001b[1m1/1\u001b[0m \u001b[32m━━━━━━━━━━━━━━━━━━━━\u001b[0m\u001b[37m\u001b[0m \u001b[1m0s\u001b[0m 22ms/step\n",
      "\u001b[1m1/1\u001b[0m \u001b[32m━━━━━━━━━━━━━━━━━━━━\u001b[0m\u001b[37m\u001b[0m \u001b[1m0s\u001b[0m 22ms/step\n",
      "\u001b[1m1/1\u001b[0m \u001b[32m━━━━━━━━━━━━━━━━━━━━\u001b[0m\u001b[37m\u001b[0m \u001b[1m0s\u001b[0m 23ms/step\n"
     ]
    }
   ],
   "source": [
    "for i in range(len(test)):\n",
    "    current_pred = model.predict(current_batch)[0]\n",
    "    test_pred.append(current_pred)\n",
    "    current_batch = np.append(current_batch[:, 1:, :], [[current_pred]],axis=1)"
   ]
  },
  {
   "cell_type": "code",
   "execution_count": 76,
   "id": "3db363a7-1eca-4c56-85e9-790fc77d3926",
   "metadata": {
    "scrolled": true
   },
   "outputs": [
    {
     "data": {
      "text/plain": [
       "[array([0.68711436], dtype=float32),\n",
       " array([0.5990781], dtype=float32),\n",
       " array([0.80843896], dtype=float32),\n",
       " array([0.85670745], dtype=float32),\n",
       " array([1.0036168], dtype=float32),\n",
       " array([0.96562004], dtype=float32),\n",
       " array([0.87712544], dtype=float32),\n",
       " array([0.7888677], dtype=float32),\n",
       " array([0.67745125], dtype=float32),\n",
       " array([0.6585009], dtype=float32),\n",
       " array([0.5806377], dtype=float32),\n",
       " array([0.65417653], dtype=float32)]"
      ]
     },
     "execution_count": 76,
     "metadata": {},
     "output_type": "execute_result"
    }
   ],
   "source": [
    "test_pred\n",
    "#The value is in 0.... beacuse we did MINMAXScaler"
   ]
  },
  {
   "cell_type": "code",
   "execution_count": 77,
   "id": "a902fc79-9476-4a9f-b6a9-e0b4994cad3a",
   "metadata": {},
   "outputs": [
    {
     "data": {
      "text/html": [
       "<div>\n",
       "<style scoped>\n",
       "    .dataframe tbody tr th:only-of-type {\n",
       "        vertical-align: middle;\n",
       "    }\n",
       "\n",
       "    .dataframe tbody tr th {\n",
       "        vertical-align: top;\n",
       "    }\n",
       "\n",
       "    .dataframe thead th {\n",
       "        text-align: right;\n",
       "    }\n",
       "</style>\n",
       "<table border=\"1\" class=\"dataframe\">\n",
       "  <thead>\n",
       "    <tr style=\"text-align: right;\">\n",
       "      <th></th>\n",
       "      <th>Production</th>\n",
       "    </tr>\n",
       "    <tr>\n",
       "      <th>Date</th>\n",
       "      <th></th>\n",
       "    </tr>\n",
       "  </thead>\n",
       "  <tbody>\n",
       "    <tr>\n",
       "      <th>1975-01-01</th>\n",
       "      <td>834</td>\n",
       "    </tr>\n",
       "    <tr>\n",
       "      <th>1975-02-01</th>\n",
       "      <td>782</td>\n",
       "    </tr>\n",
       "    <tr>\n",
       "      <th>1975-03-01</th>\n",
       "      <td>892</td>\n",
       "    </tr>\n",
       "    <tr>\n",
       "      <th>1975-04-01</th>\n",
       "      <td>903</td>\n",
       "    </tr>\n",
       "    <tr>\n",
       "      <th>1975-05-01</th>\n",
       "      <td>966</td>\n",
       "    </tr>\n",
       "  </tbody>\n",
       "</table>\n",
       "</div>"
      ],
      "text/plain": [
       "            Production\n",
       "Date                  \n",
       "1975-01-01         834\n",
       "1975-02-01         782\n",
       "1975-03-01         892\n",
       "1975-04-01         903\n",
       "1975-05-01         966"
      ]
     },
     "execution_count": 77,
     "metadata": {},
     "output_type": "execute_result"
    }
   ],
   "source": [
    "test.head()"
   ]
  },
  {
   "cell_type": "code",
   "execution_count": 78,
   "id": "3569883f-522a-48f3-98c9-4f58f927a43e",
   "metadata": {},
   "outputs": [],
   "source": [
    "true_pred = scaler.inverse_transform(test_pred)\n",
    "# Here we have reversed the 0... to the original value"
   ]
  },
  {
   "cell_type": "code",
   "execution_count": 79,
   "id": "14d73ba4-44b7-4a42-96ac-ab4d3dfc35c6",
   "metadata": {
    "scrolled": true
   },
   "outputs": [
    {
     "data": {
      "text/plain": [
       "array([[838.83957291],\n",
       "       [802.21649742],\n",
       "       [889.310606  ],\n",
       "       [909.39030075],\n",
       "       [970.5045929 ],\n",
       "       [954.69793701],\n",
       "       [917.88418388],\n",
       "       [881.1689682 ],\n",
       "       [834.81972122],\n",
       "       [826.93637848],\n",
       "       [794.54528046],\n",
       "       [825.13743782]])"
      ]
     },
     "execution_count": 79,
     "metadata": {},
     "output_type": "execute_result"
    }
   ],
   "source": [
    "true_pred"
   ]
  },
  {
   "cell_type": "code",
   "execution_count": 80,
   "id": "98babe02-35d9-44d4-af5a-45f99a6b5495",
   "metadata": {},
   "outputs": [
    {
     "name": "stderr",
     "output_type": "stream",
     "text": [
      "C:\\Users\\Kritika\\AppData\\Local\\Temp\\ipykernel_22772\\3104063954.py:1: SettingWithCopyWarning: \n",
      "A value is trying to be set on a copy of a slice from a DataFrame.\n",
      "Try using .loc[row_indexer,col_indexer] = value instead\n",
      "\n",
      "See the caveats in the documentation: https://pandas.pydata.org/pandas-docs/stable/user_guide/indexing.html#returning-a-view-versus-a-copy\n",
      "  test[\"Predictions\"]= true_pred\n"
     ]
    }
   ],
   "source": [
    "test[\"Predictions\"]= true_pred"
   ]
  },
  {
   "cell_type": "code",
   "execution_count": 81,
   "id": "33a2ac33-9b65-4925-8484-01c7ac2ecf57",
   "metadata": {},
   "outputs": [
    {
     "data": {
      "text/html": [
       "<div>\n",
       "<style scoped>\n",
       "    .dataframe tbody tr th:only-of-type {\n",
       "        vertical-align: middle;\n",
       "    }\n",
       "\n",
       "    .dataframe tbody tr th {\n",
       "        vertical-align: top;\n",
       "    }\n",
       "\n",
       "    .dataframe thead th {\n",
       "        text-align: right;\n",
       "    }\n",
       "</style>\n",
       "<table border=\"1\" class=\"dataframe\">\n",
       "  <thead>\n",
       "    <tr style=\"text-align: right;\">\n",
       "      <th></th>\n",
       "      <th>Production</th>\n",
       "      <th>Predictions</th>\n",
       "    </tr>\n",
       "    <tr>\n",
       "      <th>Date</th>\n",
       "      <th></th>\n",
       "      <th></th>\n",
       "    </tr>\n",
       "  </thead>\n",
       "  <tbody>\n",
       "    <tr>\n",
       "      <th>1975-01-01</th>\n",
       "      <td>834</td>\n",
       "      <td>838.839573</td>\n",
       "    </tr>\n",
       "    <tr>\n",
       "      <th>1975-02-01</th>\n",
       "      <td>782</td>\n",
       "      <td>802.216497</td>\n",
       "    </tr>\n",
       "    <tr>\n",
       "      <th>1975-03-01</th>\n",
       "      <td>892</td>\n",
       "      <td>889.310606</td>\n",
       "    </tr>\n",
       "    <tr>\n",
       "      <th>1975-04-01</th>\n",
       "      <td>903</td>\n",
       "      <td>909.390301</td>\n",
       "    </tr>\n",
       "    <tr>\n",
       "      <th>1975-05-01</th>\n",
       "      <td>966</td>\n",
       "      <td>970.504593</td>\n",
       "    </tr>\n",
       "  </tbody>\n",
       "</table>\n",
       "</div>"
      ],
      "text/plain": [
       "            Production  Predictions\n",
       "Date                               \n",
       "1975-01-01         834   838.839573\n",
       "1975-02-01         782   802.216497\n",
       "1975-03-01         892   889.310606\n",
       "1975-04-01         903   909.390301\n",
       "1975-05-01         966   970.504593"
      ]
     },
     "execution_count": 81,
     "metadata": {},
     "output_type": "execute_result"
    }
   ],
   "source": [
    "test.head()"
   ]
  },
  {
   "cell_type": "code",
   "execution_count": 82,
   "id": "fce14a18-a83b-4c9d-bd73-77f45c71c119",
   "metadata": {},
   "outputs": [
    {
     "data": {
      "image/png": "[encoded data removed]",
      "text/plain": [
       "<Figure size 1200x500 with 1 Axes>"
      ]
     },
     "metadata": {},
     "output_type": "display_data"
    }
   ],
   "source": [
    "test.plot(figsize=(12,5))\n",
    "plt.xlabel(\"Months of Year 1975\")\n",
    "plt.ylabel(\"Production and Prediction\")\n",
    "plt.title(\"Comparison of Production vs Prediction\")\n",
    "plt.show()"
   ]
  },
  {
   "cell_type": "code",
   "execution_count": 83,
   "id": "355f964b-924c-48fd-a58e-264ea4adec62",
   "metadata": {},
   "outputs": [],
   "source": [
    "from sklearn.metrics import mean_squared_error"
   ]
  },
  {
   "cell_type": "code",
   "execution_count": 84,
   "id": "1baddb72-dace-4151-aeaf-69f7900e6ef4",
   "metadata": {},
   "outputs": [],
   "source": [
    "#rmse = root mean squared error\n",
    "rmse = np.sqrt(mean_squared_error(test[\"Production\"],test[\"Predictions\"]))"
   ]
  },
  {
   "cell_type": "code",
   "execution_count": 85,
   "id": "c5497b92-c830-48c0-90ed-cb748a6745f9",
   "metadata": {},
   "outputs": [
    {
     "data": {
      "text/plain": [
       "14.35289526193986"
      ]
     },
     "execution_count": 85,
     "metadata": {},
     "output_type": "execute_result"
    }
   ],
   "source": [
    "rmse\n",
    "#This is very low value."
   ]
  },
  {
   "cell_type": "code",
   "execution_count": 86,
   "id": "5938b276-0002-4afc-a72a-0682b4e0f286",
   "metadata": {},
   "outputs": [
    {
     "data": {
      "text/plain": [
       "862.6666666666666"
      ]
     },
     "execution_count": 86,
     "metadata": {},
     "output_type": "execute_result"
    }
   ],
   "source": [
    "test[\"Production\"].mean()"
   ]
  },
  {
   "cell_type": "code",
   "execution_count": 87,
   "id": "964fb7cc-0a71-4920-a3d2-91fa1843623c",
   "metadata": {},
   "outputs": [
    {
     "data": {
      "text/plain": [
       "870.4542897542318"
      ]
     },
     "execution_count": 87,
     "metadata": {},
     "output_type": "execute_result"
    }
   ],
   "source": [
    "test[\"Predictions\"].mean()"
   ]
  },
  {
   "cell_type": "code",
   "execution_count": 88,
   "id": "a1840004-4bfb-423c-8444-e565adfe9235",
   "metadata": {},
   "outputs": [],
   "source": [
    "min = 862.66 - rmse\n",
    "max = 870.45 + rmse"
   ]
  },
  {
   "cell_type": "code",
   "execution_count": 89,
   "id": "03c7aa3c-0211-42d3-a14d-545aec590542",
   "metadata": {},
   "outputs": [
    {
     "data": {
      "text/plain": [
       "(848.3071047380602, 884.8028952619399)"
      ]
     },
     "execution_count": 89,
     "metadata": {},
     "output_type": "execute_result"
    }
   ],
   "source": [
    "min,max"
   ]
  },
  {
   "cell_type": "markdown",
   "id": "983e681e-7df9-4fc4-8c45-7c354b6adcc5",
   "metadata": {},
   "source": [
    "#### We can see 14.35 is far from 848.30 and 884.80."
   ]
  },
  {
   "cell_type": "code",
   "execution_count": null,
   "id": "8927d0b8-1da6-4c0a-8ecd-d6676ec65f13",
   "metadata": {},
   "outputs": [],
   "source": []
  }
 ],
 "metadata": {
  "kernelspec": {
   "display_name": "Python 3 (ipykernel)",
   "language": "python",
   "name": "python3"
  },
  "language_info": {
   "codemirror_mode": {
    "name": "ipython",
    "version": 3
   },
   "file_extension": ".py",
   "mimetype": "text/x-python",
   "name": "python",
   "nbconvert_exporter": "python",
   "pygments_lexer": "ipython3",
   "version": "3.12.0"
  }
 },
 "nbformat": 4,
 "nbformat_minor": 5
}
