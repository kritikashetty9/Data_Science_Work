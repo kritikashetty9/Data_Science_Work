{
 "cells": [
  {
   "cell_type": "code",
   "execution_count": 3,
   "id": "bd3aa059-9373-49e4-8506-0edd753f36bb",
   "metadata": {},
   "outputs": [],
   "source": [
    "board = [[\" \" for _ in range(3)] for _ in range(3)]"
   ]
  },
  {
   "cell_type": "code",
   "execution_count": 4,
   "id": "e183e088-dc16-46f5-b7be-05e64c7dedb1",
   "metadata": {},
   "outputs": [
    {
     "data": {
      "text/plain": [
       "[[' ', ' ', ' '], [' ', ' ', ' '], [' ', ' ', ' ']]"
      ]
     },
     "execution_count": 4,
     "metadata": {},
     "output_type": "execute_result"
    }
   ],
   "source": [
    "board"
   ]
  },
  {
   "cell_type": "code",
   "execution_count": 5,
   "id": "8eac7d8f-f77f-4b0c-a837-fdfdf7bacb75",
   "metadata": {},
   "outputs": [],
   "source": [
    "def print_board(board):\n",
    "    for row in board:\n",
    "        print(\" | \".join(row))\n",
    "        print(\"-\"*9)"
   ]
  },
  {
   "cell_type": "code",
   "execution_count": 6,
   "id": "dba3779d-cbce-47aa-a18a-18769e3907ea",
   "metadata": {},
   "outputs": [
    {
     "name": "stdout",
     "output_type": "stream",
     "text": [
      "  |   |  \n",
      "---------\n",
      "  |   |  \n",
      "---------\n",
      "  |   |  \n",
      "---------\n"
     ]
    }
   ],
   "source": [
    "print_board(board)"
   ]
  },
  {
   "cell_type": "code",
   "execution_count": 7,
   "id": "2a12141b-9340-40b6-8194-49772575623d",
   "metadata": {},
   "outputs": [],
   "source": [
    "def is_board_full(board):\n",
    "    return all(cell != \" \" for row in board for cell in row)\n",
    "#Just finding is the row empty or not"
   ]
  },
  {
   "cell_type": "code",
   "execution_count": 8,
   "id": "a4dca1ea-f74e-4cac-9ab0-305453bef473",
   "metadata": {},
   "outputs": [
    {
     "data": {
      "text/plain": [
       "False"
      ]
     },
     "execution_count": 8,
     "metadata": {},
     "output_type": "execute_result"
    }
   ],
   "source": [
    "is_board_full(board)"
   ]
  },
  {
   "cell_type": "code",
   "execution_count": 9,
   "id": "2bf969b8-b9b3-4101-afb4-5f0d6bbc0b9a",
   "metadata": {},
   "outputs": [],
   "source": [
    "#Giving the conditions for the game for row,column,diagonal.\n",
    "def is_winner(board,player):\n",
    "    for row in board:\n",
    "        if all(cell==player for cell in row):\n",
    "            return True\n",
    "    for col in range(3):\n",
    "        if all(row[col]==player for row in board):\n",
    "            return True\n",
    "\n",
    "    if all(board[i][i]==player for i in range(3)) or all(board[i][2-i]==player for i in range(3)):\n",
    "        return True\n",
    "\n",
    "    return False"
   ]
  },
  {
   "cell_type": "code",
   "execution_count": 10,
   "id": "29065611-f442-425d-ae7f-215ae92cba39",
   "metadata": {},
   "outputs": [
    {
     "data": {
      "text/plain": [
       "False"
      ]
     },
     "execution_count": 10,
     "metadata": {},
     "output_type": "execute_result"
    }
   ],
   "source": [
    "is_winner(board,\"X\")\n",
    "#Human"
   ]
  },
  {
   "cell_type": "code",
   "execution_count": 11,
   "id": "c812e3dd-70dc-409b-8258-4f0462be8578",
   "metadata": {},
   "outputs": [
    {
     "data": {
      "text/plain": [
       "False"
      ]
     },
     "execution_count": 11,
     "metadata": {},
     "output_type": "execute_result"
    }
   ],
   "source": [
    "is_winner(board,\"O\")\n",
    "#Computer"
   ]
  },
  {
   "cell_type": "code",
   "execution_count": 14,
   "id": "f8bd1da7-0703-4aa1-8ef6-d34b668585b6",
   "metadata": {},
   "outputs": [],
   "source": [
    "#To find empty cells if there is no winner as we can see the result (false) both \n",
    "def get_empty_cells(board):\n",
    "    return[(i,j) for i in range(3) for j in range(3) if board[i][j]==\" \"]"
   ]
  },
  {
   "cell_type": "code",
   "execution_count": 15,
   "id": "bf558e2e-f5b7-4b48-abec-7dee46adeb72",
   "metadata": {},
   "outputs": [
    {
     "data": {
      "text/plain": [
       "[(0, 0), (0, 1), (0, 2), (1, 0), (1, 1), (1, 2), (2, 0), (2, 1), (2, 2)]"
      ]
     },
     "execution_count": 15,
     "metadata": {},
     "output_type": "execute_result"
    }
   ],
   "source": [
    "get_empty_cells(board)"
   ]
  },
  {
   "cell_type": "code",
   "execution_count": 24,
   "id": "cee92faa-276d-4fd6-887e-ee49e3306704",
   "metadata": {},
   "outputs": [],
   "source": [
    "#MiniMax\n",
    "#Giving condition 1,-1,0\n",
    "def minimax(board,depth,is_maximizer):\n",
    "    if is_winner(board,\"O\"):\n",
    "        return 1\n",
    "    elif is_winner(board,\"X\"):\n",
    "        return -1\n",
    "    elif is_board_full(board):\n",
    "        return 0\n",
    "\n",
    "#If computer wants to increase its chance\n",
    "    if is_maximizer:\n",
    "        max_eval = float(\"-inf\")#- infinity(smalllest no)\n",
    "        for i,j in get_empty_cells(board):\n",
    "            board[i][j]=\"O\"\n",
    "            eval=minimax(board,depth+1,False) #recursion function we are using here\n",
    "            board[i][j]=\" \"                   #i ,j is blank here\n",
    "            max_eval = max(max_eval,eval)\n",
    "        return max_eval\n",
    "    else:                                    #Human chance is minimum.\n",
    "        min_eval = float(\"inf\")\n",
    "        for i,j in get_empty_cells(board):\n",
    "            board[i][j]=\"X\"\n",
    "            eval=minimax(board,depth+1,True) #recursion function we are using here\n",
    "            board[i][j]=\" \"                  #i ,j is blank here\n",
    "            min_eval = min(min_eval,eval)\n",
    "        return min_eval\n",
    "        "
   ]
  },
  {
   "cell_type": "code",
   "execution_count": 28,
   "id": "76f82419-930c-4337-8883-e8c204e080e9",
   "metadata": {},
   "outputs": [],
   "source": [
    "def best_move(board):\n",
    "    best_val = float(\"-inf\")  #To find best move and best value\n",
    "    best_move = None\n",
    "\n",
    "    for i,j in get_empty_cells(board):\n",
    "            board[i][j]=\"O\"\n",
    "            move_val = minimax(board,0,False) \n",
    "            board[i][j]=\" \"     \n",
    "        \n",
    "            if move_val>best_val:\n",
    "                best_move=(i,j)\n",
    "                best_val = move_val\n",
    "\n",
    "    return best_move\n",
    "    "
   ]
  },
  {
   "cell_type": "code",
   "execution_count": 29,
   "id": "e1d29262-f143-45f9-8dbb-f712deeb29b9",
   "metadata": {},
   "outputs": [],
   "source": [
    "def main():\n",
    "    board = [[\" \" for _ in range(3)] for _ in range(3)]\n",
    "\n",
    "    while True:\n",
    "        print_board(board)\n",
    "\n",
    "        # Human Move\n",
    "        row=int(input(\"Enter row number: \"))-1  \n",
    "        col=int(input(\"Enter column number: \"))-1 \n",
    "\n",
    "        if board[row][col]==\" \":\n",
    "            board[row][col]=\"X\"\n",
    "\n",
    "        else:\n",
    "            print(\"Cell is already filled,Try again!\")\n",
    "            continue\n",
    "\n",
    "        if is_winner(board,\"X\"):\n",
    "            print_board(board)\n",
    "            print(\"Congratulation! You win.\")\n",
    "            break\n",
    "\n",
    "        elif is_board_full(board):\n",
    "            print_board(board)\n",
    "            print(\"Ohhhh! It's a tie\")\n",
    "            break\n",
    "\n",
    "        print_board(board)\n",
    "\n",
    "       # AI Move\n",
    "        print(\"It's AI Move\")\n",
    "        ai_row,ai_col = best_move(board)\n",
    "        board[ai_row][ai_col]=\"O\"\n",
    "\n",
    "        if is_winner(board,\"O\"):\n",
    "            print_board(board)\n",
    "            print(\"AI wins\")\n",
    "            break\n",
    "\n",
    "        elif is_board_full(board):\n",
    "            print_board(board)\n",
    "            print(\"Ohhhh! It's a tie\")\n",
    "            break\n"
   ]
  },
  {
   "cell_type": "code",
   "execution_count": 36,
   "id": "9cb234c8-ab18-4f4f-9dfb-1b5b98afbea7",
   "metadata": {},
   "outputs": [
    {
     "name": "stdout",
     "output_type": "stream",
     "text": [
      "  |   |  \n",
      "---------\n",
      "  |   |  \n",
      "---------\n",
      "  |   |  \n",
      "---------\n"
     ]
    },
    {
     "name": "stdin",
     "output_type": "stream",
     "text": [
      "Enter row number:  2\n",
      "Enter column number:  3\n"
     ]
    },
    {
     "name": "stdout",
     "output_type": "stream",
     "text": [
      "  |   |  \n",
      "---------\n",
      "  |   | X\n",
      "---------\n",
      "  |   |  \n",
      "---------\n",
      "It's AI Move\n",
      "  |   | O\n",
      "---------\n",
      "  |   | X\n",
      "---------\n",
      "  |   |  \n",
      "---------\n"
     ]
    },
    {
     "name": "stdin",
     "output_type": "stream",
     "text": [
      "Enter row number:  1\n",
      "Enter column number:  1\n"
     ]
    },
    {
     "name": "stdout",
     "output_type": "stream",
     "text": [
      "X |   | O\n",
      "---------\n",
      "  |   | X\n",
      "---------\n",
      "  |   |  \n",
      "---------\n",
      "It's AI Move\n",
      "X |   | O\n",
      "---------\n",
      "O |   | X\n",
      "---------\n",
      "  |   |  \n",
      "---------\n"
     ]
    },
    {
     "name": "stdin",
     "output_type": "stream",
     "text": [
      "Enter row number:  2\n",
      "Enter column number:  2\n"
     ]
    },
    {
     "name": "stdout",
     "output_type": "stream",
     "text": [
      "X |   | O\n",
      "---------\n",
      "O | X | X\n",
      "---------\n",
      "  |   |  \n",
      "---------\n",
      "It's AI Move\n",
      "X |   | O\n",
      "---------\n",
      "O | X | X\n",
      "---------\n",
      "  |   | O\n",
      "---------\n"
     ]
    },
    {
     "name": "stdin",
     "output_type": "stream",
     "text": [
      "Enter row number:  3\n",
      "Enter column number:  1\n"
     ]
    },
    {
     "name": "stdout",
     "output_type": "stream",
     "text": [
      "X |   | O\n",
      "---------\n",
      "O | X | X\n",
      "---------\n",
      "X |   | O\n",
      "---------\n",
      "It's AI Move\n",
      "X | O | O\n",
      "---------\n",
      "O | X | X\n",
      "---------\n",
      "X |   | O\n",
      "---------\n"
     ]
    },
    {
     "name": "stdin",
     "output_type": "stream",
     "text": [
      "Enter row number:  3\n",
      "Enter column number:  2\n"
     ]
    },
    {
     "name": "stdout",
     "output_type": "stream",
     "text": [
      "X | O | O\n",
      "---------\n",
      "O | X | X\n",
      "---------\n",
      "X | X | O\n",
      "---------\n",
      "Ohhhh! It's a tie\n"
     ]
    }
   ],
   "source": [
    "main()"
   ]
  },
  {
   "cell_type": "code",
   "execution_count": null,
   "id": "6d0bd305-d4a0-4eb1-8417-8346d203d24a",
   "metadata": {},
   "outputs": [],
   "source": []
  }
 ],
 "metadata": {
  "kernelspec": {
   "display_name": "Python 3 (ipykernel)",
   "language": "python",
   "name": "python3"
  },
  "language_info": {
   "codemirror_mode": {
    "name": "ipython",
    "version": 3
   },
   "file_extension": ".py",
   "mimetype": "text/x-python",
   "name": "python",
   "nbconvert_exporter": "python",
   "pygments_lexer": "ipython3",
   "version": "3.12.0"
  }
 },
 "nbformat": 4,
 "nbformat_minor": 5
}
