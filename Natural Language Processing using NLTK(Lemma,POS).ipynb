{
 "cells": [
  {
   "cell_type": "code",
   "execution_count": 1,
   "id": "6499ea64-8d3d-414a-98c8-88ca22f18cc3",
   "metadata": {},
   "outputs": [],
   "source": [
    "import nltk"
   ]
  },
  {
   "cell_type": "code",
   "execution_count": 82,
   "id": "fc242086-4de6-4ef8-bcfd-9bc96a52fbd3",
   "metadata": {},
   "outputs": [
    {
     "name": "stdout",
     "output_type": "stream",
     "text": [
      "Collecting svgling\n",
      "  Downloading svgling-0.4.0-py3-none-any.whl.metadata (7.0 kB)\n",
      "Collecting svgwrite (from svgling)\n",
      "  Downloading svgwrite-1.4.3-py3-none-any.whl.metadata (8.8 kB)\n",
      "Downloading svgling-0.4.0-py3-none-any.whl (23 kB)\n",
      "Downloading svgwrite-1.4.3-py3-none-any.whl (67 kB)\n",
      "   ---------------------------------------- 0.0/67.1 kB ? eta -:--:--\n",
      "   ---------------------------------------- 67.1/67.1 kB 1.8 MB/s eta 0:00:00\n",
      "Installing collected packages: svgwrite, svgling\n",
      "Successfully installed svgling-0.4.0 svgwrite-1.4.3\n",
      "Note: you may need to restart the kernel to use updated packages.\n"
     ]
    }
   ],
   "source": [
    "pip install svgling"
   ]
  },
  {
   "cell_type": "code",
   "execution_count": 2,
   "id": "9ee005db-9c2a-47ef-ab2a-d05948fc39d4",
   "metadata": {},
   "outputs": [
    {
     "name": "stderr",
     "output_type": "stream",
     "text": [
      "[nltk_data] Downloading collection 'popular'\n",
      "[nltk_data]    | \n",
      "[nltk_data]    | Downloading package cmudict to\n",
      "[nltk_data]    |     C:\\Users\\Kritika\\AppData\\Roaming\\nltk_data...\n",
      "[nltk_data]    |   Package cmudict is already up-to-date!\n",
      "[nltk_data]    | Downloading package gazetteers to\n",
      "[nltk_data]    |     C:\\Users\\Kritika\\AppData\\Roaming\\nltk_data...\n",
      "[nltk_data]    |   Unzipping corpora\\gazetteers.zip.\n",
      "[nltk_data]    | Downloading package genesis to\n",
      "[nltk_data]    |     C:\\Users\\Kritika\\AppData\\Roaming\\nltk_data...\n",
      "[nltk_data]    |   Unzipping corpora\\genesis.zip.\n",
      "[nltk_data]    | Downloading package gutenberg to\n",
      "[nltk_data]    |     C:\\Users\\Kritika\\AppData\\Roaming\\nltk_data...\n",
      "[nltk_data]    |   Unzipping corpora\\gutenberg.zip.\n",
      "[nltk_data]    | Downloading package inaugural to\n",
      "[nltk_data]    |     C:\\Users\\Kritika\\AppData\\Roaming\\nltk_data...\n",
      "[nltk_data]    |   Unzipping corpora\\inaugural.zip.\n",
      "[nltk_data]    | Downloading package movie_reviews to\n",
      "[nltk_data]    |     C:\\Users\\Kritika\\AppData\\Roaming\\nltk_data...\n",
      "[nltk_data]    |   Unzipping corpora\\movie_reviews.zip.\n",
      "[nltk_data]    | Downloading package names to\n",
      "[nltk_data]    |     C:\\Users\\Kritika\\AppData\\Roaming\\nltk_data...\n",
      "[nltk_data]    |   Unzipping corpora\\names.zip.\n",
      "[nltk_data]    | Downloading package shakespeare to\n",
      "[nltk_data]    |     C:\\Users\\Kritika\\AppData\\Roaming\\nltk_data...\n",
      "[nltk_data]    |   Unzipping corpora\\shakespeare.zip.\n",
      "[nltk_data]    | Downloading package stopwords to\n",
      "[nltk_data]    |     C:\\Users\\Kritika\\AppData\\Roaming\\nltk_data...\n",
      "[nltk_data]    |   Unzipping corpora\\stopwords.zip.\n",
      "[nltk_data]    | Downloading package treebank to\n",
      "[nltk_data]    |     C:\\Users\\Kritika\\AppData\\Roaming\\nltk_data...\n",
      "[nltk_data]    |   Unzipping corpora\\treebank.zip.\n",
      "[nltk_data]    | Downloading package twitter_samples to\n",
      "[nltk_data]    |     C:\\Users\\Kritika\\AppData\\Roaming\\nltk_data...\n",
      "[nltk_data]    |   Unzipping corpora\\twitter_samples.zip.\n",
      "[nltk_data]    | Downloading package omw to\n",
      "[nltk_data]    |     C:\\Users\\Kritika\\AppData\\Roaming\\nltk_data...\n",
      "[nltk_data]    | Downloading package omw-1.4 to\n",
      "[nltk_data]    |     C:\\Users\\Kritika\\AppData\\Roaming\\nltk_data...\n",
      "[nltk_data]    | Downloading package wordnet to\n",
      "[nltk_data]    |     C:\\Users\\Kritika\\AppData\\Roaming\\nltk_data...\n",
      "[nltk_data]    | Downloading package wordnet2021 to\n",
      "[nltk_data]    |     C:\\Users\\Kritika\\AppData\\Roaming\\nltk_data...\n",
      "[nltk_data]    | Downloading package wordnet31 to\n",
      "[nltk_data]    |     C:\\Users\\Kritika\\AppData\\Roaming\\nltk_data...\n",
      "[nltk_data]    | Downloading package wordnet_ic to\n",
      "[nltk_data]    |     C:\\Users\\Kritika\\AppData\\Roaming\\nltk_data...\n",
      "[nltk_data]    |   Unzipping corpora\\wordnet_ic.zip.\n",
      "[nltk_data]    | Downloading package words to\n",
      "[nltk_data]    |     C:\\Users\\Kritika\\AppData\\Roaming\\nltk_data...\n",
      "[nltk_data]    |   Unzipping corpora\\words.zip.\n",
      "[nltk_data]    | Downloading package maxent_ne_chunker to\n",
      "[nltk_data]    |     C:\\Users\\Kritika\\AppData\\Roaming\\nltk_data...\n",
      "[nltk_data]    |   Unzipping chunkers\\maxent_ne_chunker.zip.\n",
      "[nltk_data]    | Downloading package punkt to\n",
      "[nltk_data]    |     C:\\Users\\Kritika\\AppData\\Roaming\\nltk_data...\n",
      "[nltk_data]    |   Unzipping tokenizers\\punkt.zip.\n",
      "[nltk_data]    | Downloading package snowball_data to\n",
      "[nltk_data]    |     C:\\Users\\Kritika\\AppData\\Roaming\\nltk_data...\n",
      "[nltk_data]    | Downloading package averaged_perceptron_tagger to\n",
      "[nltk_data]    |     C:\\Users\\Kritika\\AppData\\Roaming\\nltk_data...\n",
      "[nltk_data]    |   Package averaged_perceptron_tagger is already up-\n",
      "[nltk_data]    |       to-date!\n",
      "[nltk_data]    | \n",
      "[nltk_data]  Done downloading collection popular\n"
     ]
    },
    {
     "data": {
      "text/plain": [
       "True"
      ]
     },
     "execution_count": 2,
     "metadata": {},
     "output_type": "execute_result"
    }
   ],
   "source": [
    "nltk.download(\"popular\")"
   ]
  },
  {
   "cell_type": "code",
   "execution_count": 76,
   "id": "8e41223d-dd85-45c8-afef-ed3005c64ace",
   "metadata": {},
   "outputs": [
    {
     "name": "stderr",
     "output_type": "stream",
     "text": [
      "[nltk_data] Downloading collection 'all'\n",
      "[nltk_data]    | \n",
      "[nltk_data]    | Downloading package abc to\n",
      "[nltk_data]    |     C:\\Users\\Kritika\\AppData\\Roaming\\nltk_data...\n",
      "[nltk_data]    |   Package abc is already up-to-date!\n",
      "[nltk_data]    | Downloading package alpino to\n",
      "[nltk_data]    |     C:\\Users\\Kritika\\AppData\\Roaming\\nltk_data...\n",
      "[nltk_data]    |   Package alpino is already up-to-date!\n",
      "[nltk_data]    | Downloading package averaged_perceptron_tagger to\n",
      "[nltk_data]    |     C:\\Users\\Kritika\\AppData\\Roaming\\nltk_data...\n",
      "[nltk_data]    |   Package averaged_perceptron_tagger is already up-\n",
      "[nltk_data]    |       to-date!\n",
      "[nltk_data]    | Downloading package averaged_perceptron_tagger_ru to\n",
      "[nltk_data]    |     C:\\Users\\Kritika\\AppData\\Roaming\\nltk_data...\n",
      "[nltk_data]    |   Package averaged_perceptron_tagger_ru is already\n",
      "[nltk_data]    |       up-to-date!\n",
      "[nltk_data]    | Downloading package basque_grammars to\n",
      "[nltk_data]    |     C:\\Users\\Kritika\\AppData\\Roaming\\nltk_data...\n",
      "[nltk_data]    |   Package basque_grammars is already up-to-date!\n",
      "[nltk_data]    | Downloading package bcp47 to\n",
      "[nltk_data]    |     C:\\Users\\Kritika\\AppData\\Roaming\\nltk_data...\n",
      "[nltk_data]    |   Package bcp47 is already up-to-date!\n",
      "[nltk_data]    | Downloading package biocreative_ppi to\n",
      "[nltk_data]    |     C:\\Users\\Kritika\\AppData\\Roaming\\nltk_data...\n",
      "[nltk_data]    |   Package biocreative_ppi is already up-to-date!\n",
      "[nltk_data]    | Downloading package bllip_wsj_no_aux to\n",
      "[nltk_data]    |     C:\\Users\\Kritika\\AppData\\Roaming\\nltk_data...\n",
      "[nltk_data]    |   Package bllip_wsj_no_aux is already up-to-date!\n",
      "[nltk_data]    | Downloading package book_grammars to\n",
      "[nltk_data]    |     C:\\Users\\Kritika\\AppData\\Roaming\\nltk_data...\n",
      "[nltk_data]    |   Package book_grammars is already up-to-date!\n",
      "[nltk_data]    | Downloading package brown to\n",
      "[nltk_data]    |     C:\\Users\\Kritika\\AppData\\Roaming\\nltk_data...\n",
      "[nltk_data]    |   Package brown is already up-to-date!\n",
      "[nltk_data]    | Downloading package brown_tei to\n",
      "[nltk_data]    |     C:\\Users\\Kritika\\AppData\\Roaming\\nltk_data...\n",
      "[nltk_data]    |   Package brown_tei is already up-to-date!\n",
      "[nltk_data]    | Downloading package cess_cat to\n",
      "[nltk_data]    |     C:\\Users\\Kritika\\AppData\\Roaming\\nltk_data...\n",
      "[nltk_data]    |   Package cess_cat is already up-to-date!\n",
      "[nltk_data]    | Downloading package cess_esp to\n",
      "[nltk_data]    |     C:\\Users\\Kritika\\AppData\\Roaming\\nltk_data...\n",
      "[nltk_data]    |   Package cess_esp is already up-to-date!\n",
      "[nltk_data]    | Downloading package chat80 to\n",
      "[nltk_data]    |     C:\\Users\\Kritika\\AppData\\Roaming\\nltk_data...\n",
      "[nltk_data]    |   Package chat80 is already up-to-date!\n",
      "[nltk_data]    | Downloading package city_database to\n",
      "[nltk_data]    |     C:\\Users\\Kritika\\AppData\\Roaming\\nltk_data...\n",
      "[nltk_data]    |   Package city_database is already up-to-date!\n",
      "[nltk_data]    | Downloading package cmudict to\n",
      "[nltk_data]    |     C:\\Users\\Kritika\\AppData\\Roaming\\nltk_data...\n",
      "[nltk_data]    |   Package cmudict is already up-to-date!\n",
      "[nltk_data]    | Downloading package comparative_sentences to\n",
      "[nltk_data]    |     C:\\Users\\Kritika\\AppData\\Roaming\\nltk_data...\n",
      "[nltk_data]    |   Package comparative_sentences is already up-to-\n",
      "[nltk_data]    |       date!\n",
      "[nltk_data]    | Downloading package comtrans to\n",
      "[nltk_data]    |     C:\\Users\\Kritika\\AppData\\Roaming\\nltk_data...\n",
      "[nltk_data]    |   Package comtrans is already up-to-date!\n",
      "[nltk_data]    | Downloading package conll2000 to\n",
      "[nltk_data]    |     C:\\Users\\Kritika\\AppData\\Roaming\\nltk_data...\n",
      "[nltk_data]    |   Package conll2000 is already up-to-date!\n",
      "[nltk_data]    | Downloading package conll2002 to\n",
      "[nltk_data]    |     C:\\Users\\Kritika\\AppData\\Roaming\\nltk_data...\n",
      "[nltk_data]    |   Package conll2002 is already up-to-date!\n",
      "[nltk_data]    | Downloading package conll2007 to\n",
      "[nltk_data]    |     C:\\Users\\Kritika\\AppData\\Roaming\\nltk_data...\n",
      "[nltk_data]    |   Package conll2007 is already up-to-date!\n",
      "[nltk_data]    | Downloading package crubadan to\n",
      "[nltk_data]    |     C:\\Users\\Kritika\\AppData\\Roaming\\nltk_data...\n",
      "[nltk_data]    |   Package crubadan is already up-to-date!\n",
      "[nltk_data]    | Downloading package dependency_treebank to\n",
      "[nltk_data]    |     C:\\Users\\Kritika\\AppData\\Roaming\\nltk_data...\n",
      "[nltk_data]    |   Package dependency_treebank is already up-to-date!\n",
      "[nltk_data]    | Downloading package dolch to\n",
      "[nltk_data]    |     C:\\Users\\Kritika\\AppData\\Roaming\\nltk_data...\n",
      "[nltk_data]    |   Package dolch is already up-to-date!\n",
      "[nltk_data]    | Downloading package europarl_raw to\n",
      "[nltk_data]    |     C:\\Users\\Kritika\\AppData\\Roaming\\nltk_data...\n",
      "[nltk_data]    |   Package europarl_raw is already up-to-date!\n",
      "[nltk_data]    | Downloading package extended_omw to\n",
      "[nltk_data]    |     C:\\Users\\Kritika\\AppData\\Roaming\\nltk_data...\n",
      "[nltk_data]    |   Package extended_omw is already up-to-date!\n",
      "[nltk_data]    | Downloading package floresta to\n",
      "[nltk_data]    |     C:\\Users\\Kritika\\AppData\\Roaming\\nltk_data...\n",
      "[nltk_data]    |   Package floresta is already up-to-date!\n",
      "[nltk_data]    | Downloading package framenet_v15 to\n",
      "[nltk_data]    |     C:\\Users\\Kritika\\AppData\\Roaming\\nltk_data...\n",
      "[nltk_data]    |   Package framenet_v15 is already up-to-date!\n",
      "[nltk_data]    | Downloading package framenet_v17 to\n",
      "[nltk_data]    |     C:\\Users\\Kritika\\AppData\\Roaming\\nltk_data...\n",
      "[nltk_data]    |   Package framenet_v17 is already up-to-date!\n",
      "[nltk_data]    | Downloading package gazetteers to\n",
      "[nltk_data]    |     C:\\Users\\Kritika\\AppData\\Roaming\\nltk_data...\n",
      "[nltk_data]    |   Package gazetteers is already up-to-date!\n",
      "[nltk_data]    | Downloading package genesis to\n",
      "[nltk_data]    |     C:\\Users\\Kritika\\AppData\\Roaming\\nltk_data...\n",
      "[nltk_data]    |   Package genesis is already up-to-date!\n",
      "[nltk_data]    | Downloading package gutenberg to\n",
      "[nltk_data]    |     C:\\Users\\Kritika\\AppData\\Roaming\\nltk_data...\n",
      "[nltk_data]    |   Package gutenberg is already up-to-date!\n",
      "[nltk_data]    | Downloading package ieer to\n",
      "[nltk_data]    |     C:\\Users\\Kritika\\AppData\\Roaming\\nltk_data...\n",
      "[nltk_data]    |   Package ieer is already up-to-date!\n",
      "[nltk_data]    | Downloading package inaugural to\n",
      "[nltk_data]    |     C:\\Users\\Kritika\\AppData\\Roaming\\nltk_data...\n",
      "[nltk_data]    |   Package inaugural is already up-to-date!\n",
      "[nltk_data]    | Downloading package indian to\n",
      "[nltk_data]    |     C:\\Users\\Kritika\\AppData\\Roaming\\nltk_data...\n",
      "[nltk_data]    |   Package indian is already up-to-date!\n",
      "[nltk_data]    | Downloading package jeita to\n",
      "[nltk_data]    |     C:\\Users\\Kritika\\AppData\\Roaming\\nltk_data...\n",
      "[nltk_data]    |   Package jeita is already up-to-date!\n",
      "[nltk_data]    | Downloading package kimmo to\n",
      "[nltk_data]    |     C:\\Users\\Kritika\\AppData\\Roaming\\nltk_data...\n",
      "[nltk_data]    |   Package kimmo is already up-to-date!\n",
      "[nltk_data]    | Downloading package knbc to\n",
      "[nltk_data]    |     C:\\Users\\Kritika\\AppData\\Roaming\\nltk_data...\n",
      "[nltk_data]    |   Package knbc is already up-to-date!\n",
      "[nltk_data]    | Downloading package large_grammars to\n",
      "[nltk_data]    |     C:\\Users\\Kritika\\AppData\\Roaming\\nltk_data...\n",
      "[nltk_data]    |   Unzipping grammars\\large_grammars.zip.\n",
      "[nltk_data]    | Downloading package lin_thesaurus to\n",
      "[nltk_data]    |     C:\\Users\\Kritika\\AppData\\Roaming\\nltk_data...\n",
      "[nltk_data]    |   Package lin_thesaurus is already up-to-date!\n",
      "[nltk_data]    | Downloading package mac_morpho to\n",
      "[nltk_data]    |     C:\\Users\\Kritika\\AppData\\Roaming\\nltk_data...\n",
      "[nltk_data]    |   Package mac_morpho is already up-to-date!\n",
      "[nltk_data]    | Downloading package machado to\n",
      "[nltk_data]    |     C:\\Users\\Kritika\\AppData\\Roaming\\nltk_data...\n",
      "[nltk_data]    |   Package machado is already up-to-date!\n",
      "[nltk_data]    | Downloading package masc_tagged to\n",
      "[nltk_data]    |     C:\\Users\\Kritika\\AppData\\Roaming\\nltk_data...\n",
      "[nltk_data]    |   Package masc_tagged is already up-to-date!\n",
      "[nltk_data]    | Downloading package maxent_ne_chunker to\n",
      "[nltk_data]    |     C:\\Users\\Kritika\\AppData\\Roaming\\nltk_data...\n",
      "[nltk_data]    |   Package maxent_ne_chunker is already up-to-date!\n",
      "[nltk_data]    | Downloading package maxent_treebank_pos_tagger to\n",
      "[nltk_data]    |     C:\\Users\\Kritika\\AppData\\Roaming\\nltk_data...\n",
      "[nltk_data]    |   Unzipping taggers\\maxent_treebank_pos_tagger.zip.\n",
      "[nltk_data]    | Downloading package moses_sample to\n",
      "[nltk_data]    |     C:\\Users\\Kritika\\AppData\\Roaming\\nltk_data...\n",
      "[nltk_data]    |   Unzipping models\\moses_sample.zip.\n",
      "[nltk_data]    | Downloading package movie_reviews to\n",
      "[nltk_data]    |     C:\\Users\\Kritika\\AppData\\Roaming\\nltk_data...\n",
      "[nltk_data]    |   Package movie_reviews is already up-to-date!\n",
      "[nltk_data]    | Downloading package mte_teip5 to\n",
      "[nltk_data]    |     C:\\Users\\Kritika\\AppData\\Roaming\\nltk_data...\n",
      "[nltk_data]    |   Package mte_teip5 is already up-to-date!\n",
      "[nltk_data]    | Downloading package mwa_ppdb to\n",
      "[nltk_data]    |     C:\\Users\\Kritika\\AppData\\Roaming\\nltk_data...\n",
      "[nltk_data]    |   Unzipping misc\\mwa_ppdb.zip.\n",
      "[nltk_data]    | Downloading package names to\n",
      "[nltk_data]    |     C:\\Users\\Kritika\\AppData\\Roaming\\nltk_data...\n",
      "[nltk_data]    |   Package names is already up-to-date!\n",
      "[nltk_data]    | Downloading package nombank.1.0 to\n",
      "[nltk_data]    |     C:\\Users\\Kritika\\AppData\\Roaming\\nltk_data...\n",
      "[nltk_data]    |   Package nombank.1.0 is already up-to-date!\n",
      "[nltk_data]    | Downloading package nonbreaking_prefixes to\n",
      "[nltk_data]    |     C:\\Users\\Kritika\\AppData\\Roaming\\nltk_data...\n",
      "[nltk_data]    |   Package nonbreaking_prefixes is already up-to-date!\n",
      "[nltk_data]    | Downloading package nps_chat to\n",
      "[nltk_data]    |     C:\\Users\\Kritika\\AppData\\Roaming\\nltk_data...\n",
      "[nltk_data]    |   Package nps_chat is already up-to-date!\n",
      "[nltk_data]    | Downloading package omw to\n",
      "[nltk_data]    |     C:\\Users\\Kritika\\AppData\\Roaming\\nltk_data...\n",
      "[nltk_data]    |   Package omw is already up-to-date!\n",
      "[nltk_data]    | Downloading package omw-1.4 to\n",
      "[nltk_data]    |     C:\\Users\\Kritika\\AppData\\Roaming\\nltk_data...\n",
      "[nltk_data]    |   Package omw-1.4 is already up-to-date!\n",
      "[nltk_data]    | Downloading package opinion_lexicon to\n",
      "[nltk_data]    |     C:\\Users\\Kritika\\AppData\\Roaming\\nltk_data...\n",
      "[nltk_data]    |   Package opinion_lexicon is already up-to-date!\n",
      "[nltk_data]    | Downloading package panlex_swadesh to\n",
      "[nltk_data]    |     C:\\Users\\Kritika\\AppData\\Roaming\\nltk_data...\n",
      "[nltk_data]    |   Package panlex_swadesh is already up-to-date!\n",
      "[nltk_data]    | Downloading package paradigms to\n",
      "[nltk_data]    |     C:\\Users\\Kritika\\AppData\\Roaming\\nltk_data...\n",
      "[nltk_data]    |   Package paradigms is already up-to-date!\n",
      "[nltk_data]    | Downloading package pe08 to\n",
      "[nltk_data]    |     C:\\Users\\Kritika\\AppData\\Roaming\\nltk_data...\n",
      "[nltk_data]    |   Package pe08 is already up-to-date!\n",
      "[nltk_data]    | Downloading package perluniprops to\n",
      "[nltk_data]    |     C:\\Users\\Kritika\\AppData\\Roaming\\nltk_data...\n",
      "[nltk_data]    |   Unzipping misc\\perluniprops.zip.\n",
      "[nltk_data]    | Downloading package pil to\n",
      "[nltk_data]    |     C:\\Users\\Kritika\\AppData\\Roaming\\nltk_data...\n",
      "[nltk_data]    |   Package pil is already up-to-date!\n",
      "[nltk_data]    | Downloading package pl196x to\n",
      "[nltk_data]    |     C:\\Users\\Kritika\\AppData\\Roaming\\nltk_data...\n",
      "[nltk_data]    |   Package pl196x is already up-to-date!\n",
      "[nltk_data]    | Downloading package porter_test to\n",
      "[nltk_data]    |     C:\\Users\\Kritika\\AppData\\Roaming\\nltk_data...\n",
      "[nltk_data]    |   Unzipping stemmers\\porter_test.zip.\n",
      "[nltk_data]    | Downloading package ppattach to\n",
      "[nltk_data]    |     C:\\Users\\Kritika\\AppData\\Roaming\\nltk_data...\n",
      "[nltk_data]    |   Package ppattach is already up-to-date!\n",
      "[nltk_data]    | Downloading package problem_reports to\n",
      "[nltk_data]    |     C:\\Users\\Kritika\\AppData\\Roaming\\nltk_data...\n",
      "[nltk_data]    |   Package problem_reports is already up-to-date!\n",
      "[nltk_data]    | Downloading package product_reviews_1 to\n",
      "[nltk_data]    |     C:\\Users\\Kritika\\AppData\\Roaming\\nltk_data...\n",
      "[nltk_data]    |   Package product_reviews_1 is already up-to-date!\n",
      "[nltk_data]    | Downloading package product_reviews_2 to\n",
      "[nltk_data]    |     C:\\Users\\Kritika\\AppData\\Roaming\\nltk_data...\n",
      "[nltk_data]    |   Package product_reviews_2 is already up-to-date!\n",
      "[nltk_data]    | Downloading package propbank to\n",
      "[nltk_data]    |     C:\\Users\\Kritika\\AppData\\Roaming\\nltk_data...\n",
      "[nltk_data]    |   Package propbank is already up-to-date!\n",
      "[nltk_data]    | Downloading package pros_cons to\n",
      "[nltk_data]    |     C:\\Users\\Kritika\\AppData\\Roaming\\nltk_data...\n",
      "[nltk_data]    |   Package pros_cons is already up-to-date!\n",
      "[nltk_data]    | Downloading package ptb to\n",
      "[nltk_data]    |     C:\\Users\\Kritika\\AppData\\Roaming\\nltk_data...\n",
      "[nltk_data]    |   Package ptb is already up-to-date!\n",
      "[nltk_data]    | Downloading package punkt to\n",
      "[nltk_data]    |     C:\\Users\\Kritika\\AppData\\Roaming\\nltk_data...\n",
      "[nltk_data]    |   Package punkt is already up-to-date!\n",
      "[nltk_data]    | Downloading package qc to\n",
      "[nltk_data]    |     C:\\Users\\Kritika\\AppData\\Roaming\\nltk_data...\n",
      "[nltk_data]    |   Package qc is already up-to-date!\n",
      "[nltk_data]    | Downloading package reuters to\n",
      "[nltk_data]    |     C:\\Users\\Kritika\\AppData\\Roaming\\nltk_data...\n",
      "[nltk_data]    |   Package reuters is already up-to-date!\n",
      "[nltk_data]    | Downloading package rslp to\n",
      "[nltk_data]    |     C:\\Users\\Kritika\\AppData\\Roaming\\nltk_data...\n",
      "[nltk_data]    |   Unzipping stemmers\\rslp.zip.\n",
      "[nltk_data]    | Downloading package rte to\n",
      "[nltk_data]    |     C:\\Users\\Kritika\\AppData\\Roaming\\nltk_data...\n",
      "[nltk_data]    |   Package rte is already up-to-date!\n",
      "[nltk_data]    | Downloading package sample_grammars to\n",
      "[nltk_data]    |     C:\\Users\\Kritika\\AppData\\Roaming\\nltk_data...\n",
      "[nltk_data]    |   Unzipping grammars\\sample_grammars.zip.\n",
      "[nltk_data]    | Downloading package semcor to\n",
      "[nltk_data]    |     C:\\Users\\Kritika\\AppData\\Roaming\\nltk_data...\n",
      "[nltk_data]    | Downloading package senseval to\n",
      "[nltk_data]    |     C:\\Users\\Kritika\\AppData\\Roaming\\nltk_data...\n",
      "[nltk_data]    |   Unzipping corpora\\senseval.zip.\n",
      "[nltk_data]    | Downloading package sentence_polarity to\n",
      "[nltk_data]    |     C:\\Users\\Kritika\\AppData\\Roaming\\nltk_data...\n",
      "[nltk_data]    |   Unzipping corpora\\sentence_polarity.zip.\n",
      "[nltk_data]    | Downloading package sentiwordnet to\n",
      "[nltk_data]    |     C:\\Users\\Kritika\\AppData\\Roaming\\nltk_data...\n",
      "[nltk_data]    |   Unzipping corpora\\sentiwordnet.zip.\n",
      "[nltk_data]    | Downloading package shakespeare to\n",
      "[nltk_data]    |     C:\\Users\\Kritika\\AppData\\Roaming\\nltk_data...\n",
      "[nltk_data]    |   Package shakespeare is already up-to-date!\n",
      "[nltk_data]    | Downloading package sinica_treebank to\n",
      "[nltk_data]    |     C:\\Users\\Kritika\\AppData\\Roaming\\nltk_data...\n",
      "[nltk_data]    |   Unzipping corpora\\sinica_treebank.zip.\n",
      "[nltk_data]    | Downloading package smultron to\n",
      "[nltk_data]    |     C:\\Users\\Kritika\\AppData\\Roaming\\nltk_data...\n",
      "[nltk_data]    |   Unzipping corpora\\smultron.zip.\n",
      "[nltk_data]    | Downloading package snowball_data to\n",
      "[nltk_data]    |     C:\\Users\\Kritika\\AppData\\Roaming\\nltk_data...\n",
      "[nltk_data]    |   Package snowball_data is already up-to-date!\n",
      "[nltk_data]    | Downloading package spanish_grammars to\n",
      "[nltk_data]    |     C:\\Users\\Kritika\\AppData\\Roaming\\nltk_data...\n",
      "[nltk_data]    |   Unzipping grammars\\spanish_grammars.zip.\n",
      "[nltk_data]    | Downloading package state_union to\n",
      "[nltk_data]    |     C:\\Users\\Kritika\\AppData\\Roaming\\nltk_data...\n",
      "[nltk_data]    |   Unzipping corpora\\state_union.zip.\n",
      "[nltk_data]    | Downloading package stopwords to\n",
      "[nltk_data]    |     C:\\Users\\Kritika\\AppData\\Roaming\\nltk_data...\n",
      "[nltk_data]    |   Package stopwords is already up-to-date!\n",
      "[nltk_data]    | Downloading package subjectivity to\n",
      "[nltk_data]    |     C:\\Users\\Kritika\\AppData\\Roaming\\nltk_data...\n",
      "[nltk_data]    |   Unzipping corpora\\subjectivity.zip.\n",
      "[nltk_data]    | Downloading package swadesh to\n",
      "[nltk_data]    |     C:\\Users\\Kritika\\AppData\\Roaming\\nltk_data...\n",
      "[nltk_data]    |   Unzipping corpora\\swadesh.zip.\n",
      "[nltk_data]    | Downloading package switchboard to\n",
      "[nltk_data]    |     C:\\Users\\Kritika\\AppData\\Roaming\\nltk_data...\n",
      "[nltk_data]    |   Unzipping corpora\\switchboard.zip.\n",
      "[nltk_data]    | Downloading package tagsets to\n",
      "[nltk_data]    |     C:\\Users\\Kritika\\AppData\\Roaming\\nltk_data...\n",
      "[nltk_data]    |   Unzipping help\\tagsets.zip.\n",
      "[nltk_data]    | Downloading package timit to\n",
      "[nltk_data]    |     C:\\Users\\Kritika\\AppData\\Roaming\\nltk_data...\n",
      "[nltk_data]    |   Unzipping corpora\\timit.zip.\n",
      "[nltk_data]    | Downloading package toolbox to\n",
      "[nltk_data]    |     C:\\Users\\Kritika\\AppData\\Roaming\\nltk_data...\n",
      "[nltk_data]    |   Unzipping corpora\\toolbox.zip.\n",
      "[nltk_data]    | Downloading package treebank to\n",
      "[nltk_data]    |     C:\\Users\\Kritika\\AppData\\Roaming\\nltk_data...\n",
      "[nltk_data]    |   Package treebank is already up-to-date!\n",
      "[nltk_data]    | Downloading package twitter_samples to\n",
      "[nltk_data]    |     C:\\Users\\Kritika\\AppData\\Roaming\\nltk_data...\n",
      "[nltk_data]    |   Package twitter_samples is already up-to-date!\n",
      "[nltk_data]    | Downloading package udhr to\n",
      "[nltk_data]    |     C:\\Users\\Kritika\\AppData\\Roaming\\nltk_data...\n",
      "[nltk_data]    |   Unzipping corpora\\udhr.zip.\n",
      "[nltk_data]    | Downloading package udhr2 to\n",
      "[nltk_data]    |     C:\\Users\\Kritika\\AppData\\Roaming\\nltk_data...\n",
      "[nltk_data]    |   Unzipping corpora\\udhr2.zip.\n",
      "[nltk_data]    | Downloading package unicode_samples to\n",
      "[nltk_data]    |     C:\\Users\\Kritika\\AppData\\Roaming\\nltk_data...\n",
      "[nltk_data]    |   Unzipping corpora\\unicode_samples.zip.\n",
      "[nltk_data]    | Downloading package universal_tagset to\n",
      "[nltk_data]    |     C:\\Users\\Kritika\\AppData\\Roaming\\nltk_data...\n",
      "[nltk_data]    |   Unzipping taggers\\universal_tagset.zip.\n",
      "[nltk_data]    | Downloading package universal_treebanks_v20 to\n",
      "[nltk_data]    |     C:\\Users\\Kritika\\AppData\\Roaming\\nltk_data...\n",
      "[nltk_data]    | Downloading package vader_lexicon to\n",
      "[nltk_data]    |     C:\\Users\\Kritika\\AppData\\Roaming\\nltk_data...\n",
      "[nltk_data]    | Downloading package verbnet to\n",
      "[nltk_data]    |     C:\\Users\\Kritika\\AppData\\Roaming\\nltk_data...\n",
      "[nltk_data]    |   Unzipping corpora\\verbnet.zip.\n",
      "[nltk_data]    | Downloading package verbnet3 to\n",
      "[nltk_data]    |     C:\\Users\\Kritika\\AppData\\Roaming\\nltk_data...\n",
      "[nltk_data]    |   Unzipping corpora\\verbnet3.zip.\n",
      "[nltk_data]    | Downloading package webtext to\n",
      "[nltk_data]    |     C:\\Users\\Kritika\\AppData\\Roaming\\nltk_data...\n",
      "[nltk_data]    |   Unzipping corpora\\webtext.zip.\n",
      "[nltk_data]    | Downloading package wmt15_eval to\n",
      "[nltk_data]    |     C:\\Users\\Kritika\\AppData\\Roaming\\nltk_data...\n",
      "[nltk_data]    |   Unzipping models\\wmt15_eval.zip.\n",
      "[nltk_data]    | Downloading package word2vec_sample to\n",
      "[nltk_data]    |     C:\\Users\\Kritika\\AppData\\Roaming\\nltk_data...\n",
      "[nltk_data]    |   Unzipping models\\word2vec_sample.zip.\n",
      "[nltk_data]    | Downloading package wordnet to\n",
      "[nltk_data]    |     C:\\Users\\Kritika\\AppData\\Roaming\\nltk_data...\n",
      "[nltk_data]    |   Package wordnet is already up-to-date!\n",
      "[nltk_data]    | Downloading package wordnet2021 to\n",
      "[nltk_data]    |     C:\\Users\\Kritika\\AppData\\Roaming\\nltk_data...\n",
      "[nltk_data]    |   Package wordnet2021 is already up-to-date!\n",
      "[nltk_data]    | Downloading package wordnet2022 to\n",
      "[nltk_data]    |     C:\\Users\\Kritika\\AppData\\Roaming\\nltk_data...\n",
      "[nltk_data]    |   Unzipping corpora\\wordnet2022.zip.\n",
      "[nltk_data]    | Downloading package wordnet31 to\n",
      "[nltk_data]    |     C:\\Users\\Kritika\\AppData\\Roaming\\nltk_data...\n",
      "[nltk_data]    |   Package wordnet31 is already up-to-date!\n",
      "[nltk_data]    | Downloading package wordnet_ic to\n",
      "[nltk_data]    |     C:\\Users\\Kritika\\AppData\\Roaming\\nltk_data...\n",
      "[nltk_data]    |   Package wordnet_ic is already up-to-date!\n",
      "[nltk_data]    | Downloading package words to\n",
      "[nltk_data]    |     C:\\Users\\Kritika\\AppData\\Roaming\\nltk_data...\n",
      "[nltk_data]    |   Package words is already up-to-date!\n",
      "[nltk_data]    | Downloading package ycoe to\n",
      "[nltk_data]    |     C:\\Users\\Kritika\\AppData\\Roaming\\nltk_data...\n",
      "[nltk_data]    |   Unzipping corpora\\ycoe.zip.\n",
      "[nltk_data]    | \n",
      "[nltk_data]  Done downloading collection all\n"
     ]
    },
    {
     "data": {
      "text/plain": [
       "True"
      ]
     },
     "execution_count": 76,
     "metadata": {},
     "output_type": "execute_result"
    }
   ],
   "source": [
    "nltk.download(\"all\")"
   ]
  },
  {
   "cell_type": "markdown",
   "id": "dab5ef46-ce0b-40ec-8fb4-a7913266bfcf",
   "metadata": {},
   "source": [
    "### Natural Language Tool Kit-->used for text processing"
   ]
  },
  {
   "cell_type": "code",
   "execution_count": 3,
   "id": "ec2d6619-7f83-45be-9c34-d86a694f5eed",
   "metadata": {},
   "outputs": [],
   "source": [
    "from nltk.tokenize import word_tokenize"
   ]
  },
  {
   "cell_type": "code",
   "execution_count": 4,
   "id": "21a7b158-465a-4b17-bc9f-a9bd8a9780ee",
   "metadata": {},
   "outputs": [],
   "source": [
    "text = \"NLTK is a leading platform for building python programs to work with human language data.\""
   ]
  },
  {
   "cell_type": "code",
   "execution_count": 5,
   "id": "c578db93-3a0d-4200-9844-62521ccb67a7",
   "metadata": {},
   "outputs": [],
   "source": [
    "tokens = word_tokenize(text)"
   ]
  },
  {
   "cell_type": "code",
   "execution_count": 6,
   "id": "a913fb26-af7d-4475-ae02-42c84d9164f5",
   "metadata": {},
   "outputs": [
    {
     "data": {
      "text/plain": [
       "['NLTK',\n",
       " 'is',\n",
       " 'a',\n",
       " 'leading',\n",
       " 'platform',\n",
       " 'for',\n",
       " 'building',\n",
       " 'python',\n",
       " 'programs',\n",
       " 'to',\n",
       " 'work',\n",
       " 'with',\n",
       " 'human',\n",
       " 'language',\n",
       " 'data',\n",
       " '.']"
      ]
     },
     "execution_count": 6,
     "metadata": {},
     "output_type": "execute_result"
    }
   ],
   "source": [
    "tokens"
   ]
  },
  {
   "cell_type": "code",
   "execution_count": 7,
   "id": "54a7709b-d286-4fc5-b93b-a991f37bc7ba",
   "metadata": {},
   "outputs": [],
   "source": [
    "text2 = \"mc'donald it's its doesn't\""
   ]
  },
  {
   "cell_type": "code",
   "execution_count": 8,
   "id": "3de649d2-0b16-4330-8cf0-94c220fbdae1",
   "metadata": {},
   "outputs": [
    {
     "data": {
      "text/plain": [
       "[\"mc'donald\", 'it', \"'s\", 'its', 'does', \"n't\"]"
      ]
     },
     "execution_count": 8,
     "metadata": {},
     "output_type": "execute_result"
    }
   ],
   "source": [
    " word_tokenize(text2)\n",
    "#It separates meaningful word"
   ]
  },
  {
   "cell_type": "code",
   "execution_count": 9,
   "id": "6fa69c93-9bd1-45ce-aac3-9df0731971c3",
   "metadata": {},
   "outputs": [],
   "source": [
    "essay = \"Python is an interpreted, object-oriented, high-level programming language with dynamic semantics. Its high-level built in data structures, combined with dynamic typing and dynamic binding, make it very attractive for Rapid Application Development, as well as for use as a scripting or glue language to connect existing components together. Python's simple, easy to learn syntax emphasizes readability and therefore reduces the cost of program maintenance. Python supports modules and packages, which encourages program modularity and code reuse. The Python interpreter and the extensive standard library are available in source or binary form without charge for all major platforms, and can be freely distributed.\""
   ]
  },
  {
   "cell_type": "code",
   "execution_count": 10,
   "id": "143eeace-2016-4b8e-9845-68a4dba4de87",
   "metadata": {},
   "outputs": [],
   "source": [
    "from nltk.tokenize import sent_tokenize\n",
    "# sent--> sentence "
   ]
  },
  {
   "cell_type": "code",
   "execution_count": 11,
   "id": "6dd3908c-d53f-4f63-868b-4e01a71d7af0",
   "metadata": {},
   "outputs": [],
   "source": [
    "sent_tokens = sent_tokenize(essay)"
   ]
  },
  {
   "cell_type": "code",
   "execution_count": 12,
   "id": "f57f4b99-fa32-47e9-bf24-d877de8833d3",
   "metadata": {},
   "outputs": [
    {
     "name": "stdout",
     "output_type": "stream",
     "text": [
      "Sent 1 ==> Python is an interpreted, object-oriented, high-level programming language with dynamic semantics.\n",
      "Sent 2 ==> Its high-level built in data structures, combined with dynamic typing and dynamic binding, make it very attractive for Rapid Application Development, as well as for use as a scripting or glue language to connect existing components together.\n",
      "Sent 3 ==> Python's simple, easy to learn syntax emphasizes readability and therefore reduces the cost of program maintenance.\n",
      "Sent 4 ==> Python supports modules and packages, which encourages program modularity and code reuse.\n",
      "Sent 5 ==> The Python interpreter and the extensive standard library are available in source or binary form without charge for all major platforms, and can be freely distributed.\n"
     ]
    }
   ],
   "source": [
    "count = 1\n",
    "for i in sent_tokens:\n",
    "    print(f\"Sent {count} ==>\",i)\n",
    "    count += 1"
   ]
  },
  {
   "cell_type": "code",
   "execution_count": 13,
   "id": "bf7172d0-8ff4-4353-976e-d99d8d46483c",
   "metadata": {},
   "outputs": [
    {
     "data": {
      "text/plain": [
       "['Python is an interpreted, object-oriented, high-level programming language with dynamic semantics.',\n",
       " 'Its high-level built in data structures, combined with dynamic typing and dynamic binding, make it very attractive for Rapid Application Development, as well as for use as a scripting or glue language to connect existing components together.',\n",
       " \"Python's simple, easy to learn syntax emphasizes readability and therefore reduces the cost of program maintenance.\",\n",
       " 'Python supports modules and packages, which encourages program modularity and code reuse.',\n",
       " 'The Python interpreter and the extensive standard library are available in source or binary form without charge for all major platforms, and can be freely distributed.']"
      ]
     },
     "execution_count": 13,
     "metadata": {},
     "output_type": "execute_result"
    }
   ],
   "source": [
    "sent_tokens"
   ]
  },
  {
   "cell_type": "code",
   "execution_count": 14,
   "id": "1df99181-a88b-4bbc-9c28-fab3f247f2b3",
   "metadata": {},
   "outputs": [],
   "source": [
    "word_tokens = word_tokenize(essay)"
   ]
  },
  {
   "cell_type": "code",
   "execution_count": 15,
   "id": "33e808c6-e595-41dc-8e8f-9848c3c4d540",
   "metadata": {},
   "outputs": [
    {
     "data": {
      "text/plain": [
       "['Python',\n",
       " 'is',\n",
       " 'an',\n",
       " 'interpreted',\n",
       " ',',\n",
       " 'object-oriented',\n",
       " ',',\n",
       " 'high-level',\n",
       " 'programming',\n",
       " 'language',\n",
       " 'with',\n",
       " 'dynamic',\n",
       " 'semantics',\n",
       " '.',\n",
       " 'Its',\n",
       " 'high-level',\n",
       " 'built',\n",
       " 'in',\n",
       " 'data',\n",
       " 'structures',\n",
       " ',',\n",
       " 'combined',\n",
       " 'with',\n",
       " 'dynamic',\n",
       " 'typing',\n",
       " 'and',\n",
       " 'dynamic',\n",
       " 'binding',\n",
       " ',',\n",
       " 'make',\n",
       " 'it',\n",
       " 'very',\n",
       " 'attractive',\n",
       " 'for',\n",
       " 'Rapid',\n",
       " 'Application',\n",
       " 'Development',\n",
       " ',',\n",
       " 'as',\n",
       " 'well',\n",
       " 'as',\n",
       " 'for',\n",
       " 'use',\n",
       " 'as',\n",
       " 'a',\n",
       " 'scripting',\n",
       " 'or',\n",
       " 'glue',\n",
       " 'language',\n",
       " 'to',\n",
       " 'connect',\n",
       " 'existing',\n",
       " 'components',\n",
       " 'together',\n",
       " '.',\n",
       " 'Python',\n",
       " \"'s\",\n",
       " 'simple',\n",
       " ',',\n",
       " 'easy',\n",
       " 'to',\n",
       " 'learn',\n",
       " 'syntax',\n",
       " 'emphasizes',\n",
       " 'readability',\n",
       " 'and',\n",
       " 'therefore',\n",
       " 'reduces',\n",
       " 'the',\n",
       " 'cost',\n",
       " 'of',\n",
       " 'program',\n",
       " 'maintenance',\n",
       " '.',\n",
       " 'Python',\n",
       " 'supports',\n",
       " 'modules',\n",
       " 'and',\n",
       " 'packages',\n",
       " ',',\n",
       " 'which',\n",
       " 'encourages',\n",
       " 'program',\n",
       " 'modularity',\n",
       " 'and',\n",
       " 'code',\n",
       " 'reuse',\n",
       " '.',\n",
       " 'The',\n",
       " 'Python',\n",
       " 'interpreter',\n",
       " 'and',\n",
       " 'the',\n",
       " 'extensive',\n",
       " 'standard',\n",
       " 'library',\n",
       " 'are',\n",
       " 'available',\n",
       " 'in',\n",
       " 'source',\n",
       " 'or',\n",
       " 'binary',\n",
       " 'form',\n",
       " 'without',\n",
       " 'charge',\n",
       " 'for',\n",
       " 'all',\n",
       " 'major',\n",
       " 'platforms',\n",
       " ',',\n",
       " 'and',\n",
       " 'can',\n",
       " 'be',\n",
       " 'freely',\n",
       " 'distributed',\n",
       " '.']"
      ]
     },
     "execution_count": 15,
     "metadata": {},
     "output_type": "execute_result"
    }
   ],
   "source": [
    "word_tokens"
   ]
  },
  {
   "cell_type": "code",
   "execution_count": 16,
   "id": "bcae068d-a57b-441e-9344-9b947e20acaa",
   "metadata": {},
   "outputs": [],
   "source": [
    "from nltk.corpus import stopwords"
   ]
  },
  {
   "cell_type": "code",
   "execution_count": 17,
   "id": "b23a3c3b-8062-4fc8-91f5-41c23d5c9146",
   "metadata": {},
   "outputs": [],
   "source": [
    "stop_word = set(stopwords.words(\"english\"))"
   ]
  },
  {
   "cell_type": "code",
   "execution_count": 19,
   "id": "144737fa-6a95-46bd-bebf-2aa38e552b3b",
   "metadata": {},
   "outputs": [
    {
     "data": {
      "text/plain": [
       "{'a',\n",
       " 'about',\n",
       " 'above',\n",
       " 'after',\n",
       " 'again',\n",
       " 'against',\n",
       " 'ain',\n",
       " 'all',\n",
       " 'am',\n",
       " 'an',\n",
       " 'and',\n",
       " 'any',\n",
       " 'are',\n",
       " 'aren',\n",
       " \"aren't\",\n",
       " 'as',\n",
       " 'at',\n",
       " 'be',\n",
       " 'because',\n",
       " 'been',\n",
       " 'before',\n",
       " 'being',\n",
       " 'below',\n",
       " 'between',\n",
       " 'both',\n",
       " 'but',\n",
       " 'by',\n",
       " 'can',\n",
       " 'couldn',\n",
       " \"couldn't\",\n",
       " 'd',\n",
       " 'did',\n",
       " 'didn',\n",
       " \"didn't\",\n",
       " 'do',\n",
       " 'does',\n",
       " 'doesn',\n",
       " \"doesn't\",\n",
       " 'doing',\n",
       " 'don',\n",
       " \"don't\",\n",
       " 'down',\n",
       " 'during',\n",
       " 'each',\n",
       " 'few',\n",
       " 'for',\n",
       " 'from',\n",
       " 'further',\n",
       " 'had',\n",
       " 'hadn',\n",
       " \"hadn't\",\n",
       " 'has',\n",
       " 'hasn',\n",
       " \"hasn't\",\n",
       " 'have',\n",
       " 'haven',\n",
       " \"haven't\",\n",
       " 'having',\n",
       " 'he',\n",
       " 'her',\n",
       " 'here',\n",
       " 'hers',\n",
       " 'herself',\n",
       " 'him',\n",
       " 'himself',\n",
       " 'his',\n",
       " 'how',\n",
       " 'i',\n",
       " 'if',\n",
       " 'in',\n",
       " 'into',\n",
       " 'is',\n",
       " 'isn',\n",
       " \"isn't\",\n",
       " 'it',\n",
       " \"it's\",\n",
       " 'its',\n",
       " 'itself',\n",
       " 'just',\n",
       " 'll',\n",
       " 'm',\n",
       " 'ma',\n",
       " 'me',\n",
       " 'mightn',\n",
       " \"mightn't\",\n",
       " 'more',\n",
       " 'most',\n",
       " 'mustn',\n",
       " \"mustn't\",\n",
       " 'my',\n",
       " 'myself',\n",
       " 'needn',\n",
       " \"needn't\",\n",
       " 'no',\n",
       " 'nor',\n",
       " 'not',\n",
       " 'now',\n",
       " 'o',\n",
       " 'of',\n",
       " 'off',\n",
       " 'on',\n",
       " 'once',\n",
       " 'only',\n",
       " 'or',\n",
       " 'other',\n",
       " 'our',\n",
       " 'ours',\n",
       " 'ourselves',\n",
       " 'out',\n",
       " 'over',\n",
       " 'own',\n",
       " 're',\n",
       " 's',\n",
       " 'same',\n",
       " 'shan',\n",
       " \"shan't\",\n",
       " 'she',\n",
       " \"she's\",\n",
       " 'should',\n",
       " \"should've\",\n",
       " 'shouldn',\n",
       " \"shouldn't\",\n",
       " 'so',\n",
       " 'some',\n",
       " 'such',\n",
       " 't',\n",
       " 'than',\n",
       " 'that',\n",
       " \"that'll\",\n",
       " 'the',\n",
       " 'their',\n",
       " 'theirs',\n",
       " 'them',\n",
       " 'themselves',\n",
       " 'then',\n",
       " 'there',\n",
       " 'these',\n",
       " 'they',\n",
       " 'this',\n",
       " 'those',\n",
       " 'through',\n",
       " 'to',\n",
       " 'too',\n",
       " 'under',\n",
       " 'until',\n",
       " 'up',\n",
       " 've',\n",
       " 'very',\n",
       " 'was',\n",
       " 'wasn',\n",
       " \"wasn't\",\n",
       " 'we',\n",
       " 'were',\n",
       " 'weren',\n",
       " \"weren't\",\n",
       " 'what',\n",
       " 'when',\n",
       " 'where',\n",
       " 'which',\n",
       " 'while',\n",
       " 'who',\n",
       " 'whom',\n",
       " 'why',\n",
       " 'will',\n",
       " 'with',\n",
       " 'won',\n",
       " \"won't\",\n",
       " 'wouldn',\n",
       " \"wouldn't\",\n",
       " 'y',\n",
       " 'you',\n",
       " \"you'd\",\n",
       " \"you'll\",\n",
       " \"you're\",\n",
       " \"you've\",\n",
       " 'your',\n",
       " 'yours',\n",
       " 'yourself',\n",
       " 'yourselves'}"
      ]
     },
     "execution_count": 19,
     "metadata": {},
     "output_type": "execute_result"
    }
   ],
   "source": [
    "stop_word"
   ]
  },
  {
   "cell_type": "code",
   "execution_count": null,
   "id": "2a85aacd-4598-4ce5-a438-c54a0a202fb1",
   "metadata": {},
   "outputs": [],
   "source": [
    "filtered_text = [word for word in word_tokens if word.lower() not in stop_word]"
   ]
  },
  {
   "cell_type": "code",
   "execution_count": 20,
   "id": "0692a27a-a69f-426f-a071-fcd29a24a4a1",
   "metadata": {
    "scrolled": true
   },
   "outputs": [
    {
     "data": {
      "text/plain": [
       "['Python',\n",
       " 'interpreted',\n",
       " ',',\n",
       " 'object-oriented',\n",
       " ',',\n",
       " 'high-level',\n",
       " 'programming',\n",
       " 'language',\n",
       " 'dynamic',\n",
       " 'semantics',\n",
       " '.',\n",
       " 'high-level',\n",
       " 'built',\n",
       " 'data',\n",
       " 'structures',\n",
       " ',',\n",
       " 'combined',\n",
       " 'dynamic',\n",
       " 'typing',\n",
       " 'dynamic',\n",
       " 'binding',\n",
       " ',',\n",
       " 'make',\n",
       " 'attractive',\n",
       " 'Rapid',\n",
       " 'Application',\n",
       " 'Development',\n",
       " ',',\n",
       " 'well',\n",
       " 'use',\n",
       " 'scripting',\n",
       " 'glue',\n",
       " 'language',\n",
       " 'connect',\n",
       " 'existing',\n",
       " 'components',\n",
       " 'together',\n",
       " '.',\n",
       " 'Python',\n",
       " \"'s\",\n",
       " 'simple',\n",
       " ',',\n",
       " 'easy',\n",
       " 'learn',\n",
       " 'syntax',\n",
       " 'emphasizes',\n",
       " 'readability',\n",
       " 'therefore',\n",
       " 'reduces',\n",
       " 'cost',\n",
       " 'program',\n",
       " 'maintenance',\n",
       " '.',\n",
       " 'Python',\n",
       " 'supports',\n",
       " 'modules',\n",
       " 'packages',\n",
       " ',',\n",
       " 'encourages',\n",
       " 'program',\n",
       " 'modularity',\n",
       " 'code',\n",
       " 'reuse',\n",
       " '.',\n",
       " 'Python',\n",
       " 'interpreter',\n",
       " 'extensive',\n",
       " 'standard',\n",
       " 'library',\n",
       " 'available',\n",
       " 'source',\n",
       " 'binary',\n",
       " 'form',\n",
       " 'without',\n",
       " 'charge',\n",
       " 'major',\n",
       " 'platforms',\n",
       " ',',\n",
       " 'freely',\n",
       " 'distributed',\n",
       " '.']"
      ]
     },
     "execution_count": 20,
     "metadata": {},
     "output_type": "execute_result"
    }
   ],
   "source": [
    "filtered_text"
   ]
  },
  {
   "cell_type": "code",
   "execution_count": 21,
   "id": "7fed6748-2fa9-4100-bd6b-e7dd4090b7ef",
   "metadata": {},
   "outputs": [
    {
     "data": {
      "text/plain": [
       "116"
      ]
     },
     "execution_count": 21,
     "metadata": {},
     "output_type": "execute_result"
    }
   ],
   "source": [
    "len(word_tokens)"
   ]
  },
  {
   "cell_type": "code",
   "execution_count": 22,
   "id": "39600fd9-c146-42f8-b608-8380904b6951",
   "metadata": {},
   "outputs": [
    {
     "data": {
      "text/plain": [
       "81"
      ]
     },
     "execution_count": 22,
     "metadata": {},
     "output_type": "execute_result"
    }
   ],
   "source": [
    "len(filtered_text)"
   ]
  },
  {
   "cell_type": "code",
   "execution_count": 23,
   "id": "f9205b45-3c08-4313-8859-363c62767e8c",
   "metadata": {},
   "outputs": [],
   "source": [
    "# Coverting to root word\n",
    "#PorterStemmer --> this doesn't give correct ans but this is fast.\n",
    "#It removes the last character like \"ed\",\"es\" even it doesnot have meaning.\n",
    "from nltk.stem import PorterStemmer"
   ]
  },
  {
   "cell_type": "code",
   "execution_count": 24,
   "id": "855b2b74-9f82-4d2d-a5d4-f574ddd7d9b6",
   "metadata": {},
   "outputs": [],
   "source": [
    "stemmer = PorterStemmer()"
   ]
  },
  {
   "cell_type": "code",
   "execution_count": 25,
   "id": "ac9e1396-a3ef-4e87-adda-057792747a63",
   "metadata": {},
   "outputs": [],
   "source": [
    "stemmer_words = [stemmer.stem(word) for word in filtered_text]"
   ]
  },
  {
   "cell_type": "code",
   "execution_count": 26,
   "id": "e823e7e0-ecf4-4c32-acfa-f10f7846393d",
   "metadata": {
    "scrolled": true
   },
   "outputs": [
    {
     "data": {
      "text/plain": [
       "['python',\n",
       " 'interpret',\n",
       " ',',\n",
       " 'object-ori',\n",
       " ',',\n",
       " 'high-level',\n",
       " 'program',\n",
       " 'languag',\n",
       " 'dynam',\n",
       " 'semant',\n",
       " '.',\n",
       " 'high-level',\n",
       " 'built',\n",
       " 'data',\n",
       " 'structur',\n",
       " ',',\n",
       " 'combin',\n",
       " 'dynam',\n",
       " 'type',\n",
       " 'dynam',\n",
       " 'bind',\n",
       " ',',\n",
       " 'make',\n",
       " 'attract',\n",
       " 'rapid',\n",
       " 'applic',\n",
       " 'develop',\n",
       " ',',\n",
       " 'well',\n",
       " 'use',\n",
       " 'script',\n",
       " 'glue',\n",
       " 'languag',\n",
       " 'connect',\n",
       " 'exist',\n",
       " 'compon',\n",
       " 'togeth',\n",
       " '.',\n",
       " 'python',\n",
       " \"'s\",\n",
       " 'simpl',\n",
       " ',',\n",
       " 'easi',\n",
       " 'learn',\n",
       " 'syntax',\n",
       " 'emphas',\n",
       " 'readabl',\n",
       " 'therefor',\n",
       " 'reduc',\n",
       " 'cost',\n",
       " 'program',\n",
       " 'mainten',\n",
       " '.',\n",
       " 'python',\n",
       " 'support',\n",
       " 'modul',\n",
       " 'packag',\n",
       " ',',\n",
       " 'encourag',\n",
       " 'program',\n",
       " 'modular',\n",
       " 'code',\n",
       " 'reus',\n",
       " '.',\n",
       " 'python',\n",
       " 'interpret',\n",
       " 'extens',\n",
       " 'standard',\n",
       " 'librari',\n",
       " 'avail',\n",
       " 'sourc',\n",
       " 'binari',\n",
       " 'form',\n",
       " 'without',\n",
       " 'charg',\n",
       " 'major',\n",
       " 'platform',\n",
       " ',',\n",
       " 'freeli',\n",
       " 'distribut',\n",
       " '.']"
      ]
     },
     "execution_count": 26,
     "metadata": {},
     "output_type": "execute_result"
    }
   ],
   "source": [
    "stemmer_words"
   ]
  },
  {
   "cell_type": "code",
   "execution_count": 27,
   "id": "9859c579-b357-4e56-a681-d2adbe0053e2",
   "metadata": {},
   "outputs": [],
   "source": [
    "# Coverting to root word\n",
    "from nltk.stem import WordNetLemmatizer"
   ]
  },
  {
   "cell_type": "code",
   "execution_count": 28,
   "id": "6377a0c7-21f9-466e-a9ef-7dd4f5b48b41",
   "metadata": {},
   "outputs": [],
   "source": [
    "lemma = WordNetLemmatizer()"
   ]
  },
  {
   "cell_type": "code",
   "execution_count": 32,
   "id": "dec84b80-c33f-4bbd-a5c3-18a6cd6ad5a8",
   "metadata": {},
   "outputs": [],
   "source": [
    "lemma_text = [lemma.lemmatize(word.lower()) for word in filtered_text]"
   ]
  },
  {
   "cell_type": "code",
   "execution_count": 33,
   "id": "207a4419-6446-4df8-bc57-86622b1cccae",
   "metadata": {
    "scrolled": true
   },
   "outputs": [
    {
     "data": {
      "text/plain": [
       "['python',\n",
       " 'interpreted',\n",
       " ',',\n",
       " 'object-oriented',\n",
       " ',',\n",
       " 'high-level',\n",
       " 'programming',\n",
       " 'language',\n",
       " 'dynamic',\n",
       " 'semantics',\n",
       " '.',\n",
       " 'high-level',\n",
       " 'built',\n",
       " 'data',\n",
       " 'structure',\n",
       " ',',\n",
       " 'combined',\n",
       " 'dynamic',\n",
       " 'typing',\n",
       " 'dynamic',\n",
       " 'binding',\n",
       " ',',\n",
       " 'make',\n",
       " 'attractive',\n",
       " 'rapid',\n",
       " 'application',\n",
       " 'development',\n",
       " ',',\n",
       " 'well',\n",
       " 'use',\n",
       " 'scripting',\n",
       " 'glue',\n",
       " 'language',\n",
       " 'connect',\n",
       " 'existing',\n",
       " 'component',\n",
       " 'together',\n",
       " '.',\n",
       " 'python',\n",
       " \"'s\",\n",
       " 'simple',\n",
       " ',',\n",
       " 'easy',\n",
       " 'learn',\n",
       " 'syntax',\n",
       " 'emphasizes',\n",
       " 'readability',\n",
       " 'therefore',\n",
       " 'reduces',\n",
       " 'cost',\n",
       " 'program',\n",
       " 'maintenance',\n",
       " '.',\n",
       " 'python',\n",
       " 'support',\n",
       " 'module',\n",
       " 'package',\n",
       " ',',\n",
       " 'encourages',\n",
       " 'program',\n",
       " 'modularity',\n",
       " 'code',\n",
       " 'reuse',\n",
       " '.',\n",
       " 'python',\n",
       " 'interpreter',\n",
       " 'extensive',\n",
       " 'standard',\n",
       " 'library',\n",
       " 'available',\n",
       " 'source',\n",
       " 'binary',\n",
       " 'form',\n",
       " 'without',\n",
       " 'charge',\n",
       " 'major',\n",
       " 'platform',\n",
       " ',',\n",
       " 'freely',\n",
       " 'distributed',\n",
       " '.']"
      ]
     },
     "execution_count": 33,
     "metadata": {},
     "output_type": "execute_result"
    }
   ],
   "source": [
    "lemma_text"
   ]
  },
  {
   "cell_type": "code",
   "execution_count": 34,
   "id": "79fdbbb6-7881-4e83-861e-8ac8ce0d66d8",
   "metadata": {},
   "outputs": [
    {
     "data": {
      "text/plain": [
       "['NLTK',\n",
       " 'is',\n",
       " 'a',\n",
       " 'leading',\n",
       " 'platform',\n",
       " 'for',\n",
       " 'building',\n",
       " 'python',\n",
       " 'program',\n",
       " 'to',\n",
       " 'work',\n",
       " 'with',\n",
       " 'human',\n",
       " 'language',\n",
       " 'data',\n",
       " '.']"
      ]
     },
     "execution_count": 34,
     "metadata": {},
     "output_type": "execute_result"
    }
   ],
   "source": [
    "[lemma.lemmatize(i) for i in tokens]"
   ]
  },
  {
   "cell_type": "code",
   "execution_count": 35,
   "id": "c1a26812-3efe-41a3-9466-ffe1778b1245",
   "metadata": {},
   "outputs": [
    {
     "data": {
      "text/plain": [
       "'story'"
      ]
     },
     "execution_count": 35,
     "metadata": {},
     "output_type": "execute_result"
    }
   ],
   "source": [
    "lemma.lemmatize(\"stories\")"
   ]
  },
  {
   "cell_type": "code",
   "execution_count": 36,
   "id": "bbc68f90-4a3c-454a-a268-e3850baa9359",
   "metadata": {},
   "outputs": [
    {
     "data": {
      "text/plain": [
       "'predicting'"
      ]
     },
     "execution_count": 36,
     "metadata": {},
     "output_type": "execute_result"
    }
   ],
   "source": [
    "lemma.lemmatize(\"predicting\")\n",
    "#this is only removing \"s\" not \"ing\""
   ]
  },
  {
   "cell_type": "code",
   "execution_count": 37,
   "id": "01b94892-787e-4a03-a81e-601f0b3bee78",
   "metadata": {},
   "outputs": [],
   "source": [
    "from nltk import pos_tag"
   ]
  },
  {
   "cell_type": "code",
   "execution_count": 38,
   "id": "29d2a6a4-726f-44e0-b7bf-e7336be3ab89",
   "metadata": {},
   "outputs": [],
   "source": [
    "pos_tags = pos_tag(filtered_text)"
   ]
  },
  {
   "cell_type": "code",
   "execution_count": 40,
   "id": "23dbaa89-6cc5-407d-8aea-5b28d6255cd6",
   "metadata": {
    "scrolled": true
   },
   "outputs": [
    {
     "data": {
      "text/plain": [
       "[('Python', 'NNP'),\n",
       " ('interpreted', 'VBD'),\n",
       " (',', ','),\n",
       " ('object-oriented', 'JJ'),\n",
       " (',', ','),\n",
       " ('high-level', 'JJ'),\n",
       " ('programming', 'NN'),\n",
       " ('language', 'NN'),\n",
       " ('dynamic', 'JJ'),\n",
       " ('semantics', 'NNS'),\n",
       " ('.', '.'),\n",
       " ('high-level', 'NN'),\n",
       " ('built', 'VBN'),\n",
       " ('data', 'NNS'),\n",
       " ('structures', 'NNS'),\n",
       " (',', ','),\n",
       " ('combined', 'VBN'),\n",
       " ('dynamic', 'JJ'),\n",
       " ('typing', 'VBG'),\n",
       " ('dynamic', 'JJ'),\n",
       " ('binding', 'NN'),\n",
       " (',', ','),\n",
       " ('make', 'VBP'),\n",
       " ('attractive', 'JJ'),\n",
       " ('Rapid', 'NNP'),\n",
       " ('Application', 'NNP'),\n",
       " ('Development', 'NNP'),\n",
       " (',', ','),\n",
       " ('well', 'RB'),\n",
       " ('use', 'IN'),\n",
       " ('scripting', 'VBG'),\n",
       " ('glue', 'JJ'),\n",
       " ('language', 'NN'),\n",
       " ('connect', 'NN'),\n",
       " ('existing', 'VBG'),\n",
       " ('components', 'NNS'),\n",
       " ('together', 'RB'),\n",
       " ('.', '.'),\n",
       " ('Python', 'NNP'),\n",
       " (\"'s\", 'POS'),\n",
       " ('simple', 'NN'),\n",
       " (',', ','),\n",
       " ('easy', 'JJ'),\n",
       " ('learn', 'JJ'),\n",
       " ('syntax', 'NN'),\n",
       " ('emphasizes', 'VBZ'),\n",
       " ('readability', 'NN'),\n",
       " ('therefore', 'RB'),\n",
       " ('reduces', 'VBZ'),\n",
       " ('cost', 'NN'),\n",
       " ('program', 'NN'),\n",
       " ('maintenance', 'NN'),\n",
       " ('.', '.'),\n",
       " ('Python', 'NNP'),\n",
       " ('supports', 'VBZ'),\n",
       " ('modules', 'NNS'),\n",
       " ('packages', 'NNS'),\n",
       " (',', ','),\n",
       " ('encourages', 'VBZ'),\n",
       " ('program', 'NN'),\n",
       " ('modularity', 'NN'),\n",
       " ('code', 'NN'),\n",
       " ('reuse', 'NN'),\n",
       " ('.', '.'),\n",
       " ('Python', 'NNP'),\n",
       " ('interpreter', 'RB'),\n",
       " ('extensive', 'JJ'),\n",
       " ('standard', 'NN'),\n",
       " ('library', 'NN'),\n",
       " ('available', 'JJ'),\n",
       " ('source', 'NN'),\n",
       " ('binary', 'JJ'),\n",
       " ('form', 'NN'),\n",
       " ('without', 'IN'),\n",
       " ('charge', 'NN'),\n",
       " ('major', 'JJ'),\n",
       " ('platforms', 'NNS'),\n",
       " (',', ','),\n",
       " ('freely', 'RB'),\n",
       " ('distributed', 'VBN'),\n",
       " ('.', '.')]"
      ]
     },
     "execution_count": 40,
     "metadata": {},
     "output_type": "execute_result"
    }
   ],
   "source": [
    "pos_tags\n",
    "# parts of speech --> pos"
   ]
  },
  {
   "cell_type": "code",
   "execution_count": 43,
   "id": "06dfb6c3-672f-4624-bf51-86409a7b69a4",
   "metadata": {},
   "outputs": [
    {
     "data": {
      "text/plain": [
       "'pie'"
      ]
     },
     "execution_count": 43,
     "metadata": {},
     "output_type": "execute_result"
    }
   ],
   "source": [
    "lemma.lemmatize(\"pieses\")"
   ]
  },
  {
   "cell_type": "code",
   "execution_count": 44,
   "id": "905f2861-5e99-4be4-bbbc-7d49f542fe2e",
   "metadata": {},
   "outputs": [
    {
     "data": {
      "text/plain": [
       "'work'"
      ]
     },
     "execution_count": 44,
     "metadata": {},
     "output_type": "execute_result"
    }
   ],
   "source": [
    "lemma.lemmatize(\"working\",\"v\")"
   ]
  },
  {
   "cell_type": "code",
   "execution_count": 45,
   "id": "3b51eaea-2b46-420e-9323-b4308bac9336",
   "metadata": {},
   "outputs": [
    {
     "data": {
      "text/plain": [
       "'combine'"
      ]
     },
     "execution_count": 45,
     "metadata": {},
     "output_type": "execute_result"
    }
   ],
   "source": [
    "lemma.lemmatize(\"combined\",\"v\")\n",
    "# change for verb"
   ]
  },
  {
   "cell_type": "code",
   "execution_count": 51,
   "id": "1e9e9ed2-e36b-4b3a-b51b-297eee8973c8",
   "metadata": {},
   "outputs": [
    {
     "data": {
      "text/plain": [
       "'programming'"
      ]
     },
     "execution_count": 51,
     "metadata": {},
     "output_type": "execute_result"
    }
   ],
   "source": [
    "lemma.lemmatize(\"programming\",\"n\")\n",
    "# no change for noun"
   ]
  },
  {
   "cell_type": "code",
   "execution_count": 83,
   "id": "f6ab7d73-ea4b-4409-91ac-017b942b7d64",
   "metadata": {},
   "outputs": [],
   "source": [
    "from nltk import ne_chunk"
   ]
  },
  {
   "cell_type": "code",
   "execution_count": 84,
   "id": "60431537-42e0-48b5-9086-57685f9424e5",
   "metadata": {},
   "outputs": [
    {
     "data": {
      "text/plain": [
       "'NLTK is a leading platform for building python programs to work with human language data.'"
      ]
     },
     "execution_count": 84,
     "metadata": {},
     "output_type": "execute_result"
    }
   ],
   "source": [
    "text"
   ]
  },
  {
   "cell_type": "code",
   "execution_count": 85,
   "id": "b6d89f9b-99d6-4d6f-bda4-729c175be42f",
   "metadata": {},
   "outputs": [
    {
     "data": {
      "text/plain": [
       "['NLTK',\n",
       " 'is',\n",
       " 'a',\n",
       " 'leading',\n",
       " 'platform',\n",
       " 'for',\n",
       " 'building',\n",
       " 'python',\n",
       " 'programs',\n",
       " 'to',\n",
       " 'work',\n",
       " 'with',\n",
       " 'human',\n",
       " 'language',\n",
       " 'data',\n",
       " '.']"
      ]
     },
     "execution_count": 85,
     "metadata": {},
     "output_type": "execute_result"
    }
   ],
   "source": [
    "tokens\n"
   ]
  },
  {
   "cell_type": "code",
   "execution_count": 86,
   "id": "3a39ef7c-c8b9-4270-91bf-5644d728ebd4",
   "metadata": {},
   "outputs": [],
   "source": [
    "pos_tag_tokens = pos_tag(tokens)"
   ]
  },
  {
   "cell_type": "code",
   "execution_count": 87,
   "id": "45f0fe71-9d49-4e00-9e3a-bd34c8dd048e",
   "metadata": {},
   "outputs": [
    {
     "data": {
      "text/plain": [
       "[('NLTK', 'NNP'),\n",
       " ('is', 'VBZ'),\n",
       " ('a', 'DT'),\n",
       " ('leading', 'VBG'),\n",
       " ('platform', 'NN'),\n",
       " ('for', 'IN'),\n",
       " ('building', 'VBG'),\n",
       " ('python', 'NN'),\n",
       " ('programs', 'NNS'),\n",
       " ('to', 'TO'),\n",
       " ('work', 'VB'),\n",
       " ('with', 'IN'),\n",
       " ('human', 'JJ'),\n",
       " ('language', 'NN'),\n",
       " ('data', 'NNS'),\n",
       " ('.', '.')]"
      ]
     },
     "execution_count": 87,
     "metadata": {},
     "output_type": "execute_result"
    }
   ],
   "source": [
    "pos_tag_tokens"
   ]
  },
  {
   "cell_type": "code",
   "execution_count": 88,
   "id": "9a6030b8-f647-469f-8dce-5dc28f49de2a",
   "metadata": {},
   "outputs": [],
   "source": [
    "ner_tags = ne_chunk(pos_tag_tokens)"
   ]
  },
  {
   "cell_type": "code",
   "execution_count": 89,
   "id": "da0b2662-e76f-46f0-8b81-ab7ebcd96d81",
   "metadata": {},
   "outputs": [
    {
     "data": {
      "image/svg+xml": [
       "<svg baseProfile=\"full\" height=\"168px\" preserveAspectRatio=\"xMidYMid meet\" style=\"font-family: times, serif; font-weight: normal; font-style: normal; font-size: 16px;\" version=\"1.1\" viewBox=\"0,0,936.0,168.0\" width=\"936px\" xmlns=\"http://www.w3.org/2000/svg\" xmlns:ev=\"http://www.w3.org/2001/xml-events\" xmlns:xlink=\"http://www.w3.org/1999/xlink\"><defs /><svg width=\"100%\" x=\"0\" y=\"0px\"><defs /><text text-anchor=\"middle\" x=\"50%\" y=\"16px\">S</text></svg><svg width=\"11.9658%\" x=\"0%\" y=\"48px\"><defs /><svg width=\"100%\" x=\"0\" y=\"0px\"><defs /><text text-anchor=\"middle\" x=\"50%\" y=\"16px\">ORGANIZATION</text></svg><svg width=\"100%\" x=\"0%\" y=\"48px\"><defs /><svg width=\"100%\" x=\"0\" y=\"0px\"><defs /><text text-anchor=\"middle\" x=\"50%\" y=\"16px\">NLTK</text></svg><svg width=\"100%\" x=\"0%\" y=\"48px\"><defs /><svg width=\"100%\" x=\"0\" y=\"0px\"><defs /><text text-anchor=\"middle\" x=\"50%\" y=\"16px\">NNP</text></svg></svg><line stroke=\"black\" x1=\"50%\" x2=\"50%\" y1=\"19.2px\" y2=\"48px\" /></svg><line stroke=\"black\" x1=\"50%\" x2=\"50%\" y1=\"19.2px\" y2=\"48px\" /></svg><line stroke=\"black\" x1=\"50%\" x2=\"5.98291%\" y1=\"19.2px\" y2=\"48px\" /><svg width=\"4.2735%\" x=\"11.9658%\" y=\"48px\"><defs /><svg width=\"100%\" x=\"0\" y=\"0px\"><defs /><text text-anchor=\"middle\" x=\"50%\" y=\"16px\">is</text></svg><svg width=\"100%\" x=\"0%\" y=\"48px\"><defs /><svg width=\"100%\" x=\"0\" y=\"0px\"><defs /><text text-anchor=\"middle\" x=\"50%\" y=\"16px\">VBZ</text></svg></svg><line stroke=\"black\" x1=\"50%\" x2=\"50%\" y1=\"19.2px\" y2=\"48px\" /></svg><line stroke=\"black\" x1=\"50%\" x2=\"14.1026%\" y1=\"19.2px\" y2=\"48px\" /><svg width=\"3.4188%\" x=\"16.2393%\" y=\"48px\"><defs /><svg width=\"100%\" x=\"0\" y=\"0px\"><defs /><text text-anchor=\"middle\" x=\"50%\" y=\"16px\">a</text></svg><svg width=\"100%\" x=\"0%\" y=\"48px\"><defs /><svg width=\"100%\" x=\"0\" y=\"0px\"><defs /><text text-anchor=\"middle\" x=\"50%\" y=\"16px\">DT</text></svg></svg><line stroke=\"black\" x1=\"50%\" x2=\"50%\" y1=\"19.2px\" y2=\"48px\" /></svg><line stroke=\"black\" x1=\"50%\" x2=\"17.9487%\" y1=\"19.2px\" y2=\"48px\" /><svg width=\"7.69231%\" x=\"19.6581%\" y=\"48px\"><defs /><svg width=\"100%\" x=\"0\" y=\"0px\"><defs /><text text-anchor=\"middle\" x=\"50%\" y=\"16px\">leading</text></svg><svg width=\"100%\" x=\"0%\" y=\"48px\"><defs /><svg width=\"100%\" x=\"0\" y=\"0px\"><defs /><text text-anchor=\"middle\" x=\"50%\" y=\"16px\">VBG</text></svg></svg><line stroke=\"black\" x1=\"50%\" x2=\"50%\" y1=\"19.2px\" y2=\"48px\" /></svg><line stroke=\"black\" x1=\"50%\" x2=\"23.5043%\" y1=\"19.2px\" y2=\"48px\" /><svg width=\"8.54701%\" x=\"27.3504%\" y=\"48px\"><defs /><svg width=\"100%\" x=\"0\" y=\"0px\"><defs /><text text-anchor=\"middle\" x=\"50%\" y=\"16px\">platform</text></svg><svg width=\"100%\" x=\"0%\" y=\"48px\"><defs /><svg width=\"100%\" x=\"0\" y=\"0px\"><defs /><text text-anchor=\"middle\" x=\"50%\" y=\"16px\">NN</text></svg></svg><line stroke=\"black\" x1=\"50%\" x2=\"50%\" y1=\"19.2px\" y2=\"48px\" /></svg><line stroke=\"black\" x1=\"50%\" x2=\"31.6239%\" y1=\"19.2px\" y2=\"48px\" /><svg width=\"4.2735%\" x=\"35.8974%\" y=\"48px\"><defs /><svg width=\"100%\" x=\"0\" y=\"0px\"><defs /><text text-anchor=\"middle\" x=\"50%\" y=\"16px\">for</text></svg><svg width=\"100%\" x=\"0%\" y=\"48px\"><defs /><svg width=\"100%\" x=\"0\" y=\"0px\"><defs /><text text-anchor=\"middle\" x=\"50%\" y=\"16px\">IN</text></svg></svg><line stroke=\"black\" x1=\"50%\" x2=\"50%\" y1=\"19.2px\" y2=\"48px\" /></svg><line stroke=\"black\" x1=\"50%\" x2=\"38.0342%\" y1=\"19.2px\" y2=\"48px\" /><svg width=\"8.54701%\" x=\"40.1709%\" y=\"48px\"><defs /><svg width=\"100%\" x=\"0\" y=\"0px\"><defs /><text text-anchor=\"middle\" x=\"50%\" y=\"16px\">building</text></svg><svg width=\"100%\" x=\"0%\" y=\"48px\"><defs /><svg width=\"100%\" x=\"0\" y=\"0px\"><defs /><text text-anchor=\"middle\" x=\"50%\" y=\"16px\">VBG</text></svg></svg><line stroke=\"black\" x1=\"50%\" x2=\"50%\" y1=\"19.2px\" y2=\"48px\" /></svg><line stroke=\"black\" x1=\"50%\" x2=\"44.4444%\" y1=\"19.2px\" y2=\"48px\" /><svg width=\"6.83761%\" x=\"48.7179%\" y=\"48px\"><defs /><svg width=\"100%\" x=\"0\" y=\"0px\"><defs /><text text-anchor=\"middle\" x=\"50%\" y=\"16px\">python</text></svg><svg width=\"100%\" x=\"0%\" y=\"48px\"><defs /><svg width=\"100%\" x=\"0\" y=\"0px\"><defs /><text text-anchor=\"middle\" x=\"50%\" y=\"16px\">NN</text></svg></svg><line stroke=\"black\" x1=\"50%\" x2=\"50%\" y1=\"19.2px\" y2=\"48px\" /></svg><line stroke=\"black\" x1=\"50%\" x2=\"52.1368%\" y1=\"19.2px\" y2=\"48px\" /><svg width=\"8.54701%\" x=\"55.5556%\" y=\"48px\"><defs /><svg width=\"100%\" x=\"0\" y=\"0px\"><defs /><text text-anchor=\"middle\" x=\"50%\" y=\"16px\">programs</text></svg><svg width=\"100%\" x=\"0%\" y=\"48px\"><defs /><svg width=\"100%\" x=\"0\" y=\"0px\"><defs /><text text-anchor=\"middle\" x=\"50%\" y=\"16px\">NNS</text></svg></svg><line stroke=\"black\" x1=\"50%\" x2=\"50%\" y1=\"19.2px\" y2=\"48px\" /></svg><line stroke=\"black\" x1=\"50%\" x2=\"59.8291%\" y1=\"19.2px\" y2=\"48px\" /><svg width=\"3.4188%\" x=\"64.1026%\" y=\"48px\"><defs /><svg width=\"100%\" x=\"0\" y=\"0px\"><defs /><text text-anchor=\"middle\" x=\"50%\" y=\"16px\">to</text></svg><svg width=\"100%\" x=\"0%\" y=\"48px\"><defs /><svg width=\"100%\" x=\"0\" y=\"0px\"><defs /><text text-anchor=\"middle\" x=\"50%\" y=\"16px\">TO</text></svg></svg><line stroke=\"black\" x1=\"50%\" x2=\"50%\" y1=\"19.2px\" y2=\"48px\" /></svg><line stroke=\"black\" x1=\"50%\" x2=\"65.812%\" y1=\"19.2px\" y2=\"48px\" /><svg width=\"5.12821%\" x=\"67.5214%\" y=\"48px\"><defs /><svg width=\"100%\" x=\"0\" y=\"0px\"><defs /><text text-anchor=\"middle\" x=\"50%\" y=\"16px\">work</text></svg><svg width=\"100%\" x=\"0%\" y=\"48px\"><defs /><svg width=\"100%\" x=\"0\" y=\"0px\"><defs /><text text-anchor=\"middle\" x=\"50%\" y=\"16px\">VB</text></svg></svg><line stroke=\"black\" x1=\"50%\" x2=\"50%\" y1=\"19.2px\" y2=\"48px\" /></svg><line stroke=\"black\" x1=\"50%\" x2=\"70.0855%\" y1=\"19.2px\" y2=\"48px\" /><svg width=\"5.12821%\" x=\"72.6496%\" y=\"48px\"><defs /><svg width=\"100%\" x=\"0\" y=\"0px\"><defs /><text text-anchor=\"middle\" x=\"50%\" y=\"16px\">with</text></svg><svg width=\"100%\" x=\"0%\" y=\"48px\"><defs /><svg width=\"100%\" x=\"0\" y=\"0px\"><defs /><text text-anchor=\"middle\" x=\"50%\" y=\"16px\">IN</text></svg></svg><line stroke=\"black\" x1=\"50%\" x2=\"50%\" y1=\"19.2px\" y2=\"48px\" /></svg><line stroke=\"black\" x1=\"50%\" x2=\"75.2137%\" y1=\"19.2px\" y2=\"48px\" /><svg width=\"5.98291%\" x=\"77.7778%\" y=\"48px\"><defs /><svg width=\"100%\" x=\"0\" y=\"0px\"><defs /><text text-anchor=\"middle\" x=\"50%\" y=\"16px\">human</text></svg><svg width=\"100%\" x=\"0%\" y=\"48px\"><defs /><svg width=\"100%\" x=\"0\" y=\"0px\"><defs /><text text-anchor=\"middle\" x=\"50%\" y=\"16px\">JJ</text></svg></svg><line stroke=\"black\" x1=\"50%\" x2=\"50%\" y1=\"19.2px\" y2=\"48px\" /></svg><line stroke=\"black\" x1=\"50%\" x2=\"80.7692%\" y1=\"19.2px\" y2=\"48px\" /><svg width=\"8.54701%\" x=\"83.7607%\" y=\"48px\"><defs /><svg width=\"100%\" x=\"0\" y=\"0px\"><defs /><text text-anchor=\"middle\" x=\"50%\" y=\"16px\">language</text></svg><svg width=\"100%\" x=\"0%\" y=\"48px\"><defs /><svg width=\"100%\" x=\"0\" y=\"0px\"><defs /><text text-anchor=\"middle\" x=\"50%\" y=\"16px\">NN</text></svg></svg><line stroke=\"black\" x1=\"50%\" x2=\"50%\" y1=\"19.2px\" y2=\"48px\" /></svg><line stroke=\"black\" x1=\"50%\" x2=\"88.0342%\" y1=\"19.2px\" y2=\"48px\" /><svg width=\"5.12821%\" x=\"92.3077%\" y=\"48px\"><defs /><svg width=\"100%\" x=\"0\" y=\"0px\"><defs /><text text-anchor=\"middle\" x=\"50%\" y=\"16px\">data</text></svg><svg width=\"100%\" x=\"0%\" y=\"48px\"><defs /><svg width=\"100%\" x=\"0\" y=\"0px\"><defs /><text text-anchor=\"middle\" x=\"50%\" y=\"16px\">NNS</text></svg></svg><line stroke=\"black\" x1=\"50%\" x2=\"50%\" y1=\"19.2px\" y2=\"48px\" /></svg><line stroke=\"black\" x1=\"50%\" x2=\"94.8718%\" y1=\"19.2px\" y2=\"48px\" /><svg width=\"2.5641%\" x=\"97.4359%\" y=\"48px\"><defs /><svg width=\"100%\" x=\"0\" y=\"0px\"><defs /><text text-anchor=\"middle\" x=\"50%\" y=\"16px\">.</text></svg><svg width=\"100%\" x=\"0%\" y=\"48px\"><defs /><svg width=\"100%\" x=\"0\" y=\"0px\"><defs /><text text-anchor=\"middle\" x=\"50%\" y=\"16px\">.</text></svg></svg><line stroke=\"black\" x1=\"50%\" x2=\"50%\" y1=\"19.2px\" y2=\"48px\" /></svg><line stroke=\"black\" x1=\"50%\" x2=\"98.7179%\" y1=\"19.2px\" y2=\"48px\" /></svg>"
      ],
      "text/plain": [
       "Tree('S', [Tree('ORGANIZATION', [('NLTK', 'NNP')]), ('is', 'VBZ'), ('a', 'DT'), ('leading', 'VBG'), ('platform', 'NN'), ('for', 'IN'), ('building', 'VBG'), ('python', 'NN'), ('programs', 'NNS'), ('to', 'TO'), ('work', 'VB'), ('with', 'IN'), ('human', 'JJ'), ('language', 'NN'), ('data', 'NNS'), ('.', '.')])"
      ]
     },
     "execution_count": 89,
     "metadata": {},
     "output_type": "execute_result"
    }
   ],
   "source": [
    "ner_tags\n",
    "#In light theme you can see the diagram"
   ]
  },
  {
   "cell_type": "code",
   "execution_count": 69,
   "id": "ab772c98-6806-4328-b799-8611a9e82cce",
   "metadata": {},
   "outputs": [],
   "source": [
    "from nltk import FreqDist"
   ]
  },
  {
   "cell_type": "code",
   "execution_count": 70,
   "id": "41a32c63-5f12-4c14-a703-09b5d43ee504",
   "metadata": {
    "scrolled": true
   },
   "outputs": [
    {
     "data": {
      "text/plain": [
       "['Python',\n",
       " 'interpreted',\n",
       " ',',\n",
       " 'object-oriented',\n",
       " ',',\n",
       " 'high-level',\n",
       " 'programming',\n",
       " 'language',\n",
       " 'dynamic',\n",
       " 'semantics',\n",
       " '.',\n",
       " 'high-level',\n",
       " 'built',\n",
       " 'data',\n",
       " 'structures',\n",
       " ',',\n",
       " 'combined',\n",
       " 'dynamic',\n",
       " 'typing',\n",
       " 'dynamic',\n",
       " 'binding',\n",
       " ',',\n",
       " 'make',\n",
       " 'attractive',\n",
       " 'Rapid',\n",
       " 'Application',\n",
       " 'Development',\n",
       " ',',\n",
       " 'well',\n",
       " 'use',\n",
       " 'scripting',\n",
       " 'glue',\n",
       " 'language',\n",
       " 'connect',\n",
       " 'existing',\n",
       " 'components',\n",
       " 'together',\n",
       " '.',\n",
       " 'Python',\n",
       " \"'s\",\n",
       " 'simple',\n",
       " ',',\n",
       " 'easy',\n",
       " 'learn',\n",
       " 'syntax',\n",
       " 'emphasizes',\n",
       " 'readability',\n",
       " 'therefore',\n",
       " 'reduces',\n",
       " 'cost',\n",
       " 'program',\n",
       " 'maintenance',\n",
       " '.',\n",
       " 'Python',\n",
       " 'supports',\n",
       " 'modules',\n",
       " 'packages',\n",
       " ',',\n",
       " 'encourages',\n",
       " 'program',\n",
       " 'modularity',\n",
       " 'code',\n",
       " 'reuse',\n",
       " '.',\n",
       " 'Python',\n",
       " 'interpreter',\n",
       " 'extensive',\n",
       " 'standard',\n",
       " 'library',\n",
       " 'available',\n",
       " 'source',\n",
       " 'binary',\n",
       " 'form',\n",
       " 'without',\n",
       " 'charge',\n",
       " 'major',\n",
       " 'platforms',\n",
       " ',',\n",
       " 'freely',\n",
       " 'distributed',\n",
       " '.']"
      ]
     },
     "execution_count": 70,
     "metadata": {},
     "output_type": "execute_result"
    }
   ],
   "source": [
    "filtered_text"
   ]
  },
  {
   "cell_type": "code",
   "execution_count": 73,
   "id": "47d5f3ef-1060-48d3-b124-799740d51f11",
   "metadata": {},
   "outputs": [],
   "source": [
    "freq = FreqDist(filtered_text)"
   ]
  },
  {
   "cell_type": "code",
   "execution_count": 74,
   "id": "2cf8580b-fba1-4910-8141-f496f31b1f37",
   "metadata": {},
   "outputs": [
    {
     "data": {
      "text/plain": [
       "[(',', 8),\n",
       " ('.', 5),\n",
       " ('Python', 4),\n",
       " ('dynamic', 3),\n",
       " ('high-level', 2),\n",
       " ('language', 2),\n",
       " ('program', 2),\n",
       " ('interpreted', 1),\n",
       " ('object-oriented', 1),\n",
       " ('programming', 1)]"
      ]
     },
     "execution_count": 74,
     "metadata": {},
     "output_type": "execute_result"
    }
   ],
   "source": [
    "freq.most_common(10)"
   ]
  },
  {
   "cell_type": "code",
   "execution_count": null,
   "id": "19295f26-653b-4c3f-99df-4684443109b1",
   "metadata": {},
   "outputs": [],
   "source": []
  }
 ],
 "metadata": {
  "kernelspec": {
   "display_name": "Python 3 (ipykernel)",
   "language": "python",
   "name": "python3"
  },
  "language_info": {
   "codemirror_mode": {
    "name": "ipython",
    "version": 3
   },
   "file_extension": ".py",
   "mimetype": "text/x-python",
   "name": "python",
   "nbconvert_exporter": "python",
   "pygments_lexer": "ipython3",
   "version": "3.12.0"
  }
 },
 "nbformat": 4,
 "nbformat_minor": 5
}
